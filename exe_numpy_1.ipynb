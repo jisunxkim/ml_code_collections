{
 "cells": [
  {
   "cell_type": "code",
   "execution_count": 1,
   "metadata": {},
   "outputs": [],
   "source": [
    "import numpy as np"
   ]
  },
  {
   "cell_type": "markdown",
   "metadata": {},
   "source": [
    "## numpy boradcasting.   \n",
    "The term broadcasting describes how NumPy treats arrays with different shapes during arithmetic operations. Subject to certain constraints, the smaller array is “broadcast” across the larger array so that they have compatible shapes.  \n",
    "When operating on two arrays, NumPy compares their shapes element-wise. It starts with the trailing (i.e. rightmost) dimension and works its way left. Two dimensions are compatible when\n",
    " - they are equal, or. \n",
    " - one of them is 1.   \n",
    "\n",
    "If these conditions are not met, a ValueError: operands could not be broadcast together exception is thrown, indicating that the arrays have incompatible shapes.   \n",
    "* Note that missing dimensions are assumed to have size one.  \n",
    "For example, if you have a 256x256x3 array of RGB values, and you want to scale each color in the image by a different value, you can multiply the image by a one-dimensional array with 3 values. Lining up the sizes of the trailing axes of these arrays according to the broadcast rules, shows that they are compatible:  \n",
    "\n",
    "\tImage  (3d array): 256 x 256 x 3  \n",
    "\tScale  (1d array):             3  => 1 x 1 x 3 => each 1 stretched (copied) \n",
    "\tResult (3d array): 256 x 256 x 3  \n",
    "\n",
    "When either of the dimensions compared is one, the other is used. In other words, dimensions with size 1 are stretched or “copied” to match the other.   \n",
    "In the following example, both the A and B arrays have axes with length one that are expanded to a larger size during the broadcast operation:  \n",
    "\n",
    "```\n",
    "\tA      (4d array):  8 x 1 x 6 x 1   \n",
    "\tB      (3d array):      7 x 1 x 5    \n",
    "\tResult (4d array):  8 x 7 x 6 x 5    \n",
    "\n",
    "\tA      (2d array):  5 x 4  \n",
    "\tB      (1d array):      1  \n",
    "\tResult (2d array):  5 x 4  \n",
    "\n",
    "\tA      (2d array):  5 x 4  \n",
    "\tB      (1d array):      4  \n",
    "\tResult (2d array):  5 x 4  \n",
    "\n",
    "\tA      (3d array):  15 x 3 x 5  \n",
    "\tB      (3d array):  15 x 1 x 5  \n",
    "\tResult (3d array):  15 x 3 x 5  \n",
    "\n",
    "\tA      (3d array):  15 x 3 x 5  \n",
    "\tB      (2d array):       3 x 5  \n",
    "\tResult (3d array):  15 x 3 x 5  \n",
    "\n",
    "\tA      (3d array):  15 x 3 x 5  \n",
    "\tB      (2d array):       3 x 1  \n",
    "\tResult (3d array):  15 x 3 x 5. \n",
    "```\n",
    "\"should define which dimention should be copied!!!\" => make the dimention 1"
   ]
  },
  {
   "cell_type": "code",
   "execution_count": 22,
   "metadata": {},
   "outputs": [
    {
     "name": "stdout",
     "output_type": "stream",
     "text": [
      "pints: \n",
      "[[2 4 1]\n",
      " [1 4 2]]\n",
      "center: \n",
      "[1.5 4.  1.5]\n",
      "square_diff : \n",
      "[[0.25 0.   0.25]\n",
      " [0.25 0.   0.25]]\n",
      "distance: \n",
      "[0.70710678 0.70710678]\n"
     ]
    },
    {
     "data": {
      "text/plain": [
       "array([0.70710678, 0.70710678])"
      ]
     },
     "execution_count": 22,
     "metadata": {},
     "output_type": "execute_result"
    }
   ],
   "source": [
    "# 2 data x 3 features \n",
    "np.random.seed(1)\n",
    "arr1 = np.random.randint(1,5, size=(2,3))\n",
    "print(\"pints: \", arr1, sep='\\n')\n",
    "\n",
    "# their center 1 data x 3 feature\n",
    "centroid = arr1.mean(axis=0)\n",
    "print(\"center: \", centroid, sep='\\n')\n",
    "\n",
    "#distance from the center to the points\n",
    "# distance from point(x1, x2) to center(c1, c2)\n",
    "# sqrt((x1-c1)**2 + (x2-c2)**2 + (x3-c3))\n",
    "square_diff = np.power(arr1 - centroid, 2)\n",
    "print(\"square_diff : \", square_diff, sep='\\n')\n",
    "distance = np.sqrt(np.sum(square_diff, axis=1))\n",
    "print('distance: ', distance, sep='\\n')\n",
    "np.linalg.norm(arr1-centroid, axis=1)"
   ]
  },
  {
   "cell_type": "code",
   "execution_count": 36,
   "metadata": {},
   "outputs": [
    {
     "name": "stdout",
     "output_type": "stream",
     "text": [
      "(1, 3)\n",
      "[[-2  3 -2]\n",
      " [ 1  3 -1]]\n",
      "[[ 2 -3  2]\n",
      " [-1 -3  1]]\n"
     ]
    }
   ],
   "source": [
    "# (3,) or (1,3) - (2,3) = (2,3)\n",
    "# boradcasting\n",
    "a1 = np.array([2,4,1]).reshape((-1,3))\n",
    "a2 = np.array([[4, 1, 3], [1, 1, 2]])\n",
    "print(a1.shape)\n",
    "print(a1 - a2)\n",
    "print(a2 - a1)"
   ]
  },
  {
   "cell_type": "code",
   "execution_count": 99,
   "metadata": {},
   "outputs": [
    {
     "name": "stdout",
     "output_type": "stream",
     "text": [
      "points:\n",
      "[[0.96826158 0.31342418 0.69232262]\n",
      " [0.87638915 0.89460666 0.08504421]\n",
      " [0.03905478 0.16983042 0.8781425 ]\n",
      " [0.09834683 0.42110763 0.95788953]\n",
      " [0.53316528 0.69187711 0.31551563]\n",
      " [0.68650093 0.83462567 0.01828828]\n",
      " [0.75014431 0.98886109 0.74816565]\n",
      " [0.28044399 0.78927933 0.10322601]\n",
      " [0.44789353 0.9085955  0.29361415]\n",
      " [0.28777534 0.13002857 0.01936696]]\n"
     ]
    }
   ],
   "source": [
    "# points: (5,3) - centroids: (2, 3) \n",
    "# => (5,3) - (2,1,3) => (5, 3) - (2, 5, 3)\n",
    "# => (1, 5, 3) - (2, 5, 3) => (2, 5, 3) - (2, 5, 3)\n",
    "# => (2,5,3)\n",
    "\n",
    "# distance from pints to centroids\n",
    "# => (2, 5)\n",
    "\n",
    "# points (m x n), m: number of points, n: features\n",
    "m = 10\n",
    "n = 3\n",
    "\n",
    "# data\n",
    "points = np.random.random(size=(m,n))\n",
    "print('points:', points, sep='\\n')\n"
   ]
  },
  {
   "cell_type": "code",
   "execution_count": 98,
   "metadata": {},
   "outputs": [
    {
     "name": "stdout",
     "output_type": "stream",
     "text": [
      "points - centroids: \n",
      "[[[1 1 1]\n",
      "  [1 1 1]\n",
      "  [1 1 1]\n",
      "  [1 1 1]\n",
      "  [1 1 1]]\n",
      "\n",
      " [[0 0 0]\n",
      "  [0 0 0]\n",
      "  [0 0 0]\n",
      "  [0 0 0]\n",
      "  [0 0 0]]]\n",
      "diff shape:\n",
      "(2, 5, 3)\n",
      "distances: clusters x points \n",
      "[[1.73205081 1.73205081 1.73205081 1.73205081 1.73205081]\n",
      " [0.         0.         0.         0.         0.        ]]\n",
      "nearest cluster of the points: \n",
      "[1 1 1 1 1]\n"
     ]
    }
   ],
   "source": [
    "# find nearest centroids from the points\n",
    "diff = points - centroids[:,np.newaxis]\n",
    "print('points - centroids: ', diff, 'diff shape:',diff.shape, sep='\\n')\n",
    "distances = np.linalg.norm(diff, axis=(2))\n",
    "print('distances: clusters x points ', distances, sep='\\n')\n",
    "cluster_lables = np.argmin(distances, axis=0)\n",
    "print('nearest cluster of the points: ', cluster_lables, sep='\\n')\n"
   ]
  },
  {
   "cell_type": "code",
   "execution_count": null,
   "metadata": {},
   "outputs": [],
   "source": []
  },
  {
   "cell_type": "code",
   "execution_count": 29,
   "metadata": {},
   "outputs": [
    {
     "name": "stdout",
     "output_type": "stream",
     "text": [
      "pints: \n",
      "[[2 4 1]\n",
      " [1 4 2]\n",
      " [4 2 4]\n",
      " [1 1 2]\n",
      " [1 4 2]\n",
      " [1 3 2]\n",
      " [3 1 3]\n",
      " [2 3 1]\n",
      " [4 1 3]\n",
      " [1 2 3]]\n",
      "2 groups centers: \n",
      "[[4 1 3]\n",
      " [1 1 2]]\n"
     ]
    },
    {
     "ename": "ValueError",
     "evalue": "operands could not be broadcast together with shapes (10,3) (2,3) ",
     "output_type": "error",
     "traceback": [
      "\u001b[0;31m---------------------------------------------------------------------------\u001b[0m",
      "\u001b[0;31mValueError\u001b[0m                                Traceback (most recent call last)",
      "Cell \u001b[0;32mIn[29], line 15\u001b[0m\n\u001b[1;32m     10\u001b[0m \u001b[38;5;28mprint\u001b[39m(\u001b[38;5;124mf\u001b[39m\u001b[38;5;124m'\u001b[39m\u001b[38;5;132;01m{\u001b[39;00mk\u001b[38;5;132;01m}\u001b[39;00m\u001b[38;5;124m groups centers: \u001b[39m\u001b[38;5;124m'\u001b[39m, centroids, sep\u001b[38;5;241m=\u001b[39m\u001b[38;5;124m'\u001b[39m\u001b[38;5;130;01m\\n\u001b[39;00m\u001b[38;5;124m'\u001b[39m)\n\u001b[1;32m     12\u001b[0m \u001b[38;5;66;03m# distance from the points to k number of centers\u001b[39;00m\n\u001b[1;32m     13\u001b[0m \u001b[38;5;66;03m# points: 10x3, centroids: 2x3\u001b[39;00m\n\u001b[1;32m     14\u001b[0m \u001b[38;5;66;03m# distance: 10x2x3 (10 data x 2 clusters x 3 features)\u001b[39;00m\n\u001b[0;32m---> 15\u001b[0m diff \u001b[38;5;241m=\u001b[39m \u001b[43marr1\u001b[49m\u001b[43m \u001b[49m\u001b[38;5;241;43m-\u001b[39;49m\u001b[43m \u001b[49m\u001b[43mcentroids\u001b[49m\n\u001b[1;32m     16\u001b[0m \u001b[38;5;28mprint\u001b[39m(\u001b[38;5;124m\"\u001b[39m\u001b[38;5;124mpoints - centroids: \u001b[39m\u001b[38;5;124m\"\u001b[39m, diff, sep\u001b[38;5;241m=\u001b[39m\u001b[38;5;124m'\u001b[39m\u001b[38;5;130;01m\\n\u001b[39;00m\u001b[38;5;124m'\u001b[39m)\n",
      "\u001b[0;31mValueError\u001b[0m: operands could not be broadcast together with shapes (10,3) (2,3) "
     ]
    }
   ],
   "source": [
    "# number of cluster k \n",
    "k = 2 \n",
    "\n",
    "# 10 data x 3 features \n",
    "np.random.seed(1)\n",
    "arr1 = np.random.randint(1,5, size=(10,3))\n",
    "print(\"pints: \", arr1, sep='\\n')\n",
    "centroids = arr1[np.random.choice(\n",
    "    arr1.shape[0], size=k, replace=False)]\n",
    "print(f'{k} groups centers: ', centroids, sep='\\n')\n",
    "\n",
    "# distance from the points to k number of centers\n",
    "# points: 10x3, centroids: 2x3\n",
    "# distance: 10x2x3 (10 data x 2 clusters x 3 features)\n",
    "diff = arr1 - centroids\n",
    "print(\"points - centroids: \", diff, sep='\\n')"
   ]
  },
  {
   "cell_type": "code",
   "execution_count": 52,
   "metadata": {},
   "outputs": [
    {
     "name": "stdout",
     "output_type": "stream",
     "text": [
      "points:\n",
      "[[2 4 1]\n",
      " [1 4 2]\n",
      " [4 2 4]\n",
      " [1 1 2]\n",
      " [1 4 2]\n",
      " [1 3 2]\n",
      " [3 1 3]\n",
      " [2 3 1]\n",
      " [4 1 3]\n",
      " [1 2 3]]\n",
      "2 groups centers:\n",
      "[[4 1 3]\n",
      " [1 1 2]]\n",
      "points - centroids:\n",
      "[[[-2  3 -2]\n",
      "  [ 1  3 -1]]\n",
      "\n",
      " [[-3  3 -1]\n",
      "  [ 0  3  0]]\n",
      "\n",
      " [[ 0  1  1]\n",
      "  [ 3  1  2]]\n",
      "\n",
      " [[-3  0 -1]\n",
      "  [ 0  0  0]]\n",
      "\n",
      " [[-3  3 -1]\n",
      "  [ 0  3  0]]\n",
      "\n",
      " [[-3  2 -1]\n",
      "  [ 0  2  0]]\n",
      "\n",
      " [[-1  0  0]\n",
      "  [ 2  0  1]]\n",
      "\n",
      " [[-2  2 -2]\n",
      "  [ 1  2 -1]]\n",
      "\n",
      " [[ 0  0  0]\n",
      "  [ 3  0  1]]\n",
      "\n",
      " [[-3  1  0]\n",
      "  [ 0  1  1]]]\n"
     ]
    }
   ],
   "source": [
    "\n",
    "# number of cluster k\n",
    "k = 2\n",
    "\n",
    "# 10 data x 3 features\n",
    "np.random.seed(1)\n",
    "arr1 = np.random.randint(1, 5, size=(10, 3))\n",
    "print(\"points:\", arr1, sep='\\n')\n",
    "\n",
    "centroids = arr1[np.random.choice(arr1.shape[0], size=k, replace=False)]\n",
    "print(f'{k} groups centers:', centroids, sep='\\n')\n",
    "\n",
    "# distance from the points to k number of centers\n",
    "# points: 10x3, centroids: 2x3\n",
    "# distance: 10x2x3 (10 data x 2 clusters x 3 features)\n",
    "diff = arr1[:, np.newaxis, :] - centroids\n",
    "print(\"points - centroids:\", diff, sep='\\n')"
   ]
  },
  {
   "cell_type": "code",
   "execution_count": 51,
   "metadata": {},
   "outputs": [
    {
     "name": "stdout",
     "output_type": "stream",
     "text": [
      "points:\n",
      "[[2 4 1]\n",
      " [1 4 2]\n",
      " [4 2 4]\n",
      " [1 1 2]\n",
      " [1 4 2]\n",
      " [1 3 2]\n",
      " [3 1 3]\n",
      " [2 3 1]\n",
      " [4 1 3]\n",
      " [1 2 3]]\n",
      "2 groups centers:\n",
      "[[4 1 3]\n",
      " [1 1 2]]\n",
      "Reshaped centroids:\n",
      "[[[4 1 3]]\n",
      "\n",
      " [[1 1 2]]]\n",
      "points - centroids:\n",
      "[[[-2  3 -2]\n",
      "  [ 1  3 -1]]\n",
      "\n",
      " [[-3  3 -1]\n",
      "  [ 0  3  0]]\n",
      "\n",
      " [[ 0  1  1]\n",
      "  [ 3  1  2]]\n",
      "\n",
      " [[-3  0 -1]\n",
      "  [ 0  0  0]]\n",
      "\n",
      " [[-3  3 -1]\n",
      "  [ 0  3  0]]\n",
      "\n",
      " [[-3  2 -1]\n",
      "  [ 0  2  0]]\n",
      "\n",
      " [[-1  0  0]\n",
      "  [ 2  0  1]]\n",
      "\n",
      " [[-2  2 -2]\n",
      "  [ 1  2 -1]]\n",
      "\n",
      " [[ 0  0  0]\n",
      "  [ 3  0  1]]\n",
      "\n",
      " [[-3  1  0]\n",
      "  [ 0  1  1]]]\n"
     ]
    }
   ],
   "source": [
    "# number of cluster k\n",
    "k = 2\n",
    "\n",
    "# 10 data x 3 features\n",
    "np.random.seed(1)\n",
    "arr1 = np.random.randint(1, 5, size=(10, 3))\n",
    "print(\"points:\", arr1, sep='\\n')\n",
    "\n",
    "centroids = arr1[np.random.choice(arr1.shape[0], size=k, replace=False)]\n",
    "print(f'{k} groups centers:', centroids, sep='\\n')\n",
    "\n",
    "# To ensure broadcasting, add a new axis to centroids\n",
    "centroids = centroids[:, np.newaxis, :]\n",
    "print(\"Reshaped centroids:\", centroids, sep='\\n')\n",
    "\n",
    "# distance from the points to k number of centers\n",
    "# points: 10x3, centroids: 2x1x3\n",
    "# distance: 10x2x3 (10 data x 2 clusters x 3 features)\n",
    "# diff = arr1[:, np.newaxis, :] - centroids\n",
    "print(\"points - centroids:\", diff, sep='\\n')"
   ]
  },
  {
   "cell_type": "code",
   "execution_count": null,
   "metadata": {},
   "outputs": [],
   "source": []
  }
 ],
 "metadata": {
  "kernelspec": {
   "display_name": "ds",
   "language": "python",
   "name": "python3"
  },
  "language_info": {
   "codemirror_mode": {
    "name": "ipython",
    "version": 3
   },
   "file_extension": ".py",
   "mimetype": "text/x-python",
   "name": "python",
   "nbconvert_exporter": "python",
   "pygments_lexer": "ipython3",
   "version": "3.10.13"
  }
 },
 "nbformat": 4,
 "nbformat_minor": 2
}
