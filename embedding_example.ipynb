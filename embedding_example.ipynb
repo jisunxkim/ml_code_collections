{
 "cells": [
  {
   "cell_type": "markdown",
   "metadata": {},
   "source": [
    "<a href=\"https://colab.research.google.com/github/jeffheaton/t81_558_deep_learning/blob/master/t81_558_class_11_03_embedding.ipynb\" target=\"_parent\"><img src=\"https://colab.research.google.com/assets/colab-badge.svg\" alt=\"Open In Colab\"/></a>\n"
   ]
  },
  {
   "cell_type": "markdown",
   "metadata": {},
   "source": [
    "# T81-558: Applications of Deep Neural Networks\n",
    "**Module 11: Natural Language Processing and Speech Recognition**\n",
    "* Instructor: [Jeff Heaton](https://sites.wustl.edu/jeffheaton/), McKelvey School of Engineering, [Washington University in St. Louis](https://engineering.wustl.edu/Programs/Pages/default.aspx)\n",
    "* For more information visit the [class website](https://sites.wustl.edu/jeffheaton/t81-558/)."
   ]
  },
  {
   "cell_type": "markdown",
   "metadata": {},
   "source": [
    "# Module 11 Material\n",
    "\n",
    "* Part 11.1: Getting Started with Spacy in Python [[Video]](https://www.youtube.com/watch?v=A5BtU9vXzu8&list=PLjy4p-07OYzulelvJ5KVaT2pDlxivl_BN) [[Notebook]](t81_558_class_11_01_spacy.ipynb)\n",
    "* Part 11.2: Word2Vec and Text Classification [[Video]](https://www.youtube.com/watch?v=nWxtRlpObIs&list=PLjy4p-07OYzulelvJ5KVaT2pDlxivl_BN) [[Notebook]](t81_558_class_11_02_word2vec.ipynb)\n",
    "* **Part 11.3: What are Embedding Layers in Keras** [[Video]](https://www.youtube.com/watch?v=OuNH5kT-aD0&list=PLjy4p-07OYzulelvJ5KVaT2pDlxivl_BN) [[Notebook]](t81_558_class_11_03_embedding.ipynb)\n",
    "* Part 11.4: Natural Language Processing with Spacy and Keras [[Video]](https://www.youtube.com/watch?v=BKgwjhao5DU&list=PLjy4p-07OYzulelvJ5KVaT2pDlxivl_BN) [[Notebook]](t81_558_class_11_04_text_nlp.ipynb)\n",
    "* Part 11.5: Learning English from Scratch with Keras and TensorFlow [[Video]](https://www.youtube.com/watch?v=Y1khuuSjZzc&list=PLjy4p-07OYzulelvJ5KVaT2pDlxivl_BN&index=58) [[Notebook]](t81_558_class_11_05_english_scratch.ipynb)"
   ]
  },
  {
   "cell_type": "markdown",
   "metadata": {},
   "source": [
    "# Google CoLab Instructions\n",
    "\n",
    "The following code ensures that Google CoLab is running the correct version of TensorFlow."
   ]
  },
  {
   "cell_type": "code",
   "execution_count": 1,
   "metadata": {},
   "outputs": [
    {
     "name": "stdout",
     "output_type": "stream",
     "text": [
      "Note: not using Google CoLab\n"
     ]
    }
   ],
   "source": [
    "try:\n",
    "    %tensorflow_version 2.x\n",
    "    COLAB = True\n",
    "    print(\"Note: using Google CoLab\")\n",
    "except:\n",
    "    print(\"Note: not using Google CoLab\")\n",
    "    COLAB = False"
   ]
  },
  {
   "cell_type": "markdown",
   "metadata": {},
   "source": [
    "# Part 11.3: What are Embedding Layers in Keras\n",
    "\n",
    "[Embedding Layers](https://keras.io/layers/embeddings/) are a handy feature of Keras that allows the program to automatically insert additional information into the data flow of your neural network.  In the previous section, you saw that Word2Vec could expand words to a 300 dimension vector.  An embedding layer would allow you to insert these 300-dimension vectors in the place of word-indexes automatically.  \n",
    "\n",
    "Programmers often use embedding layers with Natural Language Processing (NLP); however, they can be used in any instance where you wish to insert a lengthier vector in an index value place.  In some ways, you can think of an embedding layer as dimension expansion. However, the hope is that these additional dimensions provide more information to the model and provide a better score.\n",
    "\n",
    "### Simple Embedding Layer Example\n",
    "\n",
    "* **input_dim** = How large is the vocabulary?  How many categories are you encoding? This parameter is the number of items in your \"lookup table.\"\n",
    "* **output_dim** = How many numbers in the vector that you wish to return. \n",
    "* **input_length** = How many items are in the input feature vector that you need to transform?\n",
    "\n",
    "Now we create a neural network with a vocabulary size of 10, which will reduce those values between 0-9 to 4 number vectors.  Each feature vector coming in will have two such features.  This neural network does nothing more than pass the embedding on to the output.  But it does let us see what the embedding is doing."
   ]
  },
  {
   "cell_type": "code",
   "execution_count": 2,
   "metadata": {},
   "outputs": [],
   "source": [
    "# !SYSTEM_VERSION_COMPAT=0 pip install tensorflow-macos tensorflow-metal"
   ]
  },
  {
   "cell_type": "code",
   "execution_count": 3,
   "metadata": {},
   "outputs": [
    {
     "name": "stderr",
     "output_type": "stream",
     "text": [
      "2024-05-06 00:30:07.662290: I tensorflow/core/platform/cpu_feature_guard.cc:182] This TensorFlow binary is optimized to use available CPU instructions in performance-critical operations.\n",
      "To enable the following instructions: SSE4.1 SSE4.2 AVX AVX2 FMA, in other operations, rebuild TensorFlow with the appropriate compiler flags.\n"
     ]
    },
    {
     "name": "stdout",
     "output_type": "stream",
     "text": [
      "[PhysicalDevice(name='/physical_device:CPU:0', device_type='CPU'), PhysicalDevice(name='/physical_device:GPU:0', device_type='GPU')]\n"
     ]
    }
   ],
   "source": [
    "import tensorflow as tf\n",
    "devices = tf.config.list_physical_devices()\n",
    "print(devices)\n",
    "\n",
    "tf.debugging.set_log_device_placement(False)"
   ]
  },
  {
   "cell_type": "code",
   "execution_count": 4,
   "metadata": {},
   "outputs": [
    {
     "name": "stderr",
     "output_type": "stream",
     "text": [
      "2024-05-06 00:30:10.484864: I tensorflow/core/common_runtime/pluggable_device/pluggable_device_factory.cc:306] Could not identify NUMA node of platform GPU ID 0, defaulting to 0. Your kernel may not have been built with NUMA support.\n",
      "2024-05-06 00:30:10.484909: I tensorflow/core/common_runtime/pluggable_device/pluggable_device_factory.cc:272] Created TensorFlow device (/job:localhost/replica:0/task:0/device:GPU:0 with 0 MB memory) -> physical PluggableDevice (device: 0, name: METAL, pci bus id: <undefined>)\n"
     ]
    }
   ],
   "source": [
    "from tensorflow.keras.models import Sequential\n",
    "from tensorflow.keras.layers import Embedding\n",
    "import numpy as np\n",
    "\n",
    "model = Sequential()\n",
    "embedding_layer = Embedding(input_dim=10, output_dim=4, input_length=2)\n",
    "model.add(embedding_layer)\n",
    "model.compile('adam', 'mse')"
   ]
  },
  {
   "cell_type": "markdown",
   "metadata": {},
   "source": [
    "Let's take a look at the structure of this neural network so that we can see what is happening inside it."
   ]
  },
  {
   "cell_type": "code",
   "execution_count": 5,
   "metadata": {},
   "outputs": [
    {
     "name": "stdout",
     "output_type": "stream",
     "text": [
      "Model: \"sequential\"\n",
      "_________________________________________________________________\n",
      " Layer (type)                Output Shape              Param #   \n",
      "=================================================================\n",
      " embedding (Embedding)       (None, 2, 4)              40        \n",
      "                                                                 \n",
      "=================================================================\n",
      "Total params: 40\n",
      "Trainable params: 40\n",
      "Non-trainable params: 0\n",
      "_________________________________________________________________\n"
     ]
    }
   ],
   "source": [
    "model.summary()"
   ]
  },
  {
   "cell_type": "markdown",
   "metadata": {},
   "source": [
    "For this neural network, which is just an embedding layer, the input is a vector of size 2. These two inputs are integer numbers from 0 to 9 (corresponding to the requested input_dim quantity of 10 values). Looking at the summary above, we see that the embedding layer has 40 parameters.  This value comes from the embedded lookup table that contains four amounts (output_dim) for each of the 10 (input_dim) possible integer values for the two inputs. The output is 2 (input_length) length 4 (output_dim) vectors, resulting in a total output size of 8, which corresponds to the Output Shape given in the summary above.\n",
    "\n",
    "Now, let us query the neural network with two rows.  The input is two integer values, as was specified when we created the neural network."
   ]
  },
  {
   "cell_type": "code",
   "execution_count": 6,
   "metadata": {},
   "outputs": [
    {
     "name": "stdout",
     "output_type": "stream",
     "text": [
      "1/1 [==============================] - 0s 123ms/step\n",
      "(1, 2)\n",
      "[[[-0.01284564  0.03898884  0.02287826  0.00366002]\n",
      "  [-0.01397338 -0.04033033 -0.03861073  0.02719099]]]\n"
     ]
    },
    {
     "name": "stderr",
     "output_type": "stream",
     "text": [
      "2024-05-06 00:30:10.888876: I tensorflow/core/grappler/optimizers/custom_graph_optimizer_registry.cc:114] Plugin optimizer for device_type GPU is enabled.\n"
     ]
    }
   ],
   "source": [
    "input_data = np.array([\n",
    "    [1,2]\n",
    "])\n",
    "\n",
    "pred = model.predict(input_data)\n",
    "\n",
    "print(input_data.shape)\n",
    "print(pred)"
   ]
  },
  {
   "cell_type": "markdown",
   "metadata": {},
   "source": [
    "Here we see two length-4 vectors that Keras looked up for each of the input integers.  Recall that Python arrays are zero-based.  Keras replaced the value of 1 with the second row of the 10 x 4 lookup matrix.  Similarly, Keras replaced the value of 2 by the third row of the lookup matrix. The following code displays the lookup matrix in its entirety. The embedding layer performs no mathematical operations other than inserting the correct row from the lookup table."
   ]
  },
  {
   "cell_type": "code",
   "execution_count": 7,
   "metadata": {},
   "outputs": [
    {
     "data": {
      "text/plain": [
       "[array([[ 0.02293959,  0.04500674,  0.03014142,  0.04035331],\n",
       "        [-0.01284564,  0.03898884,  0.02287826,  0.00366002],\n",
       "        [-0.01397338, -0.04033033, -0.03861073,  0.02719099],\n",
       "        [-0.01614323, -0.03687384, -0.0306204 ,  0.01038133],\n",
       "        [-0.02231064,  0.01223888,  0.00771121, -0.04150709],\n",
       "        [ 0.00727189,  0.02140024,  0.03517035, -0.04073626],\n",
       "        [ 0.01189072,  0.04191628,  0.02080664,  0.03494713],\n",
       "        [ 0.02862562, -0.0034273 ,  0.03687665,  0.02209535],\n",
       "        [-0.02632752, -0.04242432, -0.0259039 ,  0.04667102],\n",
       "        [-0.04748465, -0.0095283 ,  0.02509484, -0.01582607]],\n",
       "       dtype=float32)]"
      ]
     },
     "execution_count": 7,
     "metadata": {},
     "output_type": "execute_result"
    }
   ],
   "source": [
    "embedding_layer.get_weights()"
   ]
  },
  {
   "cell_type": "markdown",
   "metadata": {},
   "source": [
    "The values above are random parameters that Keras generated as starting points.  Generally, we will either transfer an embedding or train these random values into something useful.  The next section demonstrates how to embed a hand-coded embedding. \n",
    "\n",
    "### Transferring An Embedding\n",
    "\n",
    "Now, we see how to hard-code an embedding lookup that performs a simple one-hot encoding.  One-hot encoding would transform the input integer values of 0, 1, and 2 to the vectors $[1,0,0]$, $[0,1,0]$, and $[0,0,1]$ respectively. The following code replaced the random lookup values in the embedding layer with this one-hot coding inspired lookup table."
   ]
  },
  {
   "cell_type": "code",
   "execution_count": 8,
   "metadata": {},
   "outputs": [],
   "source": [
    "from tensorflow.keras.models import Sequential\n",
    "from tensorflow.keras.layers import Embedding\n",
    "import numpy as np\n",
    "\n",
    "embedding_lookup = np.array([\n",
    "    [1,0,0],\n",
    "    [0,1,0],\n",
    "    [0,0,1]\n",
    "])\n",
    "\n",
    "model = Sequential()\n",
    "embedding_layer = Embedding(input_dim=3, output_dim=3, input_length=2)\n",
    "model.add(embedding_layer)\n",
    "model.compile('adam', 'mse')\n",
    "\n",
    "embedding_layer.set_weights([embedding_lookup])"
   ]
  },
  {
   "cell_type": "markdown",
   "metadata": {},
   "source": [
    "We have the following parameters to the Embedding layer:\n",
    "    \n",
    "* input_dim=3 - There are three different integer categorical values allowed.\n",
    "* output_dim=3 - Per one-hot encoding, three columns represent a categorical value with three possible values.\n",
    "* input_length=2 - The input vector has two of these categorical values.\n",
    "\n",
    "Now we query the neural network with two categorical values to see the lookup performed."
   ]
  },
  {
   "cell_type": "code",
   "execution_count": 9,
   "metadata": {},
   "outputs": [
    {
     "name": "stdout",
     "output_type": "stream",
     "text": [
      "1/1 [==============================] - 0s 65ms/step\n",
      "(1, 2)\n",
      "[[[1. 0. 0.]\n",
      "  [0. 1. 0.]]]\n"
     ]
    },
    {
     "name": "stderr",
     "output_type": "stream",
     "text": [
      "2024-05-06 00:30:11.116965: I tensorflow/core/grappler/optimizers/custom_graph_optimizer_registry.cc:114] Plugin optimizer for device_type GPU is enabled.\n"
     ]
    }
   ],
   "source": [
    "input_data = np.array([\n",
    "    [0,1]\n",
    "])\n",
    "\n",
    "pred = model.predict(input_data)\n",
    "\n",
    "print(input_data.shape)\n",
    "print(pred)"
   ]
  },
  {
   "cell_type": "markdown",
   "metadata": {},
   "source": [
    "The given output shows that we provided the program with two rows from the one-hot encoding table. This encoding is a correct one-hot encoding for the values 0 and 1, where there are up to 3 unique values possible. \n",
    "\n",
    "The next section demonstrates how to train this embedding lookup table.\n",
    "\n",
    "### Training an Embedding\n",
    "\n",
    "First, we make use of the following imports."
   ]
  },
  {
   "cell_type": "code",
   "execution_count": 10,
   "metadata": {},
   "outputs": [],
   "source": [
    "from numpy import array\n",
    "from tensorflow.keras.preprocessing.text import one_hot\n",
    "from tensorflow.keras.preprocessing.sequence import pad_sequences\n",
    "from tensorflow.keras.models import Sequential\n",
    "from tensorflow.keras.layers import Flatten, Embedding, Dense"
   ]
  },
  {
   "cell_type": "markdown",
   "metadata": {},
   "source": [
    "We create a neural network that classifies restaurant reviews according to positive or negative.  This neural network can accept strings as input, such as given here.  This code also includes positive or negative labels for each review."
   ]
  },
  {
   "cell_type": "code",
   "execution_count": 11,
   "metadata": {},
   "outputs": [],
   "source": [
    "# Define 10 resturant reviews.\n",
    "reviews = [\n",
    "    'Never coming back!',\n",
    "    'Horrible service',\n",
    "    'Rude waitress',\n",
    "    'Cold food.',\n",
    "    'Horrible food!',\n",
    "    'Awesome',\n",
    "    'Awesome service!',\n",
    "    'Rocks!',\n",
    "    'poor work',\n",
    "    'Couldn\\'t have done better']\n",
    "\n",
    "# Define labels (1=negative, 0=positive)\n",
    "labels = array([1,1,1,1,1,0,0,0,0,0])"
   ]
  },
  {
   "cell_type": "markdown",
   "metadata": {},
   "source": [
    "Notice that the second to the last label is incorrect.  Errors such as this are not too out of the ordinary, as most training data could have some noise.\n",
    "\n",
    "We define a vocabulary size of 50 words.  Though we do not have 50 words, it is okay to use a value larger than needed.  If there are more than 50 words, the least frequently used words in the training set are automatically dropped by the embedding layer during training.  For input, we one-hot encode the strings.  Note that we use the TensorFlow one-hot encoding method here, rather than Scikit-Learn. Scikit-learn would expand these strings to the 0's and 1's as we would typically see for dummy variables.  TensorFlow translates all of the words to index values and replaces each word with that index."
   ]
  },
  {
   "cell_type": "code",
   "execution_count": 12,
   "metadata": {},
   "outputs": [
    {
     "name": "stdout",
     "output_type": "stream",
     "text": [
      "Encoded reviews: [[39, 3, 18], [34, 8], [5, 48], [6, 24], [34, 24], [14], [14, 8], [25], [2, 32], [21, 2, 15, 19]]\n"
     ]
    }
   ],
   "source": [
    "VOCAB_SIZE = 50\n",
    "encoded_reviews = [one_hot(d, VOCAB_SIZE) for d in reviews]\n",
    "print(f\"Encoded reviews: {encoded_reviews}\")"
   ]
  },
  {
   "cell_type": "markdown",
   "metadata": {},
   "source": [
    "The program one-hot encodes these reviews to word indexes; however, their lengths are different.  We pad these reviews to 4 words and truncate any words beyond the fourth word."
   ]
  },
  {
   "cell_type": "code",
   "execution_count": 13,
   "metadata": {},
   "outputs": [
    {
     "name": "stdout",
     "output_type": "stream",
     "text": [
      "[[39  3 18  0]\n",
      " [34  8  0  0]\n",
      " [ 5 48  0  0]\n",
      " [ 6 24  0  0]\n",
      " [34 24  0  0]\n",
      " [14  0  0  0]\n",
      " [14  8  0  0]\n",
      " [25  0  0  0]\n",
      " [ 2 32  0  0]\n",
      " [21  2 15 19]]\n"
     ]
    }
   ],
   "source": [
    "MAX_LENGTH = 4\n",
    "\n",
    "padded_reviews = pad_sequences(encoded_reviews, maxlen=MAX_LENGTH, \\\n",
    "                               padding='post')\n",
    "print(padded_reviews)"
   ]
  },
  {
   "cell_type": "markdown",
   "metadata": {},
   "source": [
    "Each review is padded by appending zeros at the end, as specified by the padding=post setting.\n",
    "\n",
    "Next, we create a neural network to learn to classify these reviews. "
   ]
  },
  {
   "cell_type": "code",
   "execution_count": 14,
   "metadata": {},
   "outputs": [
    {
     "name": "stdout",
     "output_type": "stream",
     "text": [
      "Model: \"sequential_2\"\n",
      "_________________________________________________________________\n",
      " Layer (type)                Output Shape              Param #   \n",
      "=================================================================\n",
      " embedding_2 (Embedding)     (None, 4, 8)              400       \n",
      "                                                                 \n",
      " flatten (Flatten)           (None, 32)                0         \n",
      "                                                                 \n",
      " dense (Dense)               (None, 1)                 33        \n",
      "                                                                 \n",
      "=================================================================\n",
      "Total params: 433\n",
      "Trainable params: 433\n",
      "Non-trainable params: 0\n",
      "_________________________________________________________________\n",
      "None\n"
     ]
    }
   ],
   "source": [
    "model = Sequential()\n",
    "embedding_layer = Embedding(VOCAB_SIZE, 8, input_length=MAX_LENGTH)\n",
    "model.add(embedding_layer)\n",
    "model.add(Flatten())\n",
    "model.add(Dense(1, activation='sigmoid'))\n",
    "model.compile(optimizer='adam', loss='binary_crossentropy', metrics=['acc'])\n",
    "\n",
    "print(model.summary())"
   ]
  },
  {
   "cell_type": "markdown",
   "metadata": {},
   "source": [
    "This network accepts four integer inputs that specify the indexes of a padded movie review.  The first embedding layer converts these four indexes into four vectors of length 8.  These vectors come from the lookup table that contains 50 (VOCAB_SIZE) rows of vectors of length 8. This encoding is evident by the 400 (8 times 50) parameters in the embedding layer. The size of the output from the embedding layer is 32 (4 words expressed as 8-number embedded vectors).  A single output neuron is connected to the embedding layer by 33 weights (32 from the embedding layer and a single bias neuron).  Because this is a single-class classification network, we use the sigmoid activation function and binary_crossentropy.\n",
    "\n",
    "The program now trains the neural network.  Both the embedding lookup and dense 33 weights are updated to produce a better score."
   ]
  },
  {
   "cell_type": "code",
   "execution_count": 15,
   "metadata": {},
   "outputs": [
    {
     "name": "stderr",
     "output_type": "stream",
     "text": [
      "2024-05-06 00:30:11.801777: I tensorflow/core/grappler/optimizers/custom_graph_optimizer_registry.cc:114] Plugin optimizer for device_type GPU is enabled.\n",
      "2024-05-06 00:30:11.851170: E tensorflow/core/grappler/optimizers/meta_optimizer.cc:954] model_pruner failed: INVALID_ARGUMENT: Graph does not contain terminal node AssignAddVariableOp_4.\n"
     ]
    },
    {
     "data": {
      "text/plain": [
       "<keras.callbacks.History at 0x7fab2d8ce9d0>"
      ]
     },
     "execution_count": 15,
     "metadata": {},
     "output_type": "execute_result"
    }
   ],
   "source": [
    "# fit the model\n",
    "model.fit(padded_reviews, labels, epochs=100, verbose=0)"
   ]
  },
  {
   "cell_type": "markdown",
   "metadata": {},
   "source": [
    "We can see the learned embeddings.  Think of each word's vector as a location in 8 dimension space where words associated with positive reviews are close to other words with positive reviews.  Similarly, training places negative reviews close to each other.  In addition to the training setting these embeddings, the 33 weights between the embedding layer and output neuron similarly learn to transform these embeddings into an actual prediction.  You can see these embeddings here."
   ]
  },
  {
   "cell_type": "code",
   "execution_count": 16,
   "metadata": {},
   "outputs": [
    {
     "name": "stdout",
     "output_type": "stream",
     "text": [
      "(50, 8)\n",
      "[array([[-0.12288849, -0.13470253,  0.07869077,  0.13394739, -0.05777735,\n",
      "         0.14904122, -0.07661319, -0.10993692],\n",
      "       [-0.00697505, -0.01689027, -0.02065734, -0.0152963 , -0.00846537,\n",
      "         0.00769852, -0.02380663, -0.01460049],\n",
      "       [-0.08891694, -0.07731389, -0.11451872,  0.1359271 , -0.07517897,\n",
      "         0.12937146, -0.09774691, -0.11715879],\n",
      "       [ 0.11528346,  0.10555898, -0.12394977, -0.12802492,  0.07654065,\n",
      "        -0.09288668,  0.08860299,  0.11895168],\n",
      "       [-0.00441081, -0.03493887, -0.04955718,  0.04543897,  0.03429523,\n",
      "         0.04066578, -0.02393482,  0.04297192],\n",
      "       [ 0.11451895,  0.06224163,  0.10776216, -0.10790304,  0.11553404,\n",
      "        -0.05393741,  0.0964414 ,  0.0768348 ],\n",
      "       [ 0.10840983,  0.05225989,  0.09148733, -0.07818298,  0.05875429,\n",
      "        -0.09903802,  0.13125814,  0.14021158],\n",
      "       [ 0.04740096,  0.02053973,  0.03250236, -0.02257222, -0.04167124,\n",
      "         0.01856731, -0.007514  , -0.01465038],\n",
      "       [-0.03534646, -0.06514713,  0.04704463, -0.00838781,  0.0183239 ,\n",
      "         0.00396231, -0.05608886, -0.06651308],\n",
      "       [ 0.01550182, -0.01962509,  0.02221528, -0.03309844, -0.04257373,\n",
      "         0.04543182, -0.02708128,  0.00900292],\n",
      "       [-0.02216326,  0.0028962 ,  0.00161017, -0.04555385,  0.01480962,\n",
      "        -0.01119176,  0.02852907,  0.02318642],\n",
      "       [ 0.04528472, -0.03825803, -0.00589015, -0.00272407,  0.02291658,\n",
      "        -0.01354408,  0.00619595, -0.02270648],\n",
      "       [ 0.0013165 ,  0.00984488,  0.03982886, -0.03625043, -0.03096533,\n",
      "        -0.02190896,  0.00843542,  0.03851176],\n",
      "       [-0.04019618,  0.03857693, -0.04480323, -0.04876894,  0.0291231 ,\n",
      "         0.01816884,  0.00188242,  0.01180705],\n",
      "       [-0.07740311, -0.04919212, -0.08009277,  0.0663268 , -0.12259638,\n",
      "         0.06742051, -0.07281549, -0.08718562],\n",
      "       [ 0.04053236,  0.07507871,  0.05009612,  0.1279013 , -0.16565236,\n",
      "         0.14243154,  0.07269455,  0.13657403],\n",
      "       [ 0.02066083,  0.00074178, -0.01341206, -0.02082311, -0.00480788,\n",
      "        -0.01265311,  0.01763487, -0.002644  ],\n",
      "       [-0.00769567,  0.01659478, -0.01636782,  0.01037513, -0.02087127,\n",
      "        -0.02532376,  0.03000357, -0.02798716],\n",
      "       [-0.05008027, -0.06754266, -0.09256872, -0.12845576,  0.08921583,\n",
      "        -0.14699343, -0.15024239, -0.0695758 ],\n",
      "       [ 0.08429866,  0.1091658 , -0.09859765,  0.05611295, -0.03823765,\n",
      "        -0.1253561 ,  0.09473666, -0.05408389],\n",
      "       [-0.03231888, -0.03898301,  0.00894195,  0.03985614,  0.01075987,\n",
      "        -0.03728969, -0.00328268, -0.01671959],\n",
      "       [-0.1203078 , -0.071155  , -0.07304559,  0.11493268, -0.10892276,\n",
      "         0.12502524, -0.05558489, -0.11486688],\n",
      "       [ 0.0414382 , -0.03767749, -0.00673062,  0.03953395, -0.02979389,\n",
      "        -0.03713684, -0.01112223, -0.02384177],\n",
      "       [ 0.04575517, -0.00824554, -0.00744214, -0.03125366, -0.02874595,\n",
      "         0.04743261, -0.03362408,  0.01269884],\n",
      "       [ 0.11626521,  0.14182027, -0.08403989, -0.06529193,  0.11535538,\n",
      "        -0.07947523,  0.13830677,  0.11394905],\n",
      "       [-0.08358458, -0.06320409, -0.11060236,  0.12522413, -0.12035176,\n",
      "         0.12602329, -0.09909356, -0.10699661],\n",
      "       [ 0.00020059,  0.02649276, -0.04367825, -0.0288252 ,  0.02015067,\n",
      "        -0.02048196,  0.04016228,  0.04759422],\n",
      "       [-0.02327901, -0.04034003, -0.03227602,  0.00484332,  0.01384708,\n",
      "        -0.01756642, -0.03464472, -0.01178062],\n",
      "       [ 0.02635391, -0.04792367, -0.02952156, -0.03104264, -0.03235312,\n",
      "        -0.04557815, -0.010444  , -0.00121838],\n",
      "       [-0.02117013,  0.0480097 , -0.0184103 ,  0.01473388, -0.02731625,\n",
      "         0.04451037, -0.02423616,  0.04412169],\n",
      "       [-0.03094531,  0.02949481,  0.03464588,  0.00406808,  0.03863772,\n",
      "        -0.04237573,  0.04357921, -0.00942   ],\n",
      "       [-0.03763254,  0.02930052,  0.02225442,  0.04358539,  0.03181429,\n",
      "         0.04141361,  0.04946964,  0.04333155],\n",
      "       [-0.05872175, -0.13582835,  0.16974977,  0.06639373, -0.14031725,\n",
      "         0.09424909, -0.14874233, -0.07959798],\n",
      "       [-0.00861361, -0.04003809, -0.00253229, -0.00084202,  0.00046615,\n",
      "         0.00473202,  0.00155295,  0.00641633],\n",
      "       [ 0.15088889,  0.06237441,  0.11656317, -0.13060266,  0.09748397,\n",
      "        -0.10475551,  0.11557286,  0.145081  ],\n",
      "       [ 0.04397656,  0.01087688, -0.01133626, -0.03530081,  0.00733408,\n",
      "         0.01544467,  0.03466294,  0.01615712],\n",
      "       [-0.04744148, -0.0041543 ,  0.04848779,  0.00553022, -0.01622622,\n",
      "        -0.04929909, -0.02523522, -0.01274055],\n",
      "       [ 0.03414685, -0.00442878, -0.02586098,  0.02952676, -0.01701798,\n",
      "        -0.04872855, -0.04738317, -0.04464955],\n",
      "       [-0.03827897,  0.01889094, -0.00779254,  0.00715061,  0.02145079,\n",
      "         0.00284773, -0.00054747,  0.01178405],\n",
      "       [ 0.14675048,  0.06175927,  0.1170468 , -0.15296817,  0.1368909 ,\n",
      "        -0.14176998,  0.12142177,  0.0790067 ],\n",
      "       [ 0.00976998, -0.00900408, -0.02996098,  0.01938177, -0.04251239,\n",
      "         0.04300883,  0.01276808,  0.00660066],\n",
      "       [ 0.04727297, -0.01832215, -0.04665389, -0.04356396,  0.02388437,\n",
      "        -0.01297481,  0.01387252, -0.01079807],\n",
      "       [ 0.02195587, -0.00434612, -0.00179124,  0.02242671,  0.00685   ,\n",
      "        -0.01380027,  0.01722615, -0.04049704],\n",
      "       [ 0.02706769, -0.00970639,  0.01358974,  0.00320335, -0.0236462 ,\n",
      "         0.0022523 ,  0.02281282, -0.02058933],\n",
      "       [ 0.04381025, -0.04087714, -0.04243128,  0.03168974, -0.02545979,\n",
      "        -0.03425417,  0.04424418, -0.0443526 ],\n",
      "       [-0.04125973,  0.01468733, -0.02717171,  0.01645521, -0.02374121,\n",
      "        -0.01226164, -0.02843357,  0.00409602],\n",
      "       [ 0.02897792,  0.04935977, -0.02453104,  0.02090516, -0.03118451,\n",
      "        -0.03218891,  0.00637249, -0.03008835],\n",
      "       [ 0.04189217,  0.03772619, -0.00907679, -0.04575592, -0.04704715,\n",
      "         0.02698351, -0.00084356,  0.00602857],\n",
      "       [ 0.05844934,  0.10765404, -0.12065141, -0.09055803,  0.10806994,\n",
      "        -0.07233149,  0.08230718,  0.06047174],\n",
      "       [-0.02028991, -0.04436073, -0.0375367 , -0.01435639,  0.01192722,\n",
      "         0.01231489,  0.03478329, -0.0111493 ]], dtype=float32)]\n"
     ]
    }
   ],
   "source": [
    "print(embedding_layer.get_weights()[0].shape)\n",
    "print(embedding_layer.get_weights())"
   ]
  },
  {
   "cell_type": "markdown",
   "metadata": {},
   "source": [
    "We can now evaluate this neural network's accuracy, including both the embeddings and the learned dense layer.  "
   ]
  },
  {
   "cell_type": "code",
   "execution_count": 17,
   "metadata": {},
   "outputs": [
    {
     "name": "stderr",
     "output_type": "stream",
     "text": [
      "2024-05-06 00:30:14.953785: I tensorflow/core/grappler/optimizers/custom_graph_optimizer_registry.cc:114] Plugin optimizer for device_type GPU is enabled.\n"
     ]
    },
    {
     "name": "stdout",
     "output_type": "stream",
     "text": [
      "Accuracy: 1.0\n"
     ]
    }
   ],
   "source": [
    "loss, accuracy = model.evaluate(padded_reviews, labels, verbose=0)\n",
    "print(f'Accuracy: {accuracy}')"
   ]
  },
  {
   "cell_type": "markdown",
   "metadata": {},
   "source": [
    "The accuracy is a perfect 1.0, indicating there is likely overfitting. For a more complex data set, it would be good to use early stopping to not overfit."
   ]
  },
  {
   "cell_type": "code",
   "execution_count": 18,
   "metadata": {},
   "outputs": [
    {
     "name": "stdout",
     "output_type": "stream",
     "text": [
      "Log-loss: 0.4450955390930176\n"
     ]
    }
   ],
   "source": [
    "print(f'Log-loss: {loss}')"
   ]
  },
  {
   "cell_type": "markdown",
   "metadata": {},
   "source": [
    "However, the loss is not perfect, meaning that even though the predicted probabilities indicated a correct prediction in every case, the program did not achieve absolute confidence in each correct answer.  The lack of confidence was likely due to the small amount of noise (previously discussed) in the data set.  Additionally, the fact that some words appeared in both positive and negative reviews contributed to this lack of absolute certainty. "
   ]
  },
  {
   "cell_type": "code",
   "execution_count": null,
   "metadata": {},
   "outputs": [],
   "source": []
  }
 ],
 "metadata": {
  "anaconda-cloud": {},
  "kernelspec": {
   "display_name": "Python 3 (ipykernel)",
   "language": "python",
   "name": "python3"
  },
  "language_info": {
   "codemirror_mode": {
    "name": "ipython",
    "version": 3
   },
   "file_extension": ".py",
   "mimetype": "text/x-python",
   "name": "python",
   "nbconvert_exporter": "python",
   "pygments_lexer": "ipython3",
   "version": "3.8.19"
  }
 },
 "nbformat": 4,
 "nbformat_minor": 4
}
