{
 "cells": [
  {
   "cell_type": "code",
   "execution_count": 1,
   "metadata": {},
   "outputs": [],
   "source": [
    "import pandas as pd "
   ]
  },
  {
   "cell_type": "code",
   "execution_count": 7,
   "metadata": {},
   "outputs": [
    {
     "name": "stdout",
     "output_type": "stream",
     "text": [
      "True\n",
      "True\n"
     ]
    }
   ],
   "source": [
    "# is sub string?\n",
    "string1 = \"rewa\"\n",
    "string2 = \" werb e453qa5wx\"\n",
    "\n",
    "def is_substring1(string1, string2):\n",
    "    p = 0\n",
    "    for c in string1:\n",
    "        for i in range(p, len(string2)):\n",
    "            if c == string2[i]:\n",
    "                p += 1\n",
    "                break \n",
    "        else:\n",
    "            return False \n",
    "    return True \n",
    "\n",
    "print(is_substring1(string1, string2))\n",
    "\n",
    "def is_substring2(string1, string2):\n",
    "    \"\"\" better version with two pointers: O(n+m)\"\"\"\n",
    "    p1=p2=0\n",
    "    while p1 < len(string1) and p2 < len(string2):\n",
    "        if string1[p1] == string2[p2]:\n",
    "            p1 += 1\n",
    "        p2 += 1\n",
    "    return p1 == len(string1) - 1 \n",
    "print(is_substring2(string1, string2))"
   ]
  },
  {
   "cell_type": "code",
   "execution_count": 19,
   "metadata": {},
   "outputs": [
    {
     "name": "stdout",
     "output_type": "stream",
     "text": [
      "13.5 25.5 12.0\n",
      "12 30 18\n"
     ]
    }
   ],
   "source": [
    "data = [12, 21, 43, 21, 15, 30, 10]\n",
    "# 10, 12, 15 #21# 21, 30, 43\n",
    "# # q1= 12, q3=30\n",
    "# iqr = 18\n",
    "def get_quantile_pd(data, q):\n",
    "    \"\"\"quantile using pandas\n",
    "    pandas use index: \n",
    "    number of data * quantile => location of the quantile\"\"\"\n",
    "    series = pd.Series(data)\n",
    "    return series.quantile(q)\n",
    "\n",
    "q1, q3 = get_quantile_pd(data, [0.25,0.75])\n",
    "print(q1, q3, q3-q1)\n",
    "\n",
    "def get_quantile_range(data):\n",
    "    \"\"\"get Q1, Q3, and Q3-Q1\n",
    "    using median method!!\"\"\"\n",
    "    #should sort data \n",
    "    data.sort()\n",
    "    # find left and right half\n",
    "    n = len(data)\n",
    "    if n % 2 == 0:\n",
    "        # 0,1,2,3\n",
    "        left = data[:n//2]\n",
    "        right = data[n//2:]\n",
    "    else:\n",
    "        #0,1,2\n",
    "        left = data[:n//2]\n",
    "        right = data[n//2 + 1:]\n",
    "    # find median of left and right \n",
    "    def median(arr):\n",
    "        \"\"\" return median index\"\"\"\n",
    "        n = len(arr)\n",
    "        if n % 2 == 0:\n",
    "            #0,1,2,3\n",
    "            return (arr[n//2-1] + arr[n//2+1]) / 2\n",
    "        else:\n",
    "            #0,1,2\n",
    "            return arr[n//2]\n",
    "    \n",
    "    q1 = median(left)\n",
    "    q3 = median(right)\n",
    "    print(q1, q3, q3-q1)        \n",
    "        \n",
    "get_quantile_range(data)            \n",
    "            \n",
    "            \n",
    "    "
   ]
  },
  {
   "cell_type": "code",
   "execution_count": 36,
   "metadata": {},
   "outputs": [
    {
     "data": {
      "text/plain": [
       "{1: 'I',\n",
       " 4: 'IV',\n",
       " 5: 'V',\n",
       " 9: 'IV',\n",
       " 10: 'X',\n",
       " 40: 'XL',\n",
       " 50: 'L',\n",
       " 90: 'XC',\n",
       " 100: 'C',\n",
       " 400: 'CD',\n",
       " 500: 'D',\n",
       " 900: 'CM',\n",
       " 1000: 'M'}"
      ]
     },
     "execution_count": 36,
     "metadata": {},
     "output_type": "execute_result"
    }
   ],
   "source": [
    "roman = [\n",
    "    (1, 'I'), (4, 'IV'), (5, 'V'), \n",
    "    (9, 'IV'), (10, 'X'), (40, 'XL'),\n",
    "    (50, 'L'), (90, 'XC'), (100, 'C'),\n",
    "    (400, 'CD'), (500, 'D'), (900, 'CM'),\n",
    "    (1000, 'M')\n",
    "]\n",
    "roman\n",
    "dict(roman)"
   ]
  },
  {
   "cell_type": "code",
   "execution_count": 49,
   "metadata": {},
   "outputs": [
    {
     "name": "stdout",
     "output_type": "stream",
     "text": [
      "2 days 00:41:00\n",
      "2460\n",
      "82.0\n"
     ]
    }
   ],
   "source": [
    "dt1 = pd.to_datetime('2/1/2024 9:30')\n",
    "dt2 = pd.to_datetime('2/3/2024 10:11')\n",
    "delta = dt2 - dt1\n",
    "print(delta)\n",
    "print(delta.seconds)\n",
    "print(delta.seconds / 60*2)\n"
   ]
  },
  {
   "cell_type": "code",
   "execution_count": 50,
   "metadata": {},
   "outputs": [
    {
     "data": {
      "text/html": [
       "<div>\n",
       "<style scoped>\n",
       "    .dataframe tbody tr th:only-of-type {\n",
       "        vertical-align: middle;\n",
       "    }\n",
       "\n",
       "    .dataframe tbody tr th {\n",
       "        vertical-align: top;\n",
       "    }\n",
       "\n",
       "    .dataframe thead th {\n",
       "        text-align: right;\n",
       "    }\n",
       "</style>\n",
       "<table border=\"1\" class=\"dataframe\">\n",
       "  <thead>\n",
       "    <tr style=\"text-align: right;\">\n",
       "      <th></th>\n",
       "      <th>id</th>\n",
       "      <th>user_id</th>\n",
       "      <th>user_name</th>\n",
       "      <th>user_ratings</th>\n",
       "      <th>created_at</th>\n",
       "      <th>product_id</th>\n",
       "      <th>quantity</th>\n",
       "    </tr>\n",
       "  </thead>\n",
       "  <tbody>\n",
       "    <tr>\n",
       "      <th>0</th>\n",
       "      <td>1</td>\n",
       "      <td>1</td>\n",
       "      <td>Jack</td>\n",
       "      <td>894</td>\n",
       "      <td>2022-01-01</td>\n",
       "      <td>101</td>\n",
       "      <td>1</td>\n",
       "    </tr>\n",
       "    <tr>\n",
       "      <th>1</th>\n",
       "      <td>2</td>\n",
       "      <td>2</td>\n",
       "      <td>Alice</td>\n",
       "      <td>311</td>\n",
       "      <td>2022-01-01</td>\n",
       "      <td>102</td>\n",
       "      <td>1</td>\n",
       "    </tr>\n",
       "    <tr>\n",
       "      <th>2</th>\n",
       "      <td>3</td>\n",
       "      <td>1</td>\n",
       "      <td>Jack</td>\n",
       "      <td>233</td>\n",
       "      <td>2022-01-02</td>\n",
       "      <td>103</td>\n",
       "      <td>1</td>\n",
       "    </tr>\n",
       "    <tr>\n",
       "      <th>3</th>\n",
       "      <td>4</td>\n",
       "      <td>3</td>\n",
       "      <td>Scott</td>\n",
       "      <td>852</td>\n",
       "      <td>2022-01-03</td>\n",
       "      <td>104</td>\n",
       "      <td>1</td>\n",
       "    </tr>\n",
       "    <tr>\n",
       "      <th>4</th>\n",
       "      <td>5</td>\n",
       "      <td>4</td>\n",
       "      <td>James</td>\n",
       "      <td>922</td>\n",
       "      <td>2022-01-03</td>\n",
       "      <td>105</td>\n",
       "      <td>1</td>\n",
       "    </tr>\n",
       "    <tr>\n",
       "      <th>5</th>\n",
       "      <td>6</td>\n",
       "      <td>5</td>\n",
       "      <td>Sean</td>\n",
       "      <td>579</td>\n",
       "      <td>2022-01-04</td>\n",
       "      <td>106</td>\n",
       "      <td>1</td>\n",
       "    </tr>\n",
       "  </tbody>\n",
       "</table>\n",
       "</div>"
      ],
      "text/plain": [
       "   id  user_id user_name  user_ratings  created_at  product_id  quantity\n",
       "0   1        1      Jack           894  2022-01-01         101         1\n",
       "1   2        2     Alice           311  2022-01-01         102         1\n",
       "2   3        1      Jack           233  2022-01-02         103         1\n",
       "3   4        3     Scott           852  2022-01-03         104         1\n",
       "4   5        4     James           922  2022-01-03         105         1\n",
       "5   6        5      Sean           579  2022-01-04         106         1"
      ]
     },
     "execution_count": 50,
     "metadata": {},
     "output_type": "execute_result"
    }
   ],
   "source": [
    "data = {\n",
    "    'id': [1, 2, 3, 4, 5, 6],\n",
    "    'user_id': [1, 2, 1, 3, 4, 5],\n",
    "    'user_name': ['Jack', 'Alice', 'Jack', 'Scott', 'James', 'Sean'],\n",
    "    'user_ratings': [894, 311, 233, 852, 922, 579],\n",
    "    'created_at': ['2022-01-01', '2022-01-01', '2022-01-02', '2022-01-03', '2022-01-03', '2022-01-04'],\n",
    "    'product_id': [101, 102, 103, 104, 105, 106],\n",
    "    'quantity': [1, 1, 1, 1, 1, 1]\n",
    "}\n",
    "df = pd.DataFrame(data)\n",
    "df"
   ]
  },
  {
   "cell_type": "code",
   "execution_count": 58,
   "metadata": {},
   "outputs": [
    {
     "name": "stdout",
     "output_type": "stream",
     "text": [
      "0    497.5\n",
      "1    206.5\n",
      "2    168.0\n",
      "3    478.0\n",
      "4    513.5\n",
      "5    342.5\n",
      "dtype: float64\n",
      "RangeIndex(start=0, stop=6, step=1)\n"
     ]
    }
   ],
   "source": [
    "avg_rows = df[['user_ratings', 'product_id']].mean(axis=1)\n",
    "print(avg_rows)\n",
    "print(avg_rows.index)"
   ]
  },
  {
   "cell_type": "code",
   "execution_count": 72,
   "metadata": {},
   "outputs": [
    {
     "name": "stdout",
     "output_type": "stream",
     "text": [
      "   User1  User2  User3\n",
      "0    5.0    3.0    NaN\n",
      "1    4.0    NaN    4.0\n",
      "2    NaN    5.0    3.0\n",
      "3    2.0    2.0    1.0\n",
      "   User1  User2  User3\n",
      "0    5.0    3.0    4.0\n",
      "1    4.0    4.0    4.0\n",
      "2    4.0    5.0    3.0\n",
      "3    2.0    2.0    1.0\n"
     ]
    }
   ],
   "source": [
    "# Example movie rating data\n",
    "data = {\n",
    "    'User1': [5, 4, None, 2],\n",
    "    'User2': [3, None, 5, 2],\n",
    "    'User3': [None, 4, 3, 1]\n",
    "}\n",
    "\n",
    "# Create a DataFrame\n",
    "df = pd.DataFrame(data)\n",
    "\n",
    "# Fill missing values with row-wise mean\n",
    "df_filled = df.apply(lambda row: row.fillna(row.mean()), axis=1)\n",
    "print(df)\n",
    "print(df_filled)"
   ]
  },
  {
   "cell_type": "code",
   "execution_count": 73,
   "metadata": {},
   "outputs": [
    {
     "data": {
      "text/html": [
       "<div>\n",
       "<style scoped>\n",
       "    .dataframe tbody tr th:only-of-type {\n",
       "        vertical-align: middle;\n",
       "    }\n",
       "\n",
       "    .dataframe tbody tr th {\n",
       "        vertical-align: top;\n",
       "    }\n",
       "\n",
       "    .dataframe thead th {\n",
       "        text-align: right;\n",
       "    }\n",
       "</style>\n",
       "<table border=\"1\" class=\"dataframe\">\n",
       "  <thead>\n",
       "    <tr style=\"text-align: right;\">\n",
       "      <th></th>\n",
       "      <th>User1</th>\n",
       "      <th>User2</th>\n",
       "      <th>User3</th>\n",
       "      <th>label</th>\n",
       "    </tr>\n",
       "  </thead>\n",
       "  <tbody>\n",
       "    <tr>\n",
       "      <th>0</th>\n",
       "      <td>5.0</td>\n",
       "      <td>3.0</td>\n",
       "      <td>2.7</td>\n",
       "      <td>a</td>\n",
       "    </tr>\n",
       "    <tr>\n",
       "      <th>1</th>\n",
       "      <td>4.0</td>\n",
       "      <td>3.3</td>\n",
       "      <td>4.0</td>\n",
       "      <td>b</td>\n",
       "    </tr>\n",
       "    <tr>\n",
       "      <th>2</th>\n",
       "      <td>3.7</td>\n",
       "      <td>5.0</td>\n",
       "      <td>3.0</td>\n",
       "      <td>a</td>\n",
       "    </tr>\n",
       "    <tr>\n",
       "      <th>3</th>\n",
       "      <td>2.0</td>\n",
       "      <td>2.0</td>\n",
       "      <td>1.0</td>\n",
       "      <td>b</td>\n",
       "    </tr>\n",
       "  </tbody>\n",
       "</table>\n",
       "</div>"
      ],
      "text/plain": [
       "   User1  User2  User3 label\n",
       "0    5.0    3.0    2.7     a\n",
       "1    4.0    3.3    4.0     b\n",
       "2    3.7    5.0    3.0     a\n",
       "3    2.0    2.0    1.0     b"
      ]
     },
     "execution_count": 73,
     "metadata": {},
     "output_type": "execute_result"
    }
   ],
   "source": [
    "# Example movie rating data\n",
    "data = {\n",
    "    'User1': [5, 4, None, 2],\n",
    "    'User2': [3, None, 5, 2],\n",
    "    'User3': [None, 4, 3, 1]\n",
    "}\n",
    "\n",
    "# Create a DataFrame\n",
    "df = pd.DataFrame(data)\n",
    "df = df.apply(lambda col: col.fillna(round(col.mean(),1)), axis= 0)\n",
    "df['label']= ['a', 'b', 'a', 'b']\n",
    "df"
   ]
  },
  {
   "cell_type": "code",
   "execution_count": 74,
   "metadata": {},
   "outputs": [
    {
     "data": {
      "text/html": [
       "<div>\n",
       "<style scoped>\n",
       "    .dataframe tbody tr th:only-of-type {\n",
       "        vertical-align: middle;\n",
       "    }\n",
       "\n",
       "    .dataframe tbody tr th {\n",
       "        vertical-align: top;\n",
       "    }\n",
       "\n",
       "    .dataframe thead th {\n",
       "        text-align: right;\n",
       "    }\n",
       "</style>\n",
       "<table border=\"1\" class=\"dataframe\">\n",
       "  <thead>\n",
       "    <tr style=\"text-align: right;\">\n",
       "      <th></th>\n",
       "      <th></th>\n",
       "      <th>User1</th>\n",
       "      <th>User2</th>\n",
       "      <th>User3</th>\n",
       "    </tr>\n",
       "    <tr>\n",
       "      <th>label</th>\n",
       "      <th></th>\n",
       "      <th></th>\n",
       "      <th></th>\n",
       "      <th></th>\n",
       "    </tr>\n",
       "  </thead>\n",
       "  <tbody>\n",
       "    <tr>\n",
       "      <th rowspan=\"2\" valign=\"top\">a</th>\n",
       "      <th>0</th>\n",
       "      <td>NaN</td>\n",
       "      <td>NaN</td>\n",
       "      <td>NaN</td>\n",
       "    </tr>\n",
       "    <tr>\n",
       "      <th>2</th>\n",
       "      <td>8.7</td>\n",
       "      <td>8.0</td>\n",
       "      <td>5.7</td>\n",
       "    </tr>\n",
       "    <tr>\n",
       "      <th rowspan=\"2\" valign=\"top\">b</th>\n",
       "      <th>1</th>\n",
       "      <td>NaN</td>\n",
       "      <td>NaN</td>\n",
       "      <td>NaN</td>\n",
       "    </tr>\n",
       "    <tr>\n",
       "      <th>3</th>\n",
       "      <td>6.0</td>\n",
       "      <td>5.3</td>\n",
       "      <td>5.0</td>\n",
       "    </tr>\n",
       "  </tbody>\n",
       "</table>\n",
       "</div>"
      ],
      "text/plain": [
       "         User1  User2  User3\n",
       "label                       \n",
       "a     0    NaN    NaN    NaN\n",
       "      2    8.7    8.0    5.7\n",
       "b     1    NaN    NaN    NaN\n",
       "      3    6.0    5.3    5.0"
      ]
     },
     "execution_count": 74,
     "metadata": {},
     "output_type": "execute_result"
    }
   ],
   "source": [
    "df.groupby(by='label').rolling(2).sum()"
   ]
  },
  {
   "cell_type": "code",
   "execution_count": 77,
   "metadata": {},
   "outputs": [
    {
     "data": {
      "text/html": [
       "<div>\n",
       "<style scoped>\n",
       "    .dataframe tbody tr th:only-of-type {\n",
       "        vertical-align: middle;\n",
       "    }\n",
       "\n",
       "    .dataframe tbody tr th {\n",
       "        vertical-align: top;\n",
       "    }\n",
       "\n",
       "    .dataframe thead th {\n",
       "        text-align: right;\n",
       "    }\n",
       "</style>\n",
       "<table border=\"1\" class=\"dataframe\">\n",
       "  <thead>\n",
       "    <tr style=\"text-align: right;\">\n",
       "      <th></th>\n",
       "      <th>label</th>\n",
       "      <th>User1</th>\n",
       "      <th>User2</th>\n",
       "      <th>User3</th>\n",
       "    </tr>\n",
       "  </thead>\n",
       "  <tbody>\n",
       "    <tr>\n",
       "      <th>0</th>\n",
       "      <td>a</td>\n",
       "      <td>NaN</td>\n",
       "      <td>NaN</td>\n",
       "      <td>NaN</td>\n",
       "    </tr>\n",
       "    <tr>\n",
       "      <th>2</th>\n",
       "      <td>a</td>\n",
       "      <td>8.7</td>\n",
       "      <td>8.0</td>\n",
       "      <td>5.7</td>\n",
       "    </tr>\n",
       "    <tr>\n",
       "      <th>1</th>\n",
       "      <td>b</td>\n",
       "      <td>NaN</td>\n",
       "      <td>NaN</td>\n",
       "      <td>NaN</td>\n",
       "    </tr>\n",
       "    <tr>\n",
       "      <th>3</th>\n",
       "      <td>b</td>\n",
       "      <td>6.0</td>\n",
       "      <td>5.3</td>\n",
       "      <td>5.0</td>\n",
       "    </tr>\n",
       "  </tbody>\n",
       "</table>\n",
       "</div>"
      ],
      "text/plain": [
       "  label  User1  User2  User3\n",
       "0     a    NaN    NaN    NaN\n",
       "2     a    8.7    8.0    5.7\n",
       "1     b    NaN    NaN    NaN\n",
       "3     b    6.0    5.3    5.0"
      ]
     },
     "execution_count": 77,
     "metadata": {},
     "output_type": "execute_result"
    }
   ],
   "source": [
    "df.groupby('label', as_index=False).rolling(2).sum()"
   ]
  },
  {
   "cell_type": "code",
   "execution_count": 76,
   "metadata": {},
   "outputs": [
    {
     "data": {
      "text/html": [
       "<div>\n",
       "<style scoped>\n",
       "    .dataframe tbody tr th:only-of-type {\n",
       "        vertical-align: middle;\n",
       "    }\n",
       "\n",
       "    .dataframe tbody tr th {\n",
       "        vertical-align: top;\n",
       "    }\n",
       "\n",
       "    .dataframe thead th {\n",
       "        text-align: right;\n",
       "    }\n",
       "</style>\n",
       "<table border=\"1\" class=\"dataframe\">\n",
       "  <thead>\n",
       "    <tr style=\"text-align: right;\">\n",
       "      <th></th>\n",
       "      <th>label</th>\n",
       "      <th>User1</th>\n",
       "      <th>User2</th>\n",
       "      <th>User3</th>\n",
       "    </tr>\n",
       "  </thead>\n",
       "  <tbody>\n",
       "    <tr>\n",
       "      <th>0</th>\n",
       "      <td>a</td>\n",
       "      <td>NaN</td>\n",
       "      <td>NaN</td>\n",
       "      <td>NaN</td>\n",
       "    </tr>\n",
       "    <tr>\n",
       "      <th>1</th>\n",
       "      <td>b</td>\n",
       "      <td>NaN</td>\n",
       "      <td>NaN</td>\n",
       "      <td>NaN</td>\n",
       "    </tr>\n",
       "    <tr>\n",
       "      <th>2</th>\n",
       "      <td>a</td>\n",
       "      <td>8.7</td>\n",
       "      <td>8.0</td>\n",
       "      <td>5.7</td>\n",
       "    </tr>\n",
       "    <tr>\n",
       "      <th>3</th>\n",
       "      <td>b</td>\n",
       "      <td>6.0</td>\n",
       "      <td>5.3</td>\n",
       "      <td>5.0</td>\n",
       "    </tr>\n",
       "  </tbody>\n",
       "</table>\n",
       "</div>"
      ],
      "text/plain": [
       "  label  User1  User2  User3\n",
       "0     a    NaN    NaN    NaN\n",
       "1     b    NaN    NaN    NaN\n",
       "2     a    8.7    8.0    5.7\n",
       "3     b    6.0    5.3    5.0"
      ]
     },
     "execution_count": 76,
     "metadata": {},
     "output_type": "execute_result"
    }
   ],
   "source": [
    "df.groupby('label', as_index=False).rolling(2).sum().sort_index()"
   ]
  },
  {
   "cell_type": "code",
   "execution_count": 78,
   "metadata": {},
   "outputs": [
    {
     "data": {
      "text/html": [
       "<div>\n",
       "<style scoped>\n",
       "    .dataframe tbody tr th:only-of-type {\n",
       "        vertical-align: middle;\n",
       "    }\n",
       "\n",
       "    .dataframe tbody tr th {\n",
       "        vertical-align: top;\n",
       "    }\n",
       "\n",
       "    .dataframe thead th {\n",
       "        text-align: right;\n",
       "    }\n",
       "</style>\n",
       "<table border=\"1\" class=\"dataframe\">\n",
       "  <thead>\n",
       "    <tr style=\"text-align: right;\">\n",
       "      <th></th>\n",
       "      <th>a</th>\n",
       "      <th>b</th>\n",
       "      <th>c</th>\n",
       "    </tr>\n",
       "  </thead>\n",
       "  <tbody>\n",
       "    <tr>\n",
       "      <th>tuna</th>\n",
       "      <td>1</td>\n",
       "      <td>2</td>\n",
       "      <td>3</td>\n",
       "    </tr>\n",
       "    <tr>\n",
       "      <th>salmon</th>\n",
       "      <td>1</td>\n",
       "      <td>5</td>\n",
       "      <td>6</td>\n",
       "    </tr>\n",
       "    <tr>\n",
       "      <th>catfish</th>\n",
       "      <td>2</td>\n",
       "      <td>5</td>\n",
       "      <td>8</td>\n",
       "    </tr>\n",
       "    <tr>\n",
       "      <th>goldfish</th>\n",
       "      <td>2</td>\n",
       "      <td>6</td>\n",
       "      <td>9</td>\n",
       "    </tr>\n",
       "  </tbody>\n",
       "</table>\n",
       "</div>"
      ],
      "text/plain": [
       "          a  b  c\n",
       "tuna      1  2  3\n",
       "salmon    1  5  6\n",
       "catfish   2  5  8\n",
       "goldfish  2  6  9"
      ]
     },
     "execution_count": 78,
     "metadata": {},
     "output_type": "execute_result"
    }
   ],
   "source": [
    "data = [[1, 2, 3], [1, 5, 6], [2, 5, 8], [2, 6, 9]]\n",
    "df = pd.DataFrame(data, columns=[\"a\", \"b\", \"c\"],\n",
    "                  index=[\"tuna\", \"salmon\", \"catfish\", \"goldfish\"])\n",
    "df"
   ]
  },
  {
   "cell_type": "code",
   "execution_count": 98,
   "metadata": {},
   "outputs": [
    {
     "name": "stdout",
     "output_type": "stream",
     "text": [
      "{'BMW': [(1, 2), (1, 2), (3, 3)], 'Mercedes': [(2, 3), (2, 2), (2, 3)]}\n",
      "{'BMW': {(1, 2): 2, (3, 3): 1}, 'Mercedes': {(2, 3): 2, (2, 2): 1}}\n"
     ]
    }
   ],
   "source": [
    "# convert list of dictionary to dictionary of dictionoary\n",
    "\n",
    "from collections import defaultdict\n",
    "truck_locations = [\n",
    "    {\"model\": \"BMW\", \"location\": (1, 2)},\n",
    "    {\"model\": \"Mercedes\", \"location\": (2, 3)},\n",
    "    {\"model\": \"Mercedes\", \"location\": (2, 2)},\n",
    "    {\"model\": \"Mercedes\", \"location\": (2, 3)},\n",
    "    {\"model\": \"BMW\", \"location\": (1, 2)},\n",
    "    {\"model\": \"BMW\", \"location\": (3, 3)}]\n",
    "# 1. model: list of location\n",
    "model_locations = {}\n",
    "for t_dict in truck_locations:\n",
    "    model = t_dict['model']\n",
    "    location = t_dict['location']\n",
    "    if model in model_locations: \n",
    "        model_locations[model].append(location)\n",
    "    else:\n",
    "        model_locations[model] = [location]\n",
    "print(model_locations)\n",
    "\n",
    "# 2. dictionary of dictionary \n",
    "# {model: {location: counts}}\n",
    "model_loc_counts = {}\n",
    "for t_dict in truck_locations:\n",
    "    model = t_dict['model']\n",
    "    location = t_dict['location']\n",
    "    if model in model_loc_counts:\n",
    "        loc_counts = model_loc_counts[model]\n",
    "        loc_counts[location] = 1 + loc_counts.get(location, 0)\n",
    "    else:\n",
    "        model_loc_counts[model] = {location:1}\n",
    "print(model_loc_counts)"
   ]
  },
  {
   "cell_type": "code",
   "execution_count": 13,
   "metadata": {},
   "outputs": [
    {
     "name": "stdout",
     "output_type": "stream",
     "text": [
      "{\"a\": {\"b\": \"c\", \"d\": \"e\"}}\n",
      "<class 'str'>\n",
      "{'a': {'b': 'c', 'd': 'e'}}\n",
      "<class 'dict'>\n"
     ]
    }
   ],
   "source": [
    "import json\n",
    "json_str = json.dumps({'a':{'b':'c', 'd':'e'}})\n",
    "print(json_str)\n",
    "print(type(json_str))\n",
    "print(json.loads(json_str))\n",
    "print(type(json.loads(json_str)))\n"
   ]
  },
  {
   "cell_type": "code",
   "execution_count": null,
   "metadata": {},
   "outputs": [],
   "source": []
  },
  {
   "cell_type": "code",
   "execution_count": 20,
   "metadata": {},
   "outputs": [
    {
     "name": "stdout",
     "output_type": "stream",
     "text": [
      "{\"a_b\": \"c\", \"a_d\": \"e\"}\n"
     ]
    }
   ],
   "source": [
    "data = json.loads(json_str)\n",
    "res_dict = {}\n",
    "def flatten_dic(key_list, sub_obj):\n",
    "    if isinstance(sub_obj, dict):\n",
    "        for key in sub_obj:\n",
    "            flatten_dic(key_list + [key], sub_obj[key])\n",
    "    else: \n",
    "        key_str = '_'.join(key_list)\n",
    "        res_dict[key_str] = sub_obj\n",
    "             \n",
    "\n",
    "flatten_dic([], data)\n",
    "print(json.dumps(res_dict))"
   ]
  },
  {
   "cell_type": "code",
   "execution_count": 18,
   "metadata": {},
   "outputs": [
    {
     "data": {
      "text/plain": [
       "[]"
      ]
     },
     "execution_count": 18,
     "metadata": {},
     "output_type": "execute_result"
    }
   ],
   "source": [
    "a = []\n",
    "a + [1]\n",
    "a"
   ]
  },
  {
   "cell_type": "code",
   "execution_count": 4,
   "metadata": {},
   "outputs": [
    {
     "name": "stdout",
     "output_type": "stream",
     "text": [
      "{'BMW': (1, 2), 'Mercedes': (2, 3)}\n"
     ]
    }
   ],
   "source": [
    "# find max from dictionary of dictionary\n",
    "model_loc = {'BMW': {(1, 2): 2, (3, 3): 1}, 'Mercedes': {(2, 3): 2, (2, 2): 1}}\n",
    "\n",
    "max_model_loc = {}\n",
    "for model in model_loc:\n",
    "    loc_dict = model_loc[model]\n",
    "    cnt = 0\n",
    "    max_loc = None \n",
    "    for loc in loc_dict:\n",
    "        if loc_dict[loc] > cnt:\n",
    "            cnt = loc_dict[loc]\n",
    "            max_loc = loc\n",
    "    max_model_loc[model] = max_loc \n",
    "\n",
    "print(max_model_loc)"
   ]
  },
  {
   "cell_type": "code",
   "execution_count": null,
   "metadata": {},
   "outputs": [],
   "source": []
  }
 ],
 "metadata": {
  "kernelspec": {
   "display_name": "ds",
   "language": "python",
   "name": "python3"
  },
  "language_info": {
   "codemirror_mode": {
    "name": "ipython",
    "version": 3
   },
   "file_extension": ".py",
   "mimetype": "text/x-python",
   "name": "python",
   "nbconvert_exporter": "python",
   "pygments_lexer": "ipython3",
   "version": "3.10.13"
  }
 },
 "nbformat": 4,
 "nbformat_minor": 2
}
