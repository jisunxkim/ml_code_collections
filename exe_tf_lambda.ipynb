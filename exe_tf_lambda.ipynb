{
 "cells": [
  {
   "cell_type": "code",
   "execution_count": 1,
   "metadata": {},
   "outputs": [
    {
     "name": "stderr",
     "output_type": "stream",
     "text": [
      "2024-04-23 11:04:38.141492: I tensorflow/core/platform/cpu_feature_guard.cc:142] This TensorFlow binary is optimized with oneAPI Deep Neural Network Library (oneDNN) to use the following CPU instructions in performance-critical operations:  AVX2 FMA\n",
      "To enable them in other operations, rebuild TensorFlow with the appropriate compiler flags.\n"
     ]
    },
    {
     "name": "stdout",
     "output_type": "stream",
     "text": [
      "Model: \"model\"\n",
      "__________________________________________________________________________________________________\n",
      "Layer (type)                    Output Shape         Param #     Connected to                     \n",
      "==================================================================================================\n",
      "input_1 (InputLayer)            [(None, 100)]        0                                            \n",
      "__________________________________________________________________________________________________\n",
      "input_2 (InputLayer)            [(None, 100)]        0                                            \n",
      "__________________________________________________________________________________________________\n",
      "lambda (Lambda)                 (None, 100)          0           input_1[0][0]                    \n",
      "                                                                 input_2[0][0]                    \n",
      "__________________________________________________________________________________________________\n",
      "dense (Dense)                   (None, 1000)         101000      lambda[0][0]                     \n",
      "__________________________________________________________________________________________________\n",
      "dense_1 (Dense)                 (None, 1000)         1001000     dense[0][0]                      \n",
      "__________________________________________________________________________________________________\n",
      "dense_2 (Dense)                 (None, 1)            1001        dense_1[0][0]                    \n",
      "==================================================================================================\n",
      "Total params: 1,103,001\n",
      "Trainable params: 1,103,001\n",
      "Non-trainable params: 0\n",
      "__________________________________________________________________________________________________\n"
     ]
    },
    {
     "name": "stderr",
     "output_type": "stream",
     "text": [
      "2024-04-23 11:04:38.536643: I tensorflow/compiler/mlir/mlir_graph_optimization_pass.cc:185] None of the MLIR Optimization Passes are enabled (registered 2)\n"
     ]
    },
    {
     "name": "stdout",
     "output_type": "stream",
     "text": [
      "Epoch 1/20\n",
      "32/32 [==============================] - 1s 7ms/step - loss: 0.2371 - mse: 0.2371\n",
      "Epoch 2/20\n",
      "32/32 [==============================] - 0s 7ms/step - loss: 1.8078e-04 - mse: 1.8078e-04\n",
      "Epoch 3/20\n",
      "32/32 [==============================] - 0s 7ms/step - loss: 1.8365e-05 - mse: 1.8365e-05\n",
      "Epoch 4/20\n",
      "32/32 [==============================] - 0s 7ms/step - loss: 1.4154e-05 - mse: 1.4154e-05\n",
      "Epoch 5/20\n",
      "32/32 [==============================] - 0s 7ms/step - loss: 1.3704e-05 - mse: 1.3704e-05\n",
      "Epoch 6/20\n",
      "32/32 [==============================] - 0s 7ms/step - loss: 1.1880e-05 - mse: 1.1880e-05\n",
      "Epoch 7/20\n",
      "32/32 [==============================] - 0s 8ms/step - loss: 1.1076e-05 - mse: 1.1076e-05\n",
      "Epoch 8/20\n",
      "32/32 [==============================] - 0s 7ms/step - loss: 1.0172e-05 - mse: 1.0172e-05\n",
      "Epoch 9/20\n",
      "32/32 [==============================] - 0s 7ms/step - loss: 1.0580e-05 - mse: 1.0580e-05\n",
      "Epoch 10/20\n",
      "32/32 [==============================] - 0s 7ms/step - loss: 8.4590e-06 - mse: 8.4590e-06\n",
      "Epoch 11/20\n",
      "32/32 [==============================] - 0s 7ms/step - loss: 7.8828e-06 - mse: 7.8828e-06\n",
      "Epoch 12/20\n",
      "32/32 [==============================] - 0s 7ms/step - loss: 7.8636e-06 - mse: 7.8636e-06\n",
      "Epoch 13/20\n",
      "32/32 [==============================] - 0s 7ms/step - loss: 7.0879e-06 - mse: 7.0879e-06\n",
      "Epoch 14/20\n",
      "32/32 [==============================] - 0s 7ms/step - loss: 6.6374e-06 - mse: 6.6374e-06\n",
      "Epoch 15/20\n",
      "32/32 [==============================] - 0s 7ms/step - loss: 5.6246e-06 - mse: 5.6246e-06\n",
      "Epoch 16/20\n",
      "32/32 [==============================] - 0s 7ms/step - loss: 5.6146e-06 - mse: 5.6146e-06\n",
      "Epoch 17/20\n",
      "32/32 [==============================] - 0s 7ms/step - loss: 5.1980e-06 - mse: 5.1980e-06\n",
      "Epoch 18/20\n",
      "32/32 [==============================] - 0s 7ms/step - loss: 5.2326e-06 - mse: 5.2326e-06\n",
      "Epoch 19/20\n",
      "32/32 [==============================] - 0s 8ms/step - loss: 5.3016e-06 - mse: 5.3016e-06\n",
      "Epoch 20/20\n",
      "32/32 [==============================] - 0s 7ms/step - loss: 4.6227e-06 - mse: 4.6227e-06\n",
      "CPU times: user 18.4 s, sys: 13.3 s, total: 31.7 s\n",
      "Wall time: 8.65 s\n"
     ]
    }
   ],
   "source": [
    "%%time\n",
    "import tensorflow as tf\n",
    "from tensorflow.keras.layers import Lambda\n",
    "import numpy as np\n",
    "\n",
    "\n",
    "# Custom sigmoid function using TensorFlow operations\n",
    "def custom_sigmoid(x):\n",
    "    return 1 / (1 + tf.exp(-x))\n",
    "\n",
    "# Custom function to perform a complex transformation\n",
    "def complex_transform(x):\n",
    "    # Element-wise multiplication\n",
    "    elementwise_product = x[0] * x[1]\n",
    "    \n",
    "    # Apply custom sigmoid function\n",
    "    transformed_output = custom_sigmoid(elementwise_product)\n",
    "    \n",
    "    return transformed_output\n",
    "\n",
    "# Define input tensors\n",
    "input_x1 = tf.keras.Input(shape=(100,))\n",
    "input_x2 = tf.keras.Input(shape=(100,))\n",
    "\n",
    "# Lambda layer for complex transformation\n",
    "complex_transform_layer = Lambda(complex_transform)([input_x1, input_x2])\n",
    "\n",
    "# Hidden layer\n",
    "h1_layer = tf.keras.layers.Dense(1000, activation='relu')(complex_transform_layer)\n",
    "h2_layer = tf.keras.layers.Dense(1000, activation='relu')(h1_layer)\n",
    "# output layer\n",
    "output_layer = tf.keras.layers.Dense(1)(h2_layer)\n",
    "# Define model\n",
    "model = tf.keras.Model(inputs=[input_x1, input_x2], outputs=output_layer)\n",
    "\n",
    "# Compile and summarize the model\n",
    "model.compile(optimizer='adam', loss='mse', metrics=['mse'])\n",
    "model.summary()\n",
    "\n",
    "# Generate random input data\n",
    "x1 = np.random.rand(1000, 100)\n",
    "x2 = np.random.rand(1000, 100)\n",
    "y_true = np.zeros((1000,))  # Dummy target data for demonstration purposes\n",
    "\n",
    "# Train the model (just for demonstration purposes)\n",
    "history = model.fit([x1, x2], y_true, epochs=20, batch_size=32)"
   ]
  },
  {
   "cell_type": "code",
   "execution_count": 2,
   "metadata": {},
   "outputs": [
    {
     "name": "stdout",
     "output_type": "stream",
     "text": [
      "[0.23705413937568665, 0.00018077877757605165, 1.8365242794970982e-05, 1.415398764947895e-05, 1.370425979985157e-05, 1.1879847988893744e-05, 1.1076415830757469e-05, 1.0171664143854287e-05, 1.0580331036180723e-05, 8.458982847514562e-06, 7.88280613051029e-06, 7.863588507461827e-06, 7.087868198141223e-06, 6.637387741648126e-06, 5.624612185783917e-06, 5.61456408831873e-06, 5.198022790864343e-06, 5.232592684478732e-06, 5.3015733101346996e-06, 4.622674168786034e-06]\n",
      "[0.23705413937568665, 0.00018077877757605165, 1.8365242794970982e-05, 1.415398764947895e-05, 1.370425979985157e-05, 1.1879847988893744e-05, 1.1076415830757469e-05, 1.0171664143854287e-05, 1.0580331036180723e-05, 8.458982847514562e-06, 7.88280613051029e-06, 7.863588507461827e-06, 7.087868198141223e-06, 6.637387741648126e-06, 5.624612185783917e-06, 5.61456408831873e-06, 5.198022790864343e-06, 5.232592684478732e-06, 5.3015733101346996e-06, 4.622674168786034e-06]\n"
     ]
    }
   ],
   "source": [
    "print(history.history['loss'])\n",
    "print(history.history['mse'])"
   ]
  },
  {
   "cell_type": "markdown",
   "metadata": {},
   "source": []
  },
  {
   "cell_type": "markdown",
   "metadata": {},
   "source": []
  },
  {
   "cell_type": "code",
   "execution_count": 7,
   "metadata": {},
   "outputs": [
    {
     "name": "stdout",
     "output_type": "stream",
     "text": [
      "('You must install pydot (`pip install pydot`) and install graphviz (see instructions at https://graphviz.gitlab.io/download/) ', 'for plot_model/model_to_dot to work.')\n"
     ]
    }
   ],
   "source": [
    "tf.keras.utils.plot_model(model, show_shapes=True, to_file='model.png')"
   ]
  },
  {
   "cell_type": "code",
   "execution_count": 5,
   "metadata": {},
   "outputs": [
    {
     "name": "stdout",
     "output_type": "stream",
     "text": [
      "pydot==1.4.2\n",
      "pydotplus==2.0.2\n"
     ]
    }
   ],
   "source": [
    "!pip3 freeze | grep pydot"
   ]
  },
  {
   "cell_type": "markdown",
   "metadata": {},
   "source": []
  },
  {
   "cell_type": "code",
   "execution_count": 6,
   "metadata": {},
   "outputs": [
    {
     "name": "stdout",
     "output_type": "stream",
     "text": [
      "Collecting pydot-ng==2.0.0\n",
      "  Downloading pydot_ng-2.0.0-py2.py3-none-any.whl.metadata (2.0 kB)\n",
      "Requirement already satisfied: pyparsing>=2.0.1 in /Users/q1460293/opt/anaconda3/envs/tf/lib/python3.8/site-packages (from pydot-ng==2.0.0) (3.1.2)\n",
      "Downloading pydot_ng-2.0.0-py2.py3-none-any.whl (20 kB)\n",
      "Installing collected packages: pydot-ng\n",
      "Successfully installed pydot-ng-2.0.0\n"
     ]
    }
   ],
   "source": [
    "!pip install 'pydot-ng==2.0.0'"
   ]
  },
  {
   "cell_type": "code",
   "execution_count": null,
   "metadata": {},
   "outputs": [],
   "source": []
  }
 ],
 "metadata": {
  "kernelspec": {
   "display_name": "tf",
   "language": "python",
   "name": "python3"
  },
  "language_info": {
   "codemirror_mode": {
    "name": "ipython",
    "version": 3
   },
   "file_extension": ".py",
   "mimetype": "text/x-python",
   "name": "python",
   "nbconvert_exporter": "python",
   "pygments_lexer": "ipython3",
   "version": "3.8.19"
  }
 },
 "nbformat": 4,
 "nbformat_minor": 2
}
