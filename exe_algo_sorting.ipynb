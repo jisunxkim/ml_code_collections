{
 "cells": [
  {
   "cell_type": "code",
   "execution_count": null,
   "metadata": {},
   "outputs": [],
   "source": [
    "# insertion sort\n",
    "# O(n**2)\n"
   ]
  },
  {
   "cell_type": "code",
   "execution_count": 6,
   "metadata": {},
   "outputs": [
    {
     "name": "stdout",
     "output_type": "stream",
     "text": [
      "[]\n",
      "[1, 2, 3, 5]\n",
      "[2]\n",
      "[-2, 1, 5]\n"
     ]
    }
   ],
   "source": [
    "# quick sort\n",
    "# O(nlogn)\n",
    "\n",
    "nums_list = [[], [5,2,3,1], [2], [5,-2,1]]\n",
    "\n",
    "def quickSort(nums):\n",
    "    \n",
    "    def q_sort(start, end):\n",
    "        if start >= end:\n",
    "            return \n",
    "        # set last value as pivot\n",
    "        # move all value less than pivot to the left\n",
    "        # using two pointers p1, p2\n",
    "        # p1 moves only when p2 is less than pivot and\n",
    "        # after swap with p2\n",
    "        p1 = p2 = start \n",
    "        pivot = end \n",
    "        while p2 < pivot:\n",
    "            if nums[p2] < nums[pivot]:\n",
    "                nums[p1], nums[p2] = nums[p2], nums[p1]\n",
    "                p1 += 1\n",
    "                p2 += 1\n",
    "            else:\n",
    "                p2 += 1\n",
    "        # swap pivot value to the first greater value p1\n",
    "        nums[p1], nums[pivot] = nums[pivot], nums[p1]\n",
    "        # repeat left and right of pivot\n",
    "        q_sort(start, p1-1)\n",
    "        q_sort(p1, end)\n",
    "        \n",
    "        return\n",
    "    start = 0\n",
    "    end = len(nums) - 1\n",
    "    q_sort(start,end)\n",
    "    return \n",
    "    \n",
    "for nums in nums_list:\n",
    "    quickSort(nums)\n",
    "    print(nums)"
   ]
  },
  {
   "cell_type": "code",
   "execution_count": null,
   "metadata": {},
   "outputs": [],
   "source": [
    "# merge sort\n",
    "# O(nlogn)\n"
   ]
  }
 ],
 "metadata": {
  "kernelspec": {
   "display_name": "ds",
   "language": "python",
   "name": "python3"
  },
  "language_info": {
   "codemirror_mode": {
    "name": "ipython",
    "version": 3
   },
   "file_extension": ".py",
   "mimetype": "text/x-python",
   "name": "python",
   "nbconvert_exporter": "python",
   "pygments_lexer": "ipython3",
   "version": "3.10.13"
  }
 },
 "nbformat": 4,
 "nbformat_minor": 2
}
