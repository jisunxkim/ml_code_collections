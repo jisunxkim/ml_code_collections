{
 "cells": [
  {
   "cell_type": "markdown",
   "id": "ff7fb61d-a9d5-4817-ae82-bfea1be34fd5",
   "metadata": {
    "tags": []
   },
   "source": [
    "# H2o Model Training"
   ]
  },
  {
   "cell_type": "markdown",
   "id": "3b8b3424-1f2a-4fc6-86b3-e98e767d01c6",
   "metadata": {
    "tags": []
   },
   "source": [
    "## Setting"
   ]
  },
  {
   "cell_type": "code",
   "execution_count": 1,
   "id": "786558ba-c6b2-4cb3-8153-899854f7f995",
   "metadata": {},
   "outputs": [],
   "source": [
    "%load_ext autoreload\n",
    "%autoreload 2"
   ]
  },
  {
   "cell_type": "code",
   "execution_count": 2,
   "id": "cb859a55-3a1f-4fb6-8007-a5051ccd494d",
   "metadata": {},
   "outputs": [],
   "source": [
    "ipython = get_ipython()\n",
    "ipython.magic(\"load_ext google.cloud.bigquery\")"
   ]
  },
  {
   "cell_type": "code",
   "execution_count": 3,
   "id": "e5117434-1335-40a1-abc9-d02a00e57571",
   "metadata": {},
   "outputs": [],
   "source": [
    "# import sys\n",
    "# sys.path.append('/home/jovyan/projects/common')"
   ]
  },
  {
   "cell_type": "code",
   "execution_count": 4,
   "id": "c1f968d8-0489-4eec-a77a-a7624a6ab143",
   "metadata": {},
   "outputs": [],
   "source": [
    "# os.chdir('/home/jovyan/projects/model_h1_training_age_segment/model_sample_training')\n",
    "# os.getcwd()"
   ]
  },
  {
   "cell_type": "code",
   "execution_count": 5,
   "id": "00256533-83ec-40e1-b6de-72eb860667a3",
   "metadata": {},
   "outputs": [],
   "source": [
    "import pandas as pd\n",
    "import os\n",
    "import shutil\n",
    "import pytz\n",
    "from datetime import datetime\n",
    "import yaml\n",
    "import time\n",
    "import numpy as np\n",
    "\n",
    "import matplotlib.pyplot as plt\n",
    "import matplotlib.dates as mdates\n",
    "import seaborn as sns\n",
    "\n",
    "import evaluation_utilities\n",
    "import utilities\n",
    "import h2o_cluster\n",
    "import model_performance\n",
    "\n",
    "import logging\n",
    "\n",
    "import h2o\n",
    "from h2o.estimators.random_forest import H2ORandomForestEstimator\n",
    "from h2o.estimators import H2OGradientBoostingEstimator\n",
    "from sklearn.metrics import classification_report, roc_curve, roc_auc_score, confusion_matrix, precision_recall_curve\n",
    "from sklearn.preprocessing import normalize\n",
    "\n",
    "from verta import Client"
   ]
  },
  {
   "cell_type": "code",
   "execution_count": 6,
   "id": "9e3a1e29-391a-401d-af7c-1e630288a1b2",
   "metadata": {},
   "outputs": [
    {
     "data": {
      "text/plain": [
       "<pandas._config.config.option_context at 0x7fe6959a8b50>"
      ]
     },
     "execution_count": 6,
     "metadata": {},
     "output_type": "execute_result"
    }
   ],
   "source": [
    "pd.set_option('display.max_rows', 50)\n",
    "pd.option_context('display.max_columns', 50)"
   ]
  },
  {
   "cell_type": "code",
   "execution_count": 7,
   "id": "aab25049-f1d5-4a00-8ff4-5ec38853aa97",
   "metadata": {},
   "outputs": [],
   "source": [
    "logger = utilities.get_logger(level='INFO')"
   ]
  },
  {
   "cell_type": "markdown",
   "id": "efb67891-fb0e-4f92-a0cc-32f27e68789a",
   "metadata": {
    "tags": []
   },
   "source": [
    "# Load Config"
   ]
  },
  {
   "cell_type": "code",
   "execution_count": 243,
   "id": "87c39501-b7ff-4a7f-b246-f9ee9143c1b2",
   "metadata": {},
   "outputs": [],
   "source": [
    "####################################################\n",
    "config_file = \"./config_cluster_modeldb.yaml\"\n",
    "####################################################\n",
    "\n",
    "with open(config_file) as f:\n",
    "    model_config = yaml.load(f, Loader=yaml.SafeLoader)\n",
    "\n",
    "# Cluster Config\n",
    "CLUSTER_NAME = model_config['H2O_CLUSTER_CONFIG']['CLUSTER_NAME']\n",
    "CLUSTER_NODE_COUNT = model_config['H2O_CLUSTER_CONFIG']['NODE_COUNT']\n",
    "NODE_CPU = model_config['H2O_CLUSTER_CONFIG']['NODE_CPU']\n",
    "NODE_MEMGB = model_config['H2O_CLUSTER_CONFIG']['NODE_MEMGB']\n",
    "\n",
    "# ModelDB Config\n",
    "HOST = model_config['MODELDB_CONFIG']['HOST']\n",
    "ARTIFACTS_FOLDER = model_config['MODELDB_CONFIG']['ARTIFACTS_FOLDER']\n",
    "SAVED_MODEL_FOLDER = model_config['MODELDB_CONFIG']['SAVED_MODEL_FOLDER']\n",
    "PROJECT_NAME = model_config['MODELDB_CONFIG']['PROJECT_NAME']\n",
    "EXPERIMENT_NAME = model_config['MODELDB_CONFIG']['EXPERIMENT_NAME']\n",
    "EXPERIMENT_RUN_NAME = model_config['MODELDB_CONFIG']['EXPERIMENT_RUN_NAME']\n",
    "EXPERIMENT_RUN_TAGS = model_config['MODELDB_CONFIG']['EXPERIMENT_RUN_TAGS']\n",
    "\n",
    "\n",
    "\n",
    "####################################################\n",
    "config_file = \"./config_model_data.yaml\"\n",
    "####################################################\n",
    "\n",
    "with open(config_file) as f:\n",
    "    model_data = yaml.load(f, Loader=yaml.SafeLoader)\n",
    "    \n",
    "    \n",
    "# GCS\n",
    "MODEL_GCS = model_data['GCS']['MODEL_GCS']\n",
    "OUTPUT_GCS = model_data['GCS']['OUTPUT_GCS']\n",
    "\n",
    "# DATA BLOB <<== select blob name\n",
    "    \n",
    "TRAIN_BLOB = model_data['MODEL_DATA_PATH']['all_features_tf_classification_v07__v6']['train']\n",
    "TEST_BLOB = model_data['MODEL_DATA_PATH']['all_features_tf_classification_v07__v4']['test_diff']\n",
    "TEST_CHAMPION_BLOB = model_data['MODEL_DATA_PATH']['all_features_tf_classification_v07__v4']['test_diff_champion']\n",
    "\n",
    "# COLUMNS AND VARIABLES\n",
    "INDEX_COLUMNS = model_data['INDEX_COLUMNS']\n",
    "\n",
    "STRING_COLS = model_data['COLUMNS_TYPE']['STRING_COLS']\n",
    "NUMERICAL_COLS = model_data['COLUMNS_TYPE']['NUMERICAL_COLS']\n",
    "# CATEGORICAL_COLS = model_data['COLUMNS_TYPE']['CATEGORICAL_COLS']\n",
    "\n",
    "# MODEL VARIABLES\n",
    "RESPONSE_COL = model_data['RESPONSE_COL']\n",
    "POSITIVE_LABELS = model_data['POSITIVE_LABELS']\n",
    "NEGATIVE_LABELS = model_data['NEGATIVE_LABELS']\n",
    "LIST_TO_REMOVE_FROM_PREDICTORS = model_data['LIST_TO_REMOVE_FROM_PREDICTORS']\n",
    "\n",
    "TARGET_NAMES = model_data['TARGET_NAMES']\n",
    "\n",
    "\n",
    "\n",
    "####################################################\n",
    "config_file = 'config_model_parameters.yaml'\n",
    "####################################################\n",
    "# MODEL PROPERTIES AND HYPERPARAMETERS\n",
    "\n",
    "with open(config_file) as f:\n",
    "    model_param = yaml.load(f, Loader=yaml.SafeLoader)\n",
    "\n",
    "model_properties = model_param['MODEL_PROPERTIES']\n",
    "hyperparam_args = model_param['HYPER_DRF']['default']\n",
    "model_properties.update(hyperparam_args)\n"
   ]
  },
  {
   "cell_type": "markdown",
   "id": "0e711cfb-777d-40af-8286-de2905c97ad6",
   "metadata": {
    "tags": []
   },
   "source": [
    "# Functions"
   ]
  },
  {
   "cell_type": "code",
   "execution_count": 244,
   "id": "076a5c7d-d133-4e35-a304-dae383fae059",
   "metadata": {},
   "outputs": [],
   "source": [
    "def get_column_types_from_data_blob(blob_path, pattern= '.*0000000\\.csv', string_columns='', numerical_columns='', categorical_columns='', default_type='categorical'):\n",
    "    \"\"\"\n",
    "    If all types are clearly defined then set default_category=None.\n",
    "    If two types are clearly defined then set default_category as the last category.\n",
    "    default categories: 'string', 'numeric', 'categorical'\n",
    "    \"\"\"\n",
    "    temp = h2o.import_file(path=blob_path, pattern= pattern)\n",
    "    columns = temp.columns\n",
    "    h2o.remove(temp)\n",
    "    \n",
    "    \n",
    "    col_types = [\n",
    "    'string' if col in string_columns\n",
    "    else 'numeric' if col in numerical_columns\n",
    "    else 'categorical' if col in categorical_columns\n",
    "    else default_type\n",
    "    for col in columns\n",
    "    ]\n",
    "    \n",
    "    return columns, col_types"
   ]
  },
  {
   "cell_type": "markdown",
   "id": "c7d3a5fa-f1c6-44f2-8df4-c12a99b58fe0",
   "metadata": {},
   "source": [
    "# ModelDB Setting"
   ]
  },
  {
   "cell_type": "code",
   "execution_count": 245,
   "id": "625438a1-8228-42e0-bd0b-a7d041dabe1e",
   "metadata": {},
   "outputs": [
    {
     "name": "stdout",
     "output_type": "stream",
     "text": [
      "https://modeldb.mlp.ml.gce.z8s.io/\n",
      "P13N_daily_email_model_h5\n",
      "H2O DRF - Relevent negative data for training\n",
      "treatment2 - vf, deeper tree parameter setting\n"
     ]
    }
   ],
   "source": [
    "# EXPERIMENT_RUN_NAME = \"Train on NT events only - Predict Live events wo event_position - Base\"\n",
    "\n",
    "print(HOST)\n",
    "print(PROJECT_NAME)\n",
    "print(EXPERIMENT_NAME)\n",
    "print(EXPERIMENT_RUN_NAME)"
   ]
  },
  {
   "cell_type": "code",
   "execution_count": 246,
   "id": "2ab201b6-d045-4f2d-8a51-70a07dfb8823",
   "metadata": {},
   "outputs": [],
   "source": [
    "# # Manualy \n",
    "# EXPERIMENT_RUN_NAME = \"treatment1 - vf\"\n",
    "# modeldb_expt_run = client.get_experiment_run(EXPERIMENT_RUN_NAME)"
   ]
  },
  {
   "cell_type": "code",
   "execution_count": 247,
   "id": "fd988a87-7e95-4a70-ade4-63bb3655325a",
   "metadata": {
    "tags": []
   },
   "outputs": [
    {
     "name": "stdout",
     "output_type": "stream",
     "text": [
      "connection successfully established\n",
      "got existing Project: P13N_daily_email_model_h5\n",
      "got existing Experiment: H2O DRF - Relevent negative data for training\n",
      "got existing ExperimentRun: treatment2 - vf, deeper tree parameter setting\n"
     ]
    }
   ],
   "source": [
    "#Connecting to the client API\n",
    "client = Client(HOST)\n",
    "proj = client.set_project(PROJECT_NAME)\n",
    "expt = client.set_experiment(EXPERIMENT_NAME)\n",
    "\n",
    "# Create the experiment run\n",
    "modeldb_expt_run =  client.set_experiment_run(name=f'{EXPERIMENT_RUN_NAME}') "
   ]
  },
  {
   "cell_type": "markdown",
   "id": "2b3c792e-3f1a-4b1b-b0de-2e6cb0768ba6",
   "metadata": {
    "tags": []
   },
   "source": [
    "# Initiate a H2O Cluster"
   ]
  },
  {
   "cell_type": "code",
   "execution_count": 248,
   "id": "06efa494-2dcb-424b-9a8f-c947e13257b4",
   "metadata": {},
   "outputs": [
    {
     "data": {
      "text/plain": [
       "[H2OCluster(name='h2o-modelh5-1', version='3.28.1.2', ready=True, count=5, cpu='7', mem='45Gi', endpoint='http://h2o-modelh5-1-h2o.jisukim.svc:54321', uiPath='/h2o/jisukim/h2o-modelh5-1', serviceAccountName='default-editor')]"
      ]
     },
     "execution_count": 248,
     "metadata": {},
     "output_type": "execute_result"
    }
   ],
   "source": [
    "h2o_cluster.list_clusters()"
   ]
  },
  {
   "cell_type": "markdown",
   "id": "ba6df55a-4dcb-473a-b116-ffc24f05fc8a",
   "metadata": {},
   "source": [
    "## Delete clusters"
   ]
  },
  {
   "cell_type": "code",
   "execution_count": 239,
   "id": "ffa53d18-2efb-45ef-8806-fa2bae91e95f",
   "metadata": {},
   "outputs": [
    {
     "name": "stdin",
     "output_type": "stream",
     "text": [
      "Do you want to delete the h2o cluster? yes/ or any key yes\n"
     ]
    },
    {
     "name": "stderr",
     "output_type": "stream",
     "text": [
      "2022-01-28 14:29:56,517 - INFO - Deleting H2O cluster  clusterName=h2o-modelh5-1\n",
      "2022-01-28 14:29:56,563 - INFO - Successfully deleted H2O cluster  clusterName=h2o-modelh5-1\n"
     ]
    }
   ],
   "source": [
    "# delete the cluster after use. \n",
    "confirm = input(\"Do you want to delete the h2o cluster? yes/ or any key\")\n",
    "if confirm.lower() == 'yes':\n",
    "    h2o_cluster.delete_cluster(CLUSTER_NAME)\n",
    "else:\n",
    "    print(\"Cancellecd\")"
   ]
  },
  {
   "cell_type": "markdown",
   "id": "09da4a59-183f-4372-84a1-ba1ae902c05b",
   "metadata": {},
   "source": [
    "## Remove objects in the h2o cluster"
   ]
  },
  {
   "cell_type": "code",
   "execution_count": 294,
   "id": "f47ca169-0d5e-4c51-b353-437cd7eca067",
   "metadata": {},
   "outputs": [
    {
     "name": "stdin",
     "output_type": "stream",
     "text": [
      "Do you want to remove all objectives in h2o cluster? yes/ or any key yes\n"
     ]
    }
   ],
   "source": [
    "confirm = input(\"Do you want to remove all objectives in h2o cluster? yes/ or any key\")\n",
    "if confirm.lower() == 'yes':\n",
    "    h2o.remove_all()\n",
    "else:\n",
    "    print(\"Cancellecd\")"
   ]
  },
  {
   "cell_type": "markdown",
   "id": "f278982a-ff5f-417b-aedc-40f0c88859a1",
   "metadata": {},
   "source": [
    "## Initialize a h2o cluster"
   ]
  },
  {
   "cell_type": "code",
   "execution_count": 48,
   "id": "ef3df17d-4d03-4e9a-892a-1f062c167e88",
   "metadata": {},
   "outputs": [
    {
     "name": "stderr",
     "output_type": "stream",
     "text": [
      "2022-02-07 23:37:28,440 - INFO - Creating H2O cluster  definition={'apiVersion': 'ml.zulily.com/v1', 'kind': 'H2OCluster', 'metadata': {'name': 'h2o-modelh5-1', 'namespace': 'jisukim'}, 'spec': {'nodeCount': 5, 'nodeCpu': '7', 'nodeMem': '45Gi', 'version': '3.28.1.2', 'serviceAccountName': 'default-editor'}}\n"
     ]
    }
   ],
   "source": [
    "if not any(c.name == CLUSTER_NAME for c in h2o_cluster.list_clusters()):\n",
    "    h2o_cluster.create_cluster(\n",
    "        name=CLUSTER_NAME,\n",
    "        nodeCount=CLUSTER_NODE_COUNT,\n",
    "        cpu=NODE_CPU,\n",
    "        memGb=NODE_MEMGB\n",
    "    )\n",
    "else:\n",
    "    cluster = h2o_cluster.get_cluster(CLUSTER_NAME)\n",
    "    print(cluster)\n",
    "    print(f\"The cluster, {CLUSTER_NAME}, already exists. \\n Remove the current cluster and create again.\")"
   ]
  },
  {
   "cell_type": "code",
   "execution_count": 49,
   "id": "ea9f7350-9b90-433b-9e2f-1377d572f0ab",
   "metadata": {
    "tags": []
   },
   "outputs": [
    {
     "name": "stderr",
     "output_type": "stream",
     "text": [
      "2022-02-07 23:37:30,165 - INFO - Waiting on cluster to be ready  cluster=h2o-modelh5-1\n",
      "2022-02-07 23:37:30,172 - INFO - Cluster NOT ready  cluster=h2o-modelh5-1\n",
      "2022-02-07 23:37:35,187 - INFO - Cluster NOT ready  cluster=h2o-modelh5-1\n",
      "2022-02-07 23:37:40,196 - INFO - Cluster NOT ready  cluster=h2o-modelh5-1\n",
      "2022-02-07 23:37:45,210 - INFO - Cluster NOT ready  cluster=h2o-modelh5-1\n",
      "2022-02-07 23:37:50,224 - INFO - Cluster NOT ready  cluster=h2o-modelh5-1\n",
      "2022-02-07 23:37:55,241 - INFO - Cluster NOT ready  cluster=h2o-modelh5-1\n",
      "2022-02-07 23:38:00,250 - INFO - Cluster NOT ready  cluster=h2o-modelh5-1\n",
      "2022-02-07 23:38:05,267 - INFO - Cluster NOT ready  cluster=h2o-modelh5-1\n",
      "2022-02-07 23:38:10,278 - INFO - Cluster NOT ready  cluster=h2o-modelh5-1\n",
      "2022-02-07 23:38:15,295 - INFO - Cluster NOT ready  cluster=h2o-modelh5-1\n",
      "2022-02-07 23:38:20,307 - INFO - Cluster NOT ready  cluster=h2o-modelh5-1\n",
      "2022-02-07 23:38:25,314 - INFO - Cluster NOT ready  cluster=h2o-modelh5-1\n",
      "2022-02-07 23:38:30,323 - INFO - Cluster NOT ready  cluster=h2o-modelh5-1\n",
      "2022-02-07 23:38:35,339 - INFO - Cluster NOT ready  cluster=h2o-modelh5-1\n",
      "2022-02-07 23:38:40,353 - INFO - Cluster NOT ready  cluster=h2o-modelh5-1\n",
      "2022-02-07 23:38:45,372 - INFO - Cluster NOT ready  cluster=h2o-modelh5-1\n",
      "2022-02-07 23:38:50,383 - INFO - Cluster NOT ready  cluster=h2o-modelh5-1\n",
      "2022-02-07 23:38:55,403 - INFO - Cluster NOT ready  cluster=h2o-modelh5-1\n",
      "2022-02-07 23:39:00,415 - INFO - Cluster NOT ready  cluster=h2o-modelh5-1\n",
      "2022-02-07 23:39:05,431 - INFO - Cluster NOT ready  cluster=h2o-modelh5-1\n",
      "2022-02-07 23:39:10,449 - INFO - Cluster NOT ready  cluster=h2o-modelh5-1\n",
      "2022-02-07 23:39:15,470 - INFO - Cluster NOT ready  cluster=h2o-modelh5-1\n",
      "2022-02-07 23:39:20,482 - INFO - Cluster NOT ready  cluster=h2o-modelh5-1\n",
      "2022-02-07 23:39:25,499 - INFO - Cluster NOT ready  cluster=h2o-modelh5-1\n",
      "2022-02-07 23:39:30,511 - INFO - Cluster NOT ready  cluster=h2o-modelh5-1\n",
      "2022-02-07 23:39:35,521 - INFO - Cluster NOT ready  cluster=h2o-modelh5-1\n",
      "2022-02-07 23:39:40,529 - INFO - Cluster NOT ready  cluster=h2o-modelh5-1\n",
      "2022-02-07 23:39:45,543 - INFO - Cluster NOT ready  cluster=h2o-modelh5-1\n",
      "2022-02-07 23:39:50,556 - INFO - Cluster NOT ready  cluster=h2o-modelh5-1\n",
      "2022-02-07 23:39:55,569 - INFO - Cluster NOT ready  cluster=h2o-modelh5-1\n",
      "2022-02-07 23:40:00,581 - INFO - Cluster NOT ready  cluster=h2o-modelh5-1\n",
      "2022-02-07 23:40:05,594 - INFO - Cluster NOT ready  cluster=h2o-modelh5-1\n",
      "2022-02-07 23:40:10,605 - INFO - Cluster NOT ready  cluster=h2o-modelh5-1\n",
      "2022-02-07 23:40:15,613 - INFO - Cluster NOT ready  cluster=h2o-modelh5-1\n",
      "2022-02-07 23:40:20,623 - INFO - Cluster NOT ready  cluster=h2o-modelh5-1\n",
      "2022-02-07 23:40:25,643 - INFO - Cluster NOT ready  cluster=h2o-modelh5-1\n",
      "2022-02-07 23:40:30,655 - INFO - Cluster NOT ready  cluster=h2o-modelh5-1\n",
      "2022-02-07 23:40:35,674 - INFO - Cluster ready  cluster=h2o-modelh5-1\n",
      "2022-02-07 23:40:35,680 - INFO - duration: 3.1 min\n"
     ]
    }
   ],
   "source": [
    "\n",
    "h2o_cluster_logger = logging.getLogger(name=\"h2o_cluster\")\n",
    "h2o_cluster_logger.dsabled=True\n",
    "\n",
    "st= time.time()\n",
    "h2o_cluster.wait_cluster(CLUSTER_NAME)\n",
    "\n",
    "cluster=h2o_cluster.get_cluster(CLUSTER_NAME)\n",
    "cluster\n",
    "\n",
    "logger.info(\"duration: {:.1f} min\".format((time.time() - st)/60))\n",
    "\n",
    "h2o_cluster_logger.dsabled=True"
   ]
  },
  {
   "cell_type": "code",
   "execution_count": 295,
   "id": "37553204-8950-42e6-bd04-28bae0679dfe",
   "metadata": {
    "tags": []
   },
   "outputs": [
    {
     "name": "stdout",
     "output_type": "stream",
     "text": [
      "Checking whether there is an H2O instance running at http://h2o-modelh5-1-h2o.jisukim.svc:54321 . connected.\n",
      "Warning: Your H2O cluster version is too old (1 year, 10 months and 22 days)! Please download and install the latest version from http://h2o.ai/download/\n"
     ]
    },
    {
     "data": {
      "text/html": [
       "<div style=\"overflow:auto\"><table style=\"width:50%\"><tr><td>H2O cluster uptime:</td>\n",
       "<td>20 hours 29 mins</td></tr>\n",
       "<tr><td>H2O cluster timezone:</td>\n",
       "<td>Etc/UTC</td></tr>\n",
       "<tr><td>H2O data parsing timezone:</td>\n",
       "<td>UTC</td></tr>\n",
       "<tr><td>H2O cluster version:</td>\n",
       "<td>3.28.1.2</td></tr>\n",
       "<tr><td>H2O cluster version age:</td>\n",
       "<td>1 year, 10 months and 22 days !!!</td></tr>\n",
       "<tr><td>H2O cluster name:</td>\n",
       "<td>root</td></tr>\n",
       "<tr><td>H2O cluster total nodes:</td>\n",
       "<td>5</td></tr>\n",
       "<tr><td>H2O cluster free memory:</td>\n",
       "<td>171.2 Gb</td></tr>\n",
       "<tr><td>H2O cluster total cores:</td>\n",
       "<td>35</td></tr>\n",
       "<tr><td>H2O cluster allowed cores:</td>\n",
       "<td>35</td></tr>\n",
       "<tr><td>H2O cluster status:</td>\n",
       "<td>locked, healthy</td></tr>\n",
       "<tr><td>H2O connection url:</td>\n",
       "<td>http://h2o-modelh5-1-h2o.jisukim.svc:54321</td></tr>\n",
       "<tr><td>H2O connection proxy:</td>\n",
       "<td>None</td></tr>\n",
       "<tr><td>H2O internal security:</td>\n",
       "<td>False</td></tr>\n",
       "<tr><td>H2O API Extensions:</td>\n",
       "<td>Amazon S3, XGBoost, Algos, AutoML, Core V3, TargetEncoder, Core V4</td></tr>\n",
       "<tr><td>Python version:</td>\n",
       "<td>3.8.8 final</td></tr></table></div>"
      ],
      "text/plain": [
       "--------------------------  ------------------------------------------------------------------\n",
       "H2O cluster uptime:         20 hours 29 mins\n",
       "H2O cluster timezone:       Etc/UTC\n",
       "H2O data parsing timezone:  UTC\n",
       "H2O cluster version:        3.28.1.2\n",
       "H2O cluster version age:    1 year, 10 months and 22 days !!!\n",
       "H2O cluster name:           root\n",
       "H2O cluster total nodes:    5\n",
       "H2O cluster free memory:    171.2 Gb\n",
       "H2O cluster total cores:    35\n",
       "H2O cluster allowed cores:  35\n",
       "H2O cluster status:         locked, healthy\n",
       "H2O connection url:         http://h2o-modelh5-1-h2o.jisukim.svc:54321\n",
       "H2O connection proxy:\n",
       "H2O internal security:      False\n",
       "H2O API Extensions:         Amazon S3, XGBoost, Algos, AutoML, Core V3, TargetEncoder, Core V4\n",
       "Python version:             3.8.8 final\n",
       "--------------------------  ------------------------------------------------------------------"
      ]
     },
     "metadata": {},
     "output_type": "display_data"
    }
   ],
   "source": [
    "cluster=h2o_cluster.get_cluster(CLUSTER_NAME)\n",
    "cluster\n",
    "\n",
    "try:\n",
    "    h2o.init(url=cluster.endpoint)\n",
    "#     h2o.init(url=cluster.endpoint, enable_assertions = False)\n",
    "except Exception as e:\n",
    "    logger.error(str(e))\n",
    "    print(\"No endpoint of the cluster defined. Make sure it is succesfully initiated!\")"
   ]
  },
  {
   "cell_type": "markdown",
   "id": "5e358e7f-bfe9-441a-9a14-385a7c3a6576",
   "metadata": {},
   "source": [
    "## H2O flow"
   ]
  },
  {
   "cell_type": "code",
   "execution_count": 51,
   "id": "afa9fe8c-2be7-4ca1-8fd1-a4c2b909d04d",
   "metadata": {},
   "outputs": [
    {
     "name": "stdout",
     "output_type": "stream",
     "text": [
      "https://kubeflow.train.ml.gce.z8s.io/h2o/jisukim/h2o-modelh5-1\n"
     ]
    }
   ],
   "source": [
    "# access to the h2o flow\n",
    "h2o_flow_site = 'https://kubeflow.train.ml.gce.z8s.io' + cluster.uiPath\n",
    "print(h2o_flow_site)"
   ]
  },
  {
   "cell_type": "markdown",
   "id": "beace42e-3dff-48df-b7b2-338556e67eb9",
   "metadata": {},
   "source": [
    "# Load Data"
   ]
  },
  {
   "cell_type": "markdown",
   "id": "7c70b7bc-93b4-42e8-8912-2bbb22a29bdc",
   "metadata": {
    "tags": []
   },
   "source": [
    "## Load Sample Data and Define Column Types"
   ]
  },
  {
   "cell_type": "markdown",
   "id": "b2d3eed6-646f-46ae-bef5-9f910ac68383",
   "metadata": {
    "tags": []
   },
   "source": [
    "## Load Train and Valid Data"
   ]
  },
  {
   "cell_type": "markdown",
   "id": "b509acaf-0b10-41cc-ba76-5be6cd5f8549",
   "metadata": {
    "tags": []
   },
   "source": [
    "#### Train data"
   ]
  },
  {
   "cell_type": "code",
   "execution_count": 162,
   "id": "95bb024b-15b4-4db0-9290-12b3d318301f",
   "metadata": {
    "tags": []
   },
   "outputs": [
    {
     "data": {
      "text/plain": [
       "'gs://jskim/model_h5/data/tf_classification_v07__v4/train/all_features_tf_classification_v07_train_all_imp_04_58__v6/all_features_tf_classification_v07_train_all_imp_04_58__v6'"
      ]
     },
     "execution_count": 162,
     "metadata": {},
     "output_type": "execute_result"
    }
   ],
   "source": [
    "TRAIN_BLOB"
   ]
  },
  {
   "cell_type": "markdown",
   "id": "1dd10040-2ce7-4d40-82b2-6c2517b11db9",
   "metadata": {
    "tags": []
   },
   "source": [
    "##### Define column types"
   ]
  },
  {
   "cell_type": "code",
   "execution_count": 163,
   "id": "8dd62168-5f98-4613-8391-9118e2444b9a",
   "metadata": {},
   "outputs": [
    {
     "name": "stdout",
     "output_type": "stream",
     "text": [
      "Parse progress: |█████████████████████████████████████████████████████████| 100%\n"
     ]
    }
   ],
   "source": [
    "columns, col_types = get_column_types_from_data_blob(\n",
    "    blob_path=TRAIN_BLOB, \n",
    "    pattern= '.*0000000\\.csv', \n",
    "    STRING_COLS=STRING_COLS, \n",
    "    NUMERICAL_COLS=NUMERICAL_COLS,\n",
    "    CATEGORICAL_COLS='',\n",
    "    default_category='categorical'\n",
    ")"
   ]
  },
  {
   "cell_type": "code",
   "execution_count": 164,
   "id": "3486aa88-bcfe-4e54-96bf-dd472e6b0859",
   "metadata": {},
   "outputs": [],
   "source": [
    "column_and_types = dict(zip(columns, col_types))"
   ]
  },
  {
   "cell_type": "code",
   "execution_count": 165,
   "id": "799e9154-8e67-4415-8e91-9a752dd850b4",
   "metadata": {},
   "outputs": [
    {
     "data": {
      "text/plain": [
       "{'send_date': 'string',\n",
       " 'customer_id': 'string',\n",
       " 'event_id': 'string',\n",
       " 'label': 'string',\n",
       " 'cust_style_views_ppt1': 'categorical',\n",
       " 'cust_style_views_ppt2': 'categorical',\n",
       " 'cust_style_views_ppt3': 'categorical',\n",
       " 'cust_style_views_ppt4': 'categorical',\n",
       " 'cust_style_views_ppt5': 'categorical',\n",
       " 'cust_style_views_ppt6': 'categorical',\n",
       " 'cust_style_views_ppt7': 'categorical',\n",
       " 'cust_style_views_ppt8': 'categorical',\n",
       " 'cust_style_views_ppt9': 'categorical',\n",
       " 'cust_style_views_ppt10': 'categorical',\n",
       " 'cust_style_views_ppt11': 'categorical',\n",
       " 'cust_style_views_ppt12': 'categorical',\n",
       " 'cust_style_views_ppt13': 'categorical',\n",
       " 'cust_style_views_ppt14': 'categorical',\n",
       " 'cust_style_views_ppt15': 'categorical',\n",
       " 'cust_style_views_ppt16': 'categorical',\n",
       " 'cust_style_views_ppt17': 'categorical',\n",
       " 'cust_style_views_ppt18': 'categorical',\n",
       " 'cust_style_views_ppt19': 'categorical',\n",
       " 'cust_style_views_ppt20': 'categorical',\n",
       " 'cust_cartadd_ppt1': 'categorical',\n",
       " 'cust_cartadd_ppt2': 'categorical',\n",
       " 'cust_cartadd_ppt3': 'categorical',\n",
       " 'cust_cartadd_ppt4': 'categorical',\n",
       " 'cust_cartadd_ppt5': 'categorical',\n",
       " 'cust_cartadd_ppt6': 'categorical',\n",
       " 'cust_cartadd_ppt7': 'categorical',\n",
       " 'cust_cartadd_ppt8': 'categorical',\n",
       " 'cust_cartadd_ppt9': 'categorical',\n",
       " 'cust_cartadd_ppt10': 'categorical',\n",
       " 'cust_cartadd_ppt11': 'categorical',\n",
       " 'cust_cartadd_ppt12': 'categorical',\n",
       " 'cust_cartadd_ppt13': 'categorical',\n",
       " 'cust_cartadd_ppt14': 'categorical',\n",
       " 'cust_cartadd_ppt15': 'categorical',\n",
       " 'cust_cartadd_ppt16': 'categorical',\n",
       " 'cust_cartadd_ppt17': 'categorical',\n",
       " 'cust_cartadd_ppt18': 'categorical',\n",
       " 'cust_cartadd_ppt19': 'categorical',\n",
       " 'cust_cartadd_ppt20': 'categorical',\n",
       " 'cust_orders_ppt1': 'categorical',\n",
       " 'cust_orders_ppt2': 'categorical',\n",
       " 'cust_orders_ppt3': 'categorical',\n",
       " 'cust_orders_ppt4': 'categorical',\n",
       " 'cust_orders_ppt5': 'categorical',\n",
       " 'cust_orders_ppt6': 'categorical',\n",
       " 'cust_orders_ppt7': 'categorical',\n",
       " 'cust_orders_ppt8': 'categorical',\n",
       " 'cust_orders_ppt9': 'categorical',\n",
       " 'cust_orders_ppt10': 'categorical',\n",
       " 'cust_orders_ppt11': 'categorical',\n",
       " 'cust_orders_ppt12': 'categorical',\n",
       " 'cust_orders_ppt13': 'categorical',\n",
       " 'cust_orders_ppt14': 'categorical',\n",
       " 'cust_orders_ppt15': 'categorical',\n",
       " 'cust_orders_ppt16': 'categorical',\n",
       " 'cust_orders_ppt17': 'categorical',\n",
       " 'cust_orders_ppt18': 'categorical',\n",
       " 'cust_orders_ppt19': 'categorical',\n",
       " 'cust_orders_ppt20': 'categorical',\n",
       " 'age_0_12_m': 'categorical',\n",
       " 'age_12_24_m': 'categorical',\n",
       " 'age_2_4_y': 'categorical',\n",
       " 'age_4_6_y': 'categorical',\n",
       " 'age_6_9_y': 'categorical',\n",
       " 'age_10_12_y': 'categorical',\n",
       " 'age_13_plus_y': 'categorical',\n",
       " 'age_null': 'categorical',\n",
       " 'gender_male': 'categorical',\n",
       " 'gender_female': 'categorical',\n",
       " 'gender_neutral': 'categorical',\n",
       " 'gender_null': 'categorical',\n",
       " 'event_name': 'string',\n",
       " 'brand_name': 'string',\n",
       " 'brand_description': 'string',\n",
       " 'event_type': 'categorical',\n",
       " 'subjectline_eligible': 'categorical',\n",
       " 'non_branded': 'categorical',\n",
       " 'price_median': 'numeric',\n",
       " 'price_iqr': 'numeric',\n",
       " 'msrp_median': 'numeric',\n",
       " 'msrp_iqr': 'numeric',\n",
       " 'estimated_demand': 'numeric',\n",
       " 'event_age_0_12_m': 'categorical',\n",
       " 'event_age_12_24_m': 'categorical',\n",
       " 'event_age_2_4_y': 'categorical',\n",
       " 'event_age_4_6_y': 'categorical',\n",
       " 'event_age_6_9_y': 'categorical',\n",
       " 'event_age_10_12_y': 'categorical',\n",
       " 'event_age_13_plus_y': 'categorical',\n",
       " 'event_age_null': 'categorical',\n",
       " 'event_gender_male': 'categorical',\n",
       " 'event_gender_female': 'categorical',\n",
       " 'event_gender_neutral': 'categorical',\n",
       " 'event_gender_null': 'categorical',\n",
       " 'event_ppt1': 'categorical',\n",
       " 'event_ppt2': 'categorical',\n",
       " 'event_ppt3': 'categorical',\n",
       " 'event_ppt4': 'categorical',\n",
       " 'event_ppt5': 'categorical',\n",
       " 'event_ppt6': 'categorical',\n",
       " 'event_ppt7': 'categorical',\n",
       " 'event_ppt8': 'categorical',\n",
       " 'event_ppt9': 'categorical',\n",
       " 'event_ppt10': 'categorical',\n",
       " 'event_ppt11': 'categorical',\n",
       " 'event_ppt12': 'categorical',\n",
       " 'event_ppt13': 'categorical',\n",
       " 'event_ppt14': 'categorical',\n",
       " 'event_ppt15': 'categorical',\n",
       " 'event_ppt16': 'categorical',\n",
       " 'event_ppt17': 'categorical',\n",
       " 'event_ppt18': 'categorical',\n",
       " 'event_ppt19': 'categorical',\n",
       " 'event_ppt20': 'categorical',\n",
       " 'event_position': 'numeric',\n",
       " 'face': 'categorical',\n",
       " 'object': 'categorical',\n",
       " 'logo': 'categorical',\n",
       " 'text': 'string',\n",
       " 'age_segment': 'categorical',\n",
       " 'join_channel': 'categorical',\n",
       " 'activation_channel': 'categorical',\n",
       " 'is_branded_event': 'categorical',\n",
       " 'is_nt_event': 'categorical',\n",
       " 'event_top_ppt': 'categorical',\n",
       " 'conversion_rate_pageview': 'numeric',\n",
       " 'conversion_rate_impression': 'numeric',\n",
       " 'new_today': 'categorical',\n",
       " 'event_days_active': 'numeric',\n",
       " 'event_duration': 'numeric',\n",
       " 'demand_to_date_norm': 'numeric',\n",
       " 'order_ct_to_date_norm': 'numeric',\n",
       " 'projected_demand': 'numeric',\n",
       " 'activity_status': 'categorical',\n",
       " 'vf': 'numeric',\n",
       " 'visit_date_365': 'numeric',\n",
       " 'visit_date_180': 'numeric',\n",
       " 'visit_date_60': 'numeric',\n",
       " 'visit_date_14': 'numeric',\n",
       " 'rov_seg': 'categorical',\n",
       " 'rop_seg': 'categorical',\n",
       " 'fov_seg': 'categorical',\n",
       " 'fop_seg': 'categorical',\n",
       " 'ctm_seg': 'categorical',\n",
       " 'mtm_seg': 'categorical',\n",
       " 'tnj_seg': 'categorical',\n",
       " 'tna_seg': 'categorical',\n",
       " 'tnm_seg': 'categorical',\n",
       " 'ssc_seg': 'categorical',\n",
       " 'spm_seg': 'categorical',\n",
       " 'rfm': 'categorical',\n",
       " 'segment': 'categorical',\n",
       " 'rov_val': 'categorical',\n",
       " 'rop_val': 'numeric',\n",
       " 'fov_val': 'numeric',\n",
       " 'fop_val': 'numeric',\n",
       " 'ctm_val': 'numeric',\n",
       " 'mtm_val': 'numeric',\n",
       " 'tnj_val': 'numeric',\n",
       " 'tna_val': 'numeric',\n",
       " 'tnm_val': 'numeric'}"
      ]
     },
     "execution_count": 165,
     "metadata": {},
     "output_type": "execute_result"
    }
   ],
   "source": [
    "column_and_types"
   ]
  },
  {
   "cell_type": "markdown",
   "id": "a521de03-10f6-4732-b772-3729774de2ac",
   "metadata": {
    "tags": []
   },
   "source": [
    "##### Load train data"
   ]
  },
  {
   "cell_type": "code",
   "execution_count": 166,
   "id": "1efc27e4-8bea-4a00-8be7-908d8f4722db",
   "metadata": {},
   "outputs": [
    {
     "name": "stdout",
     "output_type": "stream",
     "text": [
      "Parse progress: |█████████████████████████████████████████████████████████| 100%\n"
     ]
    },
    {
     "name": "stderr",
     "output_type": "stream",
     "text": [
      "2022-01-27 22:02:29,931 - INFO - data loading takes 3.9 min\n"
     ]
    }
   ],
   "source": [
    "# Load train data\n",
    "\n",
    "st=time.time()\n",
    "\n",
    "train = h2o.import_file(path=TRAIN_BLOB, pattern= '.*\\.csv', col_types=col_types)\n",
    "\n",
    "# valid = h2o.import_file(path=TEST_BLOB, pattern= '.*\\.csv', col_types=col_types)\n",
    "\n",
    "duration = (time.time() - st)/60\n",
    "logger.info(\"data loading takes {:.1f} min\".format(duration))\n",
    "#3m45s - (node 3, cpu 8, mgb 32)\n",
    "#3m45s - (node 4, cpu 6, mgb 40)\n"
   ]
  },
  {
   "cell_type": "code",
   "execution_count": 167,
   "id": "faa60542-dfea-42b6-a1d6-d912b8b80243",
   "metadata": {},
   "outputs": [],
   "source": [
    "### Filter train data\n",
    "# NT segment: NT events\n",
    "# train = train[train['is_nt_event']==\"1\"]\n",
    "\n",
    "# NT segment: Live events\n",
    "# train = train[train['is_nt_event']==\"0\"]"
   ]
  },
  {
   "cell_type": "code",
   "execution_count": 168,
   "id": "ea17920d-9340-4773-b850-d8858ffc030f",
   "metadata": {
    "tags": []
   },
   "outputs": [
    {
     "data": {
      "text/plain": [
       "(51305513, 166)"
      ]
     },
     "execution_count": 168,
     "metadata": {},
     "output_type": "execute_result"
    }
   ],
   "source": [
    "train.shape"
   ]
  },
  {
   "cell_type": "markdown",
   "id": "0fd95887-6a0c-4f61-87ce-5df2b847de2f",
   "metadata": {
    "tags": []
   },
   "source": [
    "##### Train data set: Label setting"
   ]
  },
  {
   "cell_type": "code",
   "execution_count": 169,
   "id": "d336c405-2483-46e4-af82-6ef860d56be0",
   "metadata": {},
   "outputs": [],
   "source": [
    "# Target label settings\n",
    "train[train[RESPONSE_COL].isin(POSITIVE_LABELS), RESPONSE_COL] = '1'\n",
    "train[train[RESPONSE_COL].isin(NEGATIVE_LABELS), RESPONSE_COL] = '0'\n",
    "\n",
    "train[RESPONSE_COL] = train[RESPONSE_COL].asfactor()"
   ]
  },
  {
   "cell_type": "markdown",
   "id": "d2ba0e1f-ebd0-4630-9253-0501e65c8f81",
   "metadata": {
    "tags": []
   },
   "source": [
    "# Model Training"
   ]
  },
  {
   "cell_type": "markdown",
   "id": "d4bb16b2-cd0c-4bbf-ab24-41bdc8e102b6",
   "metadata": {
    "tags": []
   },
   "source": [
    "## Training a Model"
   ]
  },
  {
   "cell_type": "code",
   "execution_count": 251,
   "id": "3017a59c-1c74-4c91-9ebb-e9e947943306",
   "metadata": {},
   "outputs": [
    {
     "name": "stdout",
     "output_type": "stream",
     "text": [
      "https://kubeflow.train.ml.gce.z8s.io/h2o/jisukim/h2o-modelh5-1\n"
     ]
    }
   ],
   "source": [
    "# access to the h2o flow\n",
    "h2o_flow_site = 'https://kubeflow.train.ml.gce.z8s.io' + cluster.uiPath\n",
    "print(h2o_flow_site)"
   ]
  },
  {
   "cell_type": "code",
   "execution_count": 252,
   "id": "6c713d94-d497-4f5a-8605-7f27ec3b4123",
   "metadata": {},
   "outputs": [
    {
     "name": "stdout",
     "output_type": "stream",
     "text": [
      "P13N_daily_email_model_h5\n",
      "H2O DRF - Relevent negative data for training\n",
      "treatment2 - vf, deeper tree parameter setting\n"
     ]
    }
   ],
   "source": [
    "# Check experiment run for the model training and predictors\n",
    "print(PROJECT_NAME)\n",
    "print(EXPERIMENT_NAME)\n",
    "print(EXPERIMENT_RUN_NAME)"
   ]
  },
  {
   "cell_type": "code",
   "execution_count": 253,
   "id": "9bef7129-a215-45eb-a4a3-d71dd1aaef02",
   "metadata": {},
   "outputs": [
    {
     "name": "stdout",
     "output_type": "stream",
     "text": [
      "['customer_id', 'send_date', 'event_id', 'label', 'event_name', 'brand_name', 'brand_description', 'face', 'object', 'logo', 'text', 'event_position', 'is_branded_event', 'is_nt_event', 'new_today', 'conversion_rate_pageview', 'conversion_rate_impression', 'demand_to_date_norm', 'order_ct_to_date_norm', 'estimated_demand', 'activity_status', 'visit_date_365', 'visit_date_180', 'visit_date_60', 'visit_date_14', 'rov_seg', 'rop_seg', 'fov_seg', 'fop_seg', 'ctm_seg', 'mtm_seg', 'tnj_seg', 'tna_seg', 'tnm_seg', 'ssc_seg', 'spm_seg', 'rfm', 'segment', 'rov_val', 'rop_val', 'fov_val', 'fop_val', 'ctm_val', 'mtm_val', 'tnj_val', 'tna_val', 'tnm_val', 'ssc_val', 'spm_val']\n"
     ]
    }
   ],
   "source": [
    "print(LIST_TO_REMOVE_FROM_PREDICTORS)"
   ]
  },
  {
   "cell_type": "markdown",
   "id": "5c4e6399-9563-401c-9148-00cf7eb68232",
   "metadata": {
    "tags": []
   },
   "source": [
    "### Set up model training "
   ]
  },
  {
   "cell_type": "code",
   "execution_count": 254,
   "id": "799978c1-e28d-42fa-bdd1-f5db84ea3f4a",
   "metadata": {},
   "outputs": [
    {
     "name": "stderr",
     "output_type": "stream",
     "text": [
      "2022-02-08 19:52:54,750 - INFO - num predictors: 120\n",
      "2022-02-08 19:52:54,751 - INFO - num col_types: 167\n"
     ]
    }
   ],
   "source": [
    "# Select predictors and response\n",
    "predictors = [\n",
    "    col for col in columns if col not in LIST_TO_REMOVE_FROM_PREDICTORS \n",
    "]\n",
    "\n",
    "response = RESPONSE_COL\n",
    "\n",
    "logger.info('num predictors: ' + str(len(predictors)))\n",
    "logger.info('num col_types: ' + str(len(col_types)))"
   ]
  },
  {
   "cell_type": "code",
   "execution_count": 255,
   "id": "e1d13acc-e25e-470a-8512-db46b0aed4d6",
   "metadata": {},
   "outputs": [
    {
     "data": {
      "text/plain": [
       "{'seed': 123,\n",
       " 'stopping_rounds': 3,\n",
       " 'stopping_tolerance': 0.001,\n",
       " 'stopping_metric': 'AUCPR',\n",
       " 'ntrees': 500,\n",
       " 'max_depth': 50,\n",
       " 'min_rows': 100,\n",
       " 'nbins': 20,\n",
       " 'nbins_cats': 100,\n",
       " 'nfolds': 5,\n",
       " 'keep_cross_validation_models': False,\n",
       " 'categorical_encoding': 'enum'}"
      ]
     },
     "execution_count": 255,
     "metadata": {},
     "output_type": "execute_result"
    }
   ],
   "source": [
    "model_properties"
   ]
  },
  {
   "cell_type": "markdown",
   "id": "f6925b6a-8d95-41a8-adc2-60c2a949d100",
   "metadata": {},
   "source": [
    "### Sampling data before train with full data set"
   ]
  },
  {
   "cell_type": "code",
   "execution_count": 182,
   "id": "bbf49715-4f31-47fe-a46a-1510aea14b63",
   "metadata": {},
   "outputs": [],
   "source": [
    "# # sampling data for a quick training from training set\n",
    "# mask_label = train['label'].stratified_split(test_frac=0.03, seed=123)\n",
    "# mask = mask_label[\"test_train_split\"] == 'test'\n",
    "# train_sample = train[mask, :]\n",
    "# train_sample.shape"
   ]
  },
  {
   "cell_type": "code",
   "execution_count": 183,
   "id": "7d936d90-313e-4b26-89f2-cb3ff88772a3",
   "metadata": {},
   "outputs": [],
   "source": [
    "# # sampling data for a quick training from training set\n",
    "# mask_label = valid['label'].stratified_split(test_frac=0.01, seed=123)\n",
    "# mask = mask_label[\"test_train_split\"] == 'test'\n",
    "# valid_sample = valid[mask, :]\n",
    "# valid_sample.shape"
   ]
  },
  {
   "cell_type": "markdown",
   "id": "b31842f5-57ae-4296-a4af-ae5e0c3b19ef",
   "metadata": {
    "tags": []
   },
   "source": [
    "### Segment Training\n",
    "- This requires new version of h2o!!!"
   ]
  },
  {
   "cell_type": "code",
   "execution_count": null,
   "id": "b81d9cbc-ebc0-4c18-95e0-5a489cee8f9a",
   "metadata": {},
   "outputs": [],
   "source": [
    "# %%time\n",
    "\n",
    "# confirm = input(\"Want to train the model? yes\")\n",
    "# if confirm.lower() =='yes':\n",
    "#     model = H2ORandomForestEstimator(**model_properties)\n",
    "# #     model = H2OGradientBoostingEstimator(**model_properties)\n",
    "\n",
    "# # Modle Train\n",
    "#     model.t(\n",
    "#         segments=['is_nt_event'],\n",
    "#         x=predictors, \n",
    "#         y=response,\n",
    "#         training_frame=train, \n",
    "# #         validation_frame=valid,\n",
    "#         verbose=False\n",
    "#     )\n",
    "    \n",
    "#     # convert the segmented models to an H2OFrame\n",
    "#     titanic_models.as_frame()\n",
    "# else:\n",
    "#     print(\"canceled\")"
   ]
  },
  {
   "cell_type": "markdown",
   "id": "b50d1c9f-eb5d-439f-a1c2-985e713c0a5d",
   "metadata": {},
   "source": [
    "### Non-Segment Training"
   ]
  },
  {
   "cell_type": "code",
   "execution_count": null,
   "id": "38b08c72-f5db-4d2a-8d6c-3085303820ee",
   "metadata": {},
   "outputs": [
    {
     "name": "stdin",
     "output_type": "stream",
     "text": [
      "Want to train the model? yes yes\n"
     ]
    },
    {
     "name": "stdout",
     "output_type": "stream",
     "text": [
      "drf Model Build progress: |███████████████████████████████████████████████"
     ]
    }
   ],
   "source": [
    "%%time\n",
    "confirm = input(\"Want to train the model? yes\")\n",
    "if confirm.lower() =='yes':\n",
    "    model = H2ORandomForestEstimator(**model_properties)\n",
    "#     model = H2OGradientBoostingEstimator(**model_properties)\n",
    "\n",
    "# Modle Train\n",
    "    model.train(\n",
    "        x=predictors, \n",
    "        y=response,\n",
    "        training_frame=train,\n",
    "#         training_frame=train_sample,\n",
    "#         validation_frame=valid,\n",
    "        verbose=False\n",
    "    )\n",
    "\n",
    "else:\n",
    "    print(\"canceled\")"
   ]
  },
  {
   "cell_type": "markdown",
   "id": "a425f408-e29f-4ad3-816c-ce80dd7c762a",
   "metadata": {
    "tags": []
   },
   "source": [
    "### Save trained model"
   ]
  },
  {
   "cell_type": "code",
   "execution_count": null,
   "id": "c2270736-35f1-4158-b458-64e0d1a7fdd5",
   "metadata": {},
   "outputs": [],
   "source": [
    "model.model_id"
   ]
  },
  {
   "cell_type": "code",
   "execution_count": null,
   "id": "b7d10232-ea84-4cae-a9b9-f47bebe453f3",
   "metadata": {},
   "outputs": [],
   "source": [
    "### Save both binary and MOJO at GCS\n",
    "MODEL_GCS = 'gs://jskim/model_h5/h2o_models'\n",
    "\n",
    "save_model_path = MODEL_GCS + \"/treatment2\"\n",
    "model_path = h2o.save_model(model, path=save_model_path, force=True)\n",
    "mojo_path = model.save_mojo(path=save_model_path, force=True)"
   ]
  },
  {
   "cell_type": "markdown",
   "id": "6387016d-6304-4afa-ba7b-7149ce669651",
   "metadata": {
    "tags": []
   },
   "source": [
    "## Loading a Trained Model\n",
    "If there is a trained H2O model or H2o MOJO file, reuse it for prediction"
   ]
  },
  {
   "cell_type": "markdown",
   "id": "6f80921d-841a-4576-b9b9-66ee7062e702",
   "metadata": {},
   "source": [
    "### Load a model from GCS"
   ]
  },
  {
   "cell_type": "markdown",
   "id": "53130c73-9595-461f-b96e-637c5905f895",
   "metadata": {},
   "source": [
    "#### Load model path from ModelDB"
   ]
  },
  {
   "cell_type": "code",
   "execution_count": 296,
   "id": "22772a02-e529-47a8-84ce-32619000ec6c",
   "metadata": {},
   "outputs": [
    {
     "data": {
      "text/plain": [
       "'treatment2 - vf, deeper tree parameter setting'"
      ]
     },
     "execution_count": 296,
     "metadata": {},
     "output_type": "execute_result"
    }
   ],
   "source": [
    "EXPERIMENT_RUN_NAME"
   ]
  },
  {
   "cell_type": "code",
   "execution_count": 297,
   "id": "6fb58e2a-8f89-4d54-bb0a-b7290d1e0139",
   "metadata": {},
   "outputs": [
    {
     "name": "stdout",
     "output_type": "stream",
     "text": [
      "model path: gs://jskim/model_h5/h2o_models/treatment2/DRF_model_python_1643218540225_1\n"
     ]
    }
   ],
   "source": [
    "loading_model_path = modeldb_expt_run.get_artifact(key='model_save_path')\n",
    "print(\"model path: \" + loading_model_path)\n",
    "\n",
    "# Load the model from GCS blob\n",
    "model = h2o.load_model(loading_model_path)"
   ]
  },
  {
   "cell_type": "markdown",
   "id": "fbe5ef1c-2c0e-429a-8a72-590c29528977",
   "metadata": {},
   "source": [
    "#### Manually load model path"
   ]
  },
  {
   "cell_type": "code",
   "execution_count": 298,
   "id": "6e112f38-c2a9-494d-88f1-dab62edb780b",
   "metadata": {},
   "outputs": [],
   "source": [
    "# # list model blobs\n",
    "# utilities.list_blobs(bucket_name='jskim', blob_name='model_h5/h2o_models')"
   ]
  },
  {
   "cell_type": "code",
   "execution_count": 299,
   "id": "c4829d84-47c8-4ec3-961c-d8ffc2ebad9b",
   "metadata": {},
   "outputs": [],
   "source": [
    "# # model path 'gs://jskim/' + blob\n",
    "# loading_model_path = 'gs://jskim/' + 'model_h4/h2o_models/treatment4/DRF_model_python_1641860577737_218'\n",
    "\n",
    "# # Load the model from GCS blob\n",
    "# model = h2o.load_model(loading_model_path)"
   ]
  },
  {
   "cell_type": "markdown",
   "id": "f6fd0de5-5ee1-497d-8c88-6ae644c559cf",
   "metadata": {
    "tags": []
   },
   "source": [
    "#### Review of the loaded model"
   ]
  },
  {
   "cell_type": "code",
   "execution_count": 300,
   "id": "189b40aa-cf0b-4ebf-944c-a6ea86d74661",
   "metadata": {
    "tags": []
   },
   "outputs": [
    {
     "name": "stdout",
     "output_type": "stream",
     "text": [
      "\n",
      "Confusion Matrix (Act/Pred) for max f1 @ threshold = 0.5411844118326998: \n"
     ]
    },
    {
     "data": {
      "text/html": [
       "<div>\n",
       "<style scoped>\n",
       "    .dataframe tbody tr th:only-of-type {\n",
       "        vertical-align: middle;\n",
       "    }\n",
       "\n",
       "    .dataframe tbody tr th {\n",
       "        vertical-align: top;\n",
       "    }\n",
       "\n",
       "    .dataframe thead th {\n",
       "        text-align: right;\n",
       "    }\n",
       "</style>\n",
       "<table border=\"1\" class=\"dataframe\">\n",
       "  <thead>\n",
       "    <tr style=\"text-align: right;\">\n",
       "      <th></th>\n",
       "      <th></th>\n",
       "      <th>0</th>\n",
       "      <th>1</th>\n",
       "      <th>Error</th>\n",
       "      <th>Rate</th>\n",
       "    </tr>\n",
       "  </thead>\n",
       "  <tbody>\n",
       "    <tr>\n",
       "      <th>0</th>\n",
       "      <td>0</td>\n",
       "      <td>2135129.0</td>\n",
       "      <td>3231330.0</td>\n",
       "      <td>0.6021</td>\n",
       "      <td>(3231330.0/5366459.0)</td>\n",
       "    </tr>\n",
       "    <tr>\n",
       "      <th>1</th>\n",
       "      <td>1</td>\n",
       "      <td>710742.0</td>\n",
       "      <td>19707466.0</td>\n",
       "      <td>0.0348</td>\n",
       "      <td>(710742.0/20418208.0)</td>\n",
       "    </tr>\n",
       "    <tr>\n",
       "      <th>2</th>\n",
       "      <td>Total</td>\n",
       "      <td>2845871.0</td>\n",
       "      <td>22938796.0</td>\n",
       "      <td>0.1529</td>\n",
       "      <td>(3942072.0/25784667.0)</td>\n",
       "    </tr>\n",
       "  </tbody>\n",
       "</table>\n",
       "</div>"
      ],
      "text/plain": [
       "                  0           1   Error                     Rate\n",
       "0      0  2135129.0   3231330.0  0.6021    (3231330.0/5366459.0)\n",
       "1      1   710742.0  19707466.0  0.0348    (710742.0/20418208.0)\n",
       "2  Total  2845871.0  22938796.0  0.1529   (3942072.0/25784667.0)"
      ]
     },
     "metadata": {},
     "output_type": "display_data"
    },
    {
     "data": {
      "text/plain": []
     },
     "execution_count": 300,
     "metadata": {},
     "output_type": "execute_result"
    }
   ],
   "source": [
    "model.confusion_matrix()"
   ]
  },
  {
   "cell_type": "code",
   "execution_count": 301,
   "id": "68272f31-6369-4e6d-8302-4b3646396a02",
   "metadata": {},
   "outputs": [
    {
     "data": {
      "image/png": "[encoded data removed]",
      "text/plain": [
       "<Figure size 1008x720 with 1 Axes>"
      ]
     },
     "metadata": {
      "needs_background": "light"
     },
     "output_type": "display_data"
    }
   ],
   "source": [
    "model.varimp_plot(num_of_features=20)"
   ]
  },
  {
   "cell_type": "markdown",
   "id": "f7c3507c-de83-4815-9ff0-d6222bc97a48",
   "metadata": {},
   "source": [
    "### Load a model from h2o Flow"
   ]
  },
  {
   "cell_type": "code",
   "execution_count": null,
   "id": "4c3ccbfc-963c-400e-809f-f2f49cc810d9",
   "metadata": {
    "tags": []
   },
   "outputs": [],
   "source": [
    "# # load a model from h2o cluster if exists\n",
    "# model=h2o.get_model(model_id='DRF_model_python_1635885713183_48')"
   ]
  },
  {
   "cell_type": "code",
   "execution_count": 25,
   "id": "16c73495-c617-4519-a5e8-4620ac8f1da8",
   "metadata": {},
   "outputs": [
    {
     "name": "stdout",
     "output_type": "stream",
     "text": [
      "seed 123\n",
      "stopping_rounds 0\n",
      "stopping_tolerance 0.001\n",
      "stopping_metric AUCPR\n",
      "ntrees 46\n",
      "max_depth 20\n",
      "min_rows 200.0\n",
      "nbins 20\n",
      "nbins_cats 100\n",
      "nfolds 5\n",
      "keep_cross_validation_models False\n",
      "categorical_encoding Enum\n"
     ]
    }
   ],
   "source": [
    "# for k in list(model_properties.keys()):\n",
    "#     print(k + \" \" + str(model.actual_params[k]))"
   ]
  },
  {
   "cell_type": "markdown",
   "id": "73f514a9-f03e-4f27-992e-c6d576809c7e",
   "metadata": {
    "tags": []
   },
   "source": [
    "# Model and Performance Logging"
   ]
  },
  {
   "cell_type": "markdown",
   "id": "34894cfd-8756-4065-8343-0b3d85b7f2e0",
   "metadata": {},
   "source": [
    "## ModelDB - Model and model artifacts"
   ]
  },
  {
   "cell_type": "code",
   "execution_count": 260,
   "id": "ae461c9f-0bd3-4f15-9e06-142cb2ebd719",
   "metadata": {},
   "outputs": [],
   "source": [
    "local_path = \"/tmp/plots\"\n",
    "if os.path.exists(local_path):        \n",
    "    shutil.rmtree(local_path)\n",
    "os.mkdir(local_path)"
   ]
  },
  {
   "cell_type": "markdown",
   "id": "345a928a-0660-40d0-a9cd-443b255c34e6",
   "metadata": {
    "tags": []
   },
   "source": [
    "#### Log model path"
   ]
  },
  {
   "cell_type": "code",
   "execution_count": null,
   "id": "af52e841-86c5-4168-acc8-aba9c9042002",
   "metadata": {},
   "outputs": [],
   "source": [
    "print(\"h2o_model_path: \", model_path)\n",
    "print(\"h2o_mojo_path: \", mojo_path)"
   ]
  },
  {
   "cell_type": "code",
   "execution_count": 208,
   "id": "685c8261-b8a4-4bab-8109-e0c3e72ceeac",
   "metadata": {
    "tags": []
   },
   "outputs": [],
   "source": [
    "# Logging the model\n",
    "modeldb_expt_run.log_artifact_path('model_save_path', model_path, overwrite=True)\n",
    "modeldb_expt_run.log_artifact_path('mojo_save_path', mojo_path, overwrite=True)"
   ]
  },
  {
   "cell_type": "markdown",
   "id": "a5d02e8b-5941-4234-aaf4-9362b42c738b",
   "metadata": {
    "tags": []
   },
   "source": [
    "#### Log hyperparameters"
   ]
  },
  {
   "cell_type": "code",
   "execution_count": 209,
   "id": "f963972a-47d7-468c-9d89-6d8e2c44bd6e",
   "metadata": {},
   "outputs": [],
   "source": [
    "# Get performance metrics of cross validation and test (valid set) from h2o model\n",
    "cv_performance = model.model_performance(xval=True)\n",
    "# test_performance = model.model_performance(valid=True)"
   ]
  },
  {
   "cell_type": "code",
   "execution_count": 210,
   "id": "aab52a1e-5586-4942-80f1-9f85fc59297d",
   "metadata": {},
   "outputs": [],
   "source": [
    "# Logs hyperparameter used for model\n",
    "# run.log_hyperparameter('ntrees', ntrees)\n",
    "for k, v in model_properties.items():\n",
    "    modeldb_expt_run.log_hyperparameter(k, v, overwrite=True)"
   ]
  },
  {
   "cell_type": "markdown",
   "id": "dc101c87-d606-4e0b-b8af-eff3dfed079c",
   "metadata": {
    "tags": []
   },
   "source": [
    "#### Log attributes and artifact"
   ]
  },
  {
   "cell_type": "code",
   "execution_count": 211,
   "id": "47bd7bf3-759e-4215-b630-e991435752c5",
   "metadata": {},
   "outputs": [],
   "source": [
    "# Attribute can capture a python list as well. Here, X is the list of features\n",
    "modeldb_expt_run.log_attribute('features', predictors, overwrite=True)\n",
    "modeldb_expt_run.log_attribute('train_data', TRAIN_BLOB, overwrite=True)\n",
    " \n",
    "# Adding tags to the run so that it is easy to identify the runs\n",
    "# Tag name can not be more than 40 characters.\n",
    "modeldb_expt_run.log_tags(EXPERIMENT_RUN_TAGS)"
   ]
  },
  {
   "cell_type": "code",
   "execution_count": 212,
   "id": "3414df64-c41e-427e-9b54-d981022c9a79",
   "metadata": {},
   "outputs": [],
   "source": [
    "# Table columns and predictors\n",
    "modeldb_expt_run.log_attribute(\n",
    "    'columns_and_types', column_and_types,\n",
    "    overwrite=True\n",
    ")"
   ]
  },
  {
   "cell_type": "code",
   "execution_count": 213,
   "id": "0aa31401-29a5-4465-aaa7-17ad9f2f3de3",
   "metadata": {},
   "outputs": [],
   "source": [
    "# model.varimp(use_pandas=True)[['variable', 'percentage']].sort_values(by='percentage', ascending=False).to_csv(\"temp.csv\")"
   ]
  },
  {
   "cell_type": "code",
   "execution_count": 214,
   "id": "b836c67f-380f-45f7-b1e6-28b022241a29",
   "metadata": {},
   "outputs": [],
   "source": [
    "var_imp_table = model.varimp(use_pandas=True)[['variable', 'percentage']].sort_values(by='percentage', ascending=False)[0:30]\n",
    "var_imp_table['percentage'] = var_imp_table['percentage'].round(6)*100"
   ]
  },
  {
   "cell_type": "code",
   "execution_count": 215,
   "id": "6bb66a2e-094c-4e8d-a4ea-6fb630abe5e9",
   "metadata": {},
   "outputs": [
    {
     "name": "stdout",
     "output_type": "stream",
     "text": [
      "upload complete (feature_importance_Plot)\n"
     ]
    },
    {
     "data": {
      "image/png": "[encoded data removed]",
      "text/plain": [
       "<Figure size 1440x720 with 1 Axes>"
      ]
     },
     "metadata": {
      "needs_background": "light"
     },
     "output_type": "display_data"
    }
   ],
   "source": [
    "figure = plt.figure(figsize=(20, 10))\n",
    "\n",
    "plt.barh(y='variable', width='percentage', \n",
    "         data=var_imp_table.sort_values(by='percentage', ascending=True))\n",
    "\n",
    "plt.grid(b=True)\n",
    "plt.xlabel(\"importance\")\n",
    "plt.ylabel(\"Features\")\n",
    "figure = plt.gcf()    \n",
    "figure.savefig('/tmp/plots/varimp.png')\n",
    "\n",
    "modeldb_expt_run.log_artifact('feature_importance_Plot', '/tmp/plots/varimp.png', overwrite=True)"
   ]
  },
  {
   "cell_type": "code",
   "execution_count": 216,
   "id": "a567772e-1a77-4934-894c-0e601ccf3ece",
   "metadata": {},
   "outputs": [],
   "source": [
    "# variable importance table\n",
    "var_imp_table['rank'] = [str(i).rjust(3, '0') for i in range(1, var_imp_table.shape[0]+1)]\n",
    "var_imp_dict = dict([(row['rank']+'_'+row['variable'], row['percentage']) for _, row in var_imp_table.iterrows()])\n",
    "\n",
    "modeldb_expt_run.log_attribute(\n",
    "    'varimp_values', var_imp_dict,\n",
    "    overwrite=True)"
   ]
  },
  {
   "cell_type": "code",
   "execution_count": 219,
   "id": "496cf4e0-f30d-44ea-8d69-22d18218f5cd",
   "metadata": {},
   "outputs": [],
   "source": [
    "# Logging performance metrics of the run by label\n",
    "modeldb_expt_run.log_attribute(\n",
    "    'performance_metrics',\n",
    "    {\n",
    "    'cv_error_rate': cv_performance.error(), \n",
    "    'cv_logloss': cv_performance.logloss(), \n",
    "    'cv_auc': cv_performance.auc(), \n",
    "    'cv_aucpr': cv_performance.aucpr(), \n",
    "    'cv_precision': cv_performance.precision(), \n",
    "    'cv_recall': cv_performance.recall(), \n",
    "    'cv_f1': cv_performance.F1(), \n",
    "    'cv_f0point5': cv_performance.F0point5(), \n",
    "    \n",
    "#     'test_error_rate': test_performance.error(), \n",
    "#     'test_logloss': test_performance.logloss(), \n",
    "#     'test_auc': test_performance.auc(), \n",
    "#     'test_precision': test_performance.precision(), \n",
    "#     'test_recall': test_performance.recall(), \n",
    "#     'test_f1': test_performance.F1(), \n",
    "#     'test_f0point5': test_performance.F0point5(),\n",
    "    },\n",
    "    overwrite=True\n",
    ")\n",
    " "
   ]
  },
  {
   "cell_type": "markdown",
   "id": "11f21658-8d25-41ac-a300-e67f7d8d1417",
   "metadata": {
    "tags": []
   },
   "source": [
    "#### Log performance metrics"
   ]
  },
  {
   "cell_type": "code",
   "execution_count": 220,
   "id": "b7ef03cd-d844-4a10-a87d-ac75701748ac",
   "metadata": {},
   "outputs": [],
   "source": [
    "# Performance metrics available from H2O Model\n",
    "perf_metrics = [\n",
    "    'error',\n",
    "    'logloss', \n",
    "    'auc', \n",
    "    'precision', \n",
    "    'recall', \n",
    "    'f1', \n",
    "    'f0point5', \n",
    "    'mean_per_class_accuracy'\n",
    "]"
   ]
  },
  {
   "cell_type": "code",
   "execution_count": 221,
   "id": "0d07c38d-9bec-4299-a338-1284f6d92490",
   "metadata": {},
   "outputs": [],
   "source": [
    "# Logging performance metrics of the run\n",
    "modeldb_expt_run.log_metrics({\n",
    "    'cv_logloss': cv_performance.logloss(), \n",
    "    'cv_auc': cv_performance.auc(), \n",
    "    'cv_aucpr': cv_performance.aucpr(), \n",
    "    'cv_gini': cv_performance.gini(), \n",
    "    \n",
    "#     'test_logloss': test_performance.logloss(), \n",
    "#     'test_auc': test_performance.auc(), \n",
    "#     'test_aucpr': test_performance.aucpr(), \n",
    "#     'test_gini': test_performance.gini()\n",
    "}, overwrite=True)\n",
    " "
   ]
  },
  {
   "cell_type": "markdown",
   "id": "f3981db3-9b21-49fc-abe1-7570116cf45c",
   "metadata": {
    "tags": []
   },
   "source": [
    "#### Log observation"
   ]
  },
  {
   "cell_type": "code",
   "execution_count": 222,
   "id": "0d9a3c5f-8b6b-404e-93bf-b434deb1071d",
   "metadata": {},
   "outputs": [],
   "source": [
    "# Logging cross_validation metrics as observations\n",
    "# This will also allow you to visualize the change of metrics across differernt folds\n",
    "cv_df = model.cross_validation_metrics_summary().as_data_frame()\n",
    "cv_df.rename(columns={'':'metrics'}, inplace=True)\n",
    "cv_columns = [f'cv_{i}_valid' for i in range(1, model_properties['nfolds']+1)]\n",
    "\n",
    "# Looping through cross-validation metrics and logging it as observations.\n",
    "# Logging it as observations allows us to visualize the metrics as chart in the UI.\n",
    "for metric in ['logloss', 'auc']:\n",
    "    for col in cv_columns:\n",
    "        modeldb_expt_run.log_observation(\n",
    "            'cv_' + metric, \n",
    "            float(cv_df[cv_df.metrics==metric][col].values[0]),\n",
    "            overwrite=False\n",
    "        )\n",
    " "
   ]
  },
  {
   "cell_type": "markdown",
   "id": "200544f6-8b84-417f-9ec2-5ad093d96a1e",
   "metadata": {
    "tags": []
   },
   "source": [
    "## Model Evaluation - Prediction and Performance Metrics"
   ]
  },
  {
   "cell_type": "markdown",
   "id": "789ca55e-6f60-42c6-afba-6f439327c87c",
   "metadata": {
    "tags": []
   },
   "source": [
    "### Load Test data (test data set)"
   ]
  },
  {
   "cell_type": "code",
   "execution_count": 17,
   "id": "86a27a1e-8601-425f-b6ae-60a1058036e7",
   "metadata": {},
   "outputs": [],
   "source": [
    "# temp = pd.read_csv(\"gs://zulilymodeltraining/rmenon/data/test/all_features_text_test_v6000000000000.csv\", nrows=5)"
   ]
  },
  {
   "cell_type": "code",
   "execution_count": 170,
   "id": "aeba9301-e9ec-45ea-bdf6-e5a04f8dbf14",
   "metadata": {},
   "outputs": [],
   "source": [
    "# #Manual Load of a Valid data (test data set)\n",
    "# TEST_BLOB = \"gs://jskim/model_h4/data/tf_classification_v07__v4/test/all_features_test_tf_classification_v07_test_diff__v4/all_features_test_tf_classification_v07_test_diff__v4_champion\""
   ]
  },
  {
   "cell_type": "code",
   "execution_count": 302,
   "id": "acba6f05-b4f1-4a41-b490-c2f970e84654",
   "metadata": {
    "tags": []
   },
   "outputs": [
    {
     "name": "stdout",
     "output_type": "stream",
     "text": [
      "gs://jskim/model_h4/data/tf_classification_v07__v4/test/all_features_test_tf_classification_v07_test_diff__v4_champion/all_features_test_tf_classification_v07_test_diff__v4_champion\n"
     ]
    }
   ],
   "source": [
    "print(TEST_CHAMPION_BLOB)"
   ]
  },
  {
   "cell_type": "markdown",
   "id": "f249ea5e-d59f-4db9-a155-b9a8adc21ab2",
   "metadata": {
    "tags": []
   },
   "source": [
    "#### Define column types"
   ]
  },
  {
   "cell_type": "code",
   "execution_count": 303,
   "id": "71ee33a8-9c51-41e3-9a7d-c9e3ff0490f4",
   "metadata": {
    "tags": []
   },
   "outputs": [
    {
     "name": "stdout",
     "output_type": "stream",
     "text": [
      "Parse progress: |█████████████████████████████████████████████████████████| 100%\n"
     ]
    }
   ],
   "source": [
    "columns, col_types = get_column_types_from_data_blob(\n",
    "#     blob_path=TEST_BLOB, \n",
    "    blob_path =TEST_CHAMPION_BLOB,\n",
    "    pattern= '.*0000000\\.csv', \n",
    "    string_columns=STRING_COLS,\n",
    "#     NUMERICAL_COLS=NUMERICAL_COLS,\n",
    "    numerical_columns=NUMERICAL_COLS + ['predict'], # for champion test\n",
    "    categorical_columns='',\n",
    "    default_type='categorical'\n",
    ")\n",
    "\n",
    "column_and_types = dict(zip(columns, col_types))"
   ]
  },
  {
   "cell_type": "markdown",
   "id": "6d6bb54f-53eb-43e9-a92c-a9e11f59e634",
   "metadata": {
    "tags": []
   },
   "source": [
    "#### Loading test data"
   ]
  },
  {
   "cell_type": "code",
   "execution_count": 304,
   "id": "aea6159e-7fca-45e7-94cb-18c4d236c516",
   "metadata": {},
   "outputs": [
    {
     "name": "stdout",
     "output_type": "stream",
     "text": [
      "Parse progress: |█████████████████████████████████████████████████████████| 100%\n"
     ]
    },
    {
     "name": "stderr",
     "output_type": "stream",
     "text": [
      "2022-02-08 20:10:14,846 - INFO - data loading takes 0.1 min\n"
     ]
    }
   ],
   "source": [
    "# Load test data\n",
    "\n",
    "st=time.time()\n",
    "\n",
    "# test_all = h2o.import_file(path=TEST_BLOB, pattern= '.*\\.csv', col_types=col_types)\n",
    "\n",
    "# # Genneral test\n",
    "# test = h2o.import_file(path=TEST_BLOB, pattern= '.*\\.csv', col_types=col_types)\n",
    "# Champion test\n",
    "test = h2o.import_file(path=TEST_CHAMPION_BLOB, pattern= '.*\\.csv', col_types=col_types)\n",
    "\n",
    "duration = (time.time() - st)/60\n",
    "logger.info(\"data loading takes {:.1f} min\".format(duration))"
   ]
  },
  {
   "cell_type": "code",
   "execution_count": 305,
   "id": "03463303-488a-4e4e-a3c0-ab8454aa3375",
   "metadata": {},
   "outputs": [
    {
     "data": {
      "text/plain": [
       "(1473429, 167)"
      ]
     },
     "execution_count": 305,
     "metadata": {},
     "output_type": "execute_result"
    }
   ],
   "source": [
    "test.shape"
   ]
  },
  {
   "cell_type": "code",
   "execution_count": 64,
   "id": "7c542e11-518b-454f-8984-0ccd0d942486",
   "metadata": {},
   "outputs": [],
   "source": [
    "### Filter test data\n",
    "# NT segment: NT events\n",
    "# test = test_all[test_all['is_nt_event']==\"0\"]\n",
    "\n",
    "# NT segment: Live events\n",
    "# train = train[train['is_nt_event']==\"0\"]"
   ]
  },
  {
   "cell_type": "markdown",
   "id": "0481a575-932a-4057-8a65-432606c0fe80",
   "metadata": {},
   "source": [
    "##### Select sample test data"
   ]
  },
  {
   "cell_type": "code",
   "execution_count": 261,
   "id": "99e4b1cf-af7c-43ca-82a1-f46695340827",
   "metadata": {},
   "outputs": [
    {
     "data": {
      "text/plain": [
       "(100, 1)"
      ]
     },
     "execution_count": 261,
     "metadata": {},
     "output_type": "execute_result"
    }
   ],
   "source": [
    "# sample_customers = test_raw[0:100, ['customer_id']].asnumeric().unique().asfactor()\n",
    "# sample_customers.set_names(['customer_id'])\n",
    "# sample_customers.shape"
   ]
  },
  {
   "cell_type": "code",
   "execution_count": 262,
   "id": "1b79a003-1de3-4b9e-aea6-a8a3be718275",
   "metadata": {},
   "outputs": [
    {
     "data": {
      "text/plain": [
       "(21118, 129)"
      ]
     },
     "execution_count": 262,
     "metadata": {},
     "output_type": "execute_result"
    }
   ],
   "source": [
    "# test_raw['customer_id'] = test_raw['customer_id'].asfactor()\n",
    "# test = test_raw.merge(sample_customers, all_x=False, all_y=False)\n",
    "# test['customer_id'] = test['customer_id'].ascharacter()\n",
    "# test.shape"
   ]
  },
  {
   "cell_type": "markdown",
   "id": "daa8d997-767e-46ff-9439-b150f1d79ec0",
   "metadata": {},
   "source": [
    "#### Test data set: Label setting"
   ]
  },
  {
   "cell_type": "code",
   "execution_count": 306,
   "id": "95f08cf9-2abf-4502-b948-751d46cb4ba5",
   "metadata": {},
   "outputs": [],
   "source": [
    "# test label settings\n",
    "test[test[RESPONSE_COL].isin(POSITIVE_LABELS), RESPONSE_COL] = '1'\n",
    "test[test[RESPONSE_COL].isin(NEGATIVE_LABELS), RESPONSE_COL] = '0'\n",
    "\n",
    "test[RESPONSE_COL] = test[RESPONSE_COL].asfactor()"
   ]
  },
  {
   "cell_type": "markdown",
   "id": "fb440667-9bac-4315-b9d3-66642fa7af4d",
   "metadata": {},
   "source": [
    "### Load Champion Prediction\n",
    "- champion scores: champion_prediction_20210831_20210930_all\n",
    "- chmpion source table: `massive-clone-705.model_output.model_output_no_domain_conversioncspo_ned_201808_201904_null_*`\n",
    "- target table: `zulilymodeltraining.greenfield.tf_classification_test_targets_v04_all_imp`\n",
    "- periods: from 2021-08-31 to 2021-09-30\n",
    "- table_view of all champion: `zulilymodeltraining.jskim_model_data.champion_prediction_20210831_20210930_data`\n",
    "- table view of joinng champion and target_test: `zulilymodeltraining.jskim_model_data.test_target_v04_all_imp_champion_prediction_data`"
   ]
  },
  {
   "cell_type": "code",
   "execution_count": 150,
   "id": "bc2aacff-349e-4cb4-ac13-8432c7873fa7",
   "metadata": {},
   "outputs": [
    {
     "name": "stderr",
     "output_type": "stream",
     "text": [
      "Query complete after 0.00s: 100%|██████████| 2/2 [00:00<00:00, 875.55query/s]                         \n",
      "Downloading: 100%|██████████| 1473429/1473429 [00:03<00:00, 449303.49rows/s] \n"
     ]
    }
   ],
   "source": [
    "# %%bigquery champion_scores\n",
    "# SELECT customer_id, send_date, event_id, predict_champion\n",
    "# FROM `zulilymodeltraining.jskim_model_data.test_target_v04_all_imp_champion_prediction_data`"
   ]
  },
  {
   "cell_type": "code",
   "execution_count": 151,
   "id": "30d71687-dd45-4beb-aab0-a8a8d169a9ff",
   "metadata": {},
   "outputs": [
    {
     "data": {
      "text/html": [
       "<div>\n",
       "<style scoped>\n",
       "    .dataframe tbody tr th:only-of-type {\n",
       "        vertical-align: middle;\n",
       "    }\n",
       "\n",
       "    .dataframe tbody tr th {\n",
       "        vertical-align: top;\n",
       "    }\n",
       "\n",
       "    .dataframe thead th {\n",
       "        text-align: right;\n",
       "    }\n",
       "</style>\n",
       "<table border=\"1\" class=\"dataframe\">\n",
       "  <thead>\n",
       "    <tr style=\"text-align: right;\">\n",
       "      <th></th>\n",
       "      <th>customer_id</th>\n",
       "      <th>send_date</th>\n",
       "      <th>event_id</th>\n",
       "      <th>predict_champion</th>\n",
       "      <th>champion</th>\n",
       "    </tr>\n",
       "  </thead>\n",
       "  <tbody>\n",
       "    <tr>\n",
       "      <th>0</th>\n",
       "      <td>76826391</td>\n",
       "      <td>2021-08-31</td>\n",
       "      <td>509797</td>\n",
       "      <td>0.0012014651298523082</td>\n",
       "      <td>1</td>\n",
       "    </tr>\n",
       "    <tr>\n",
       "      <th>1</th>\n",
       "      <td>76826391</td>\n",
       "      <td>2021-08-31</td>\n",
       "      <td>519520</td>\n",
       "      <td>0.00098797559738161844</td>\n",
       "      <td>1</td>\n",
       "    </tr>\n",
       "  </tbody>\n",
       "</table>\n",
       "</div>"
      ],
      "text/plain": [
       "  customer_id   send_date event_id        predict_champion  champion\n",
       "0    76826391  2021-08-31   509797   0.0012014651298523082         1\n",
       "1    76826391  2021-08-31   519520  0.00098797559738161844         1"
      ]
     },
     "execution_count": 151,
     "metadata": {},
     "output_type": "execute_result"
    }
   ],
   "source": [
    "# champion_scores.head(2)"
   ]
  },
  {
   "cell_type": "code",
   "execution_count": 174,
   "id": "d6e1de0a-fdf1-4ef5-8b48-4034d0771340",
   "metadata": {},
   "outputs": [],
   "source": [
    "# champion_customers = champion_scores[['customer_id']].drop_duplicates().customer_id.tolist()"
   ]
  },
  {
   "cell_type": "markdown",
   "id": "8fe878d5-28e6-404c-ba91-4e743d26f5cd",
   "metadata": {},
   "source": [
    "### Predict Test data set"
   ]
  },
  {
   "cell_type": "markdown",
   "id": "b0e27e17-590e-46e4-9477-e322d36f4545",
   "metadata": {
    "tags": []
   },
   "source": [
    "##### Predictions"
   ]
  },
  {
   "cell_type": "code",
   "execution_count": 307,
   "id": "634b01bc-6b43-493b-8de3-7a4db2576785",
   "metadata": {},
   "outputs": [
    {
     "name": "stdout",
     "output_type": "stream",
     "text": [
      "drf prediction progress: |████████████████████████████████████████████████| 100%\n"
     ]
    },
    {
     "name": "stderr",
     "output_type": "stream",
     "text": [
      "/opt/conda/lib/python3.8/site-packages/h2o/job.py:70: UserWarning: Test/Validation dataset column 'event_age_null' has levels not trained on: [0.4, 0.46]\n",
      "  warnings.warn(w)\n",
      "/opt/conda/lib/python3.8/site-packages/h2o/job.py:70: UserWarning: Test/Validation dataset column 'event_gender_null' has levels not trained on: [0.4, 0.41]\n",
      "  warnings.warn(w)\n"
     ]
    },
    {
     "name": "stdout",
     "output_type": "stream",
     "text": [
      "CPU times: user 477 ms, sys: 13.9 ms, total: 491 ms\n",
      "Wall time: 3.54 s\n"
     ]
    }
   ],
   "source": [
    "%%time\n",
    "test_pred = model.predict(test_data=test)\n",
    "# test = model.predict(test_data=test)"
   ]
  },
  {
   "cell_type": "code",
   "execution_count": 308,
   "id": "71536a38-081e-4192-85be-c8b04f86b7a8",
   "metadata": {
    "tags": []
   },
   "outputs": [
    {
     "data": {
      "text/plain": [
       "(1473429, 3)"
      ]
     },
     "execution_count": 308,
     "metadata": {},
     "output_type": "execute_result"
    }
   ],
   "source": [
    "test_pred.shape"
   ]
  },
  {
   "cell_type": "markdown",
   "id": "383ab19f-21ef-4cdf-82a7-664b896bddd0",
   "metadata": {
    "tags": []
   },
   "source": [
    "##### Converting predictions"
   ]
  },
  {
   "cell_type": "code",
   "execution_count": 120,
   "id": "d6b838fc-2bdd-4e3c-a154-11edaccb5e98",
   "metadata": {
    "tags": []
   },
   "outputs": [],
   "source": [
    "# # Get predicted labels for new data\n",
    "# pred_results = test[['customer_id','send_date', 'event_id', 'event_name', 'is_nt_event', 'is_branded_event', 'label']].cbind(test_pred)"
   ]
  },
  {
   "cell_type": "code",
   "execution_count": 309,
   "id": "90324d7c-a37e-4fc9-89fd-fdfc251b3e45",
   "metadata": {
    "tags": []
   },
   "outputs": [],
   "source": [
    "# Get predicted labels for new data - Champion prediction\n",
    "pred_results = test[['customer_id','send_date', 'event_id', 'event_name', 'is_nt_event', 'is_branded_event', 'label','predict']]\n",
    "pred_results['predict_champion'] = pred_results['predict']\n",
    "pred_results = pred_results.drop('predict')\n",
    "pred_results = pred_results.cbind(test_pred)"
   ]
  },
  {
   "cell_type": "code",
   "execution_count": null,
   "id": "406f162c-a019-499c-8184-3235c92c6bcf",
   "metadata": {},
   "outputs": [],
   "source": []
  },
  {
   "cell_type": "code",
   "execution_count": 310,
   "id": "4f5c99dd-5fbb-4c93-a354-d4dd3d84153b",
   "metadata": {},
   "outputs": [
    {
     "name": "stdout",
     "output_type": "stream",
     "text": [
      "CPU times: user 8min 10s, sys: 9.94 s, total: 8min 20s\n",
      "Wall time: 8min 27s\n"
     ]
    }
   ],
   "source": [
    "%%time\n",
    "# Convert h2o frame of the predicted result to pandas dataframe\n",
    "# multi GB will cause too much delay => manualy save to CSV from H2O Flow and import to pandas\n",
    "# pred_results_df =pred_results[0:100,:].as_data_frame()\n",
    "# pred_results_df =h2o.as_list(pred_results[0:100,:])\n",
    "# pred_results_df = h2o.as_list(\n",
    "#     pred_results[pred_results['customer_id'].isin(sample_customers), :]\n",
    "# )\n",
    "\n",
    "# pred_results_df = h2o.as_list(\n",
    "#     pred_results[pred_results['send_date'].isin(['2021-09-24', '2021-09-25', '2021-09-26']), :]\n",
    "# )\n",
    "\n",
    "pred_results_df = h2o.as_list(pred_results)\n"
   ]
  },
  {
   "cell_type": "code",
   "execution_count": 312,
   "id": "7fb85d72-20e7-4605-90ae-cd5fd393da14",
   "metadata": {},
   "outputs": [
    {
     "data": {
      "text/plain": [
       "(1473429, 11)"
      ]
     },
     "execution_count": 312,
     "metadata": {},
     "output_type": "execute_result"
    }
   ],
   "source": [
    "pred_results_df.shape"
   ]
  },
  {
   "cell_type": "code",
   "execution_count": 313,
   "id": "b3935f1a-300e-49df-b638-8721047d0446",
   "metadata": {
    "tags": []
   },
   "outputs": [],
   "source": [
    "# Get true labels for new data\n",
    "# convert labes and predictions to numpy array\n",
    "# true labels\n",
    "true_labels = pred_results_df['label'].to_numpy()\n",
    "# predicted labels\n",
    "pred_indices = pred_results_df['predict'].to_numpy()\n",
    "# prediction scores\n",
    "pred_indices_raw = pred_results_df['p1'].to_numpy()"
   ]
  },
  {
   "cell_type": "code",
   "execution_count": 314,
   "id": "13e99dc5-87d7-4b01-baad-a49ca6cec4c2",
   "metadata": {},
   "outputs": [
    {
     "data": {
      "text/html": [
       "<div>\n",
       "<style scoped>\n",
       "    .dataframe tbody tr th:only-of-type {\n",
       "        vertical-align: middle;\n",
       "    }\n",
       "\n",
       "    .dataframe tbody tr th {\n",
       "        vertical-align: top;\n",
       "    }\n",
       "\n",
       "    .dataframe thead th {\n",
       "        text-align: right;\n",
       "    }\n",
       "</style>\n",
       "<table border=\"1\" class=\"dataframe\">\n",
       "  <thead>\n",
       "    <tr style=\"text-align: right;\">\n",
       "      <th></th>\n",
       "      <th>customer_id</th>\n",
       "      <th>send_date</th>\n",
       "      <th>event_id</th>\n",
       "      <th>event_name</th>\n",
       "      <th>is_nt_event</th>\n",
       "      <th>is_branded_event</th>\n",
       "      <th>label</th>\n",
       "      <th>predict_champion</th>\n",
       "      <th>predict</th>\n",
       "      <th>p0</th>\n",
       "      <th>p1</th>\n",
       "      <th>events_count</th>\n",
       "    </tr>\n",
       "  </thead>\n",
       "  <tbody>\n",
       "    <tr>\n",
       "      <th>0</th>\n",
       "      <td>9133314</td>\n",
       "      <td>2021-09-05</td>\n",
       "      <td>442499</td>\n",
       "      <td>martha stewart: shop all</td>\n",
       "      <td>0</td>\n",
       "      <td>0</td>\n",
       "      <td>1</td>\n",
       "      <td>0.005585</td>\n",
       "      <td>1</td>\n",
       "      <td>0.044256</td>\n",
       "      <td>0.955744</td>\n",
       "      <td>97</td>\n",
       "    </tr>\n",
       "    <tr>\n",
       "      <th>1</th>\n",
       "      <td>100014254</td>\n",
       "      <td>2021-09-08</td>\n",
       "      <td>442499</td>\n",
       "      <td>martha stewart: shop all</td>\n",
       "      <td>0</td>\n",
       "      <td>0</td>\n",
       "      <td>0</td>\n",
       "      <td>0.003147</td>\n",
       "      <td>1</td>\n",
       "      <td>0.203832</td>\n",
       "      <td>0.796168</td>\n",
       "      <td>38</td>\n",
       "    </tr>\n",
       "    <tr>\n",
       "      <th>2</th>\n",
       "      <td>73913386</td>\n",
       "      <td>2021-09-23</td>\n",
       "      <td>468693</td>\n",
       "      <td>plus &amp; more</td>\n",
       "      <td>0</td>\n",
       "      <td>0</td>\n",
       "      <td>0</td>\n",
       "      <td>0.006101</td>\n",
       "      <td>1</td>\n",
       "      <td>0.069663</td>\n",
       "      <td>0.930337</td>\n",
       "      <td>120</td>\n",
       "    </tr>\n",
       "    <tr>\n",
       "      <th>3</th>\n",
       "      <td>84263892</td>\n",
       "      <td>2021-09-23</td>\n",
       "      <td>468693</td>\n",
       "      <td>plus &amp; more</td>\n",
       "      <td>0</td>\n",
       "      <td>0</td>\n",
       "      <td>1</td>\n",
       "      <td>0.004463</td>\n",
       "      <td>1</td>\n",
       "      <td>0.266840</td>\n",
       "      <td>0.733160</td>\n",
       "      <td>175</td>\n",
       "    </tr>\n",
       "    <tr>\n",
       "      <th>4</th>\n",
       "      <td>7284130</td>\n",
       "      <td>2021-09-22</td>\n",
       "      <td>468693</td>\n",
       "      <td>plus &amp; more</td>\n",
       "      <td>1</td>\n",
       "      <td>0</td>\n",
       "      <td>0</td>\n",
       "      <td>0.002476</td>\n",
       "      <td>1</td>\n",
       "      <td>0.080025</td>\n",
       "      <td>0.919975</td>\n",
       "      <td>80</td>\n",
       "    </tr>\n",
       "  </tbody>\n",
       "</table>\n",
       "</div>"
      ],
      "text/plain": [
       "   customer_id   send_date  event_id                event_name  is_nt_event  \\\n",
       "0      9133314  2021-09-05    442499  martha stewart: shop all            0   \n",
       "1    100014254  2021-09-08    442499  martha stewart: shop all            0   \n",
       "2     73913386  2021-09-23    468693               plus & more            0   \n",
       "3     84263892  2021-09-23    468693               plus & more            0   \n",
       "4      7284130  2021-09-22    468693               plus & more            1   \n",
       "\n",
       "   is_branded_event  label  predict_champion  predict        p0        p1  \\\n",
       "0                 0      1          0.005585        1  0.044256  0.955744   \n",
       "1                 0      0          0.003147        1  0.203832  0.796168   \n",
       "2                 0      0          0.006101        1  0.069663  0.930337   \n",
       "3                 0      1          0.004463        1  0.266840  0.733160   \n",
       "4                 0      0          0.002476        1  0.080025  0.919975   \n",
       "\n",
       "   events_count  \n",
       "0            97  \n",
       "1            38  \n",
       "2           120  \n",
       "3           175  \n",
       "4            80  "
      ]
     },
     "execution_count": 314,
     "metadata": {},
     "output_type": "execute_result"
    }
   ],
   "source": [
    "# Select customer and send date with minimum number of events in the sort. \n",
    "pred_results_df['events_count'] = pred_results_df.groupby(['customer_id', 'send_date'])[['event_id']].transform('count')\n",
    "\n",
    "model_results_df = pred_results_df[pred_results_df.events_count >= 20].copy()\n",
    "model_results_df.head()"
   ]
  },
  {
   "cell_type": "code",
   "execution_count": 315,
   "id": "111a6d39-f584-41a4-93f0-2b57760b4114",
   "metadata": {},
   "outputs": [
    {
     "data": {
      "text/plain": [
       "(1359029, 12)"
      ]
     },
     "execution_count": 315,
     "metadata": {},
     "output_type": "execute_result"
    }
   ],
   "source": [
    "model_results_df.shape"
   ]
  },
  {
   "cell_type": "markdown",
   "id": "27b503f0-d913-4b9a-a560-fee3599ab470",
   "metadata": {},
   "source": [
    "### Model Performance Evaluation"
   ]
  },
  {
   "cell_type": "code",
   "execution_count": 316,
   "id": "dcb6db58-b9d5-4a41-a802-751c278364c9",
   "metadata": {},
   "outputs": [],
   "source": [
    "# Parameters for Hit Rate and NDCG metrics\n",
    "MAX_RANK = 20\n",
    "Evaluation_Rank = [10]\n",
    "CHAMPION_SCORE_COL = 'predict_champion'\n",
    "MODEL_SCORE_COL = 'p1'"
   ]
  },
  {
   "cell_type": "code",
   "execution_count": 317,
   "id": "a2fe7fd2-e6ab-4edd-be6d-e0fee147ce3f",
   "metadata": {},
   "outputs": [
    {
     "data": {
      "text/plain": [
       "'label'"
      ]
     },
     "execution_count": 317,
     "metadata": {},
     "output_type": "execute_result"
    }
   ],
   "source": [
    "RESPONSE_COL"
   ]
  },
  {
   "cell_type": "markdown",
   "id": "e846f058-36a2-4a6a-b4c3-d19a24d17133",
   "metadata": {},
   "source": [
    "#### LTR and NDCG of the Champion Model"
   ]
  },
  {
   "cell_type": "code",
   "execution_count": 318,
   "id": "80a92537-dee7-4791-838b-7dc408eaab78",
   "metadata": {},
   "outputs": [
    {
     "ename": "ValueError",
     "evalue": "Length mismatch: Expected axis has 31 elements, new values have 3 elements",
     "output_type": "error",
     "traceback": [
      "\u001b[0;31m---------------------------------------------------------------------------\u001b[0m",
      "\u001b[0;31mValueError\u001b[0m                                Traceback (most recent call last)",
      "\u001b[0;32m<ipython-input-318-e2f77865401d>\u001b[0m in \u001b[0;36m<module>\u001b[0;34m\u001b[0m\n\u001b[1;32m     13\u001b[0m         \u001b[0mchampion_model_ndcg_df\u001b[0m\u001b[0;34m.\u001b[0m\u001b[0mloc\u001b[0m\u001b[0;34m[\u001b[0m\u001b[0mdate\u001b[0m\u001b[0;34m,\u001b[0m \u001b[0;34mf'champion_model_ndcg_k_{kk}'\u001b[0m\u001b[0;34m]\u001b[0m \u001b[0;34m=\u001b[0m \u001b[0mmodel_ndcg\u001b[0m\u001b[0;34m[\u001b[0m\u001b[0mkk\u001b[0m\u001b[0;34m-\u001b[0m\u001b[0;36m1\u001b[0m\u001b[0;34m]\u001b[0m\u001b[0;34m\u001b[0m\u001b[0;34m\u001b[0m\u001b[0m\n\u001b[1;32m     14\u001b[0m \u001b[0;34m\u001b[0m\u001b[0m\n\u001b[0;32m---> 15\u001b[0;31m \u001b[0mchampion_model_hit_rate_df\u001b[0m\u001b[0;34m.\u001b[0m\u001b[0mindex\u001b[0m \u001b[0;34m=\u001b[0m \u001b[0mpd\u001b[0m\u001b[0;34m.\u001b[0m\u001b[0mto_datetime\u001b[0m\u001b[0;34m(\u001b[0m\u001b[0mmodel_hit_rate_df\u001b[0m\u001b[0;34m.\u001b[0m\u001b[0mindex\u001b[0m\u001b[0;34m)\u001b[0m\u001b[0;34m\u001b[0m\u001b[0;34m\u001b[0m\u001b[0m\n\u001b[0m\u001b[1;32m     16\u001b[0m \u001b[0mchampion_model_ndcg_df\u001b[0m\u001b[0;34m.\u001b[0m\u001b[0mindex\u001b[0m \u001b[0;34m=\u001b[0m \u001b[0mpd\u001b[0m\u001b[0;34m.\u001b[0m\u001b[0mto_datetime\u001b[0m\u001b[0;34m(\u001b[0m\u001b[0mmodel_ndcg_df\u001b[0m\u001b[0;34m.\u001b[0m\u001b[0mindex\u001b[0m\u001b[0;34m)\u001b[0m\u001b[0;34m\u001b[0m\u001b[0;34m\u001b[0m\u001b[0m\n",
      "\u001b[0;32m/opt/conda/lib/python3.8/site-packages/pandas/core/generic.py\u001b[0m in \u001b[0;36m__setattr__\u001b[0;34m(self, name, value)\u001b[0m\n\u001b[1;32m   5476\u001b[0m         \u001b[0;32mtry\u001b[0m\u001b[0;34m:\u001b[0m\u001b[0;34m\u001b[0m\u001b[0;34m\u001b[0m\u001b[0m\n\u001b[1;32m   5477\u001b[0m             \u001b[0mobject\u001b[0m\u001b[0;34m.\u001b[0m\u001b[0m__getattribute__\u001b[0m\u001b[0;34m(\u001b[0m\u001b[0mself\u001b[0m\u001b[0;34m,\u001b[0m \u001b[0mname\u001b[0m\u001b[0;34m)\u001b[0m\u001b[0;34m\u001b[0m\u001b[0;34m\u001b[0m\u001b[0m\n\u001b[0;32m-> 5478\u001b[0;31m             \u001b[0;32mreturn\u001b[0m \u001b[0mobject\u001b[0m\u001b[0;34m.\u001b[0m\u001b[0m__setattr__\u001b[0m\u001b[0;34m(\u001b[0m\u001b[0mself\u001b[0m\u001b[0;34m,\u001b[0m \u001b[0mname\u001b[0m\u001b[0;34m,\u001b[0m \u001b[0mvalue\u001b[0m\u001b[0;34m)\u001b[0m\u001b[0;34m\u001b[0m\u001b[0;34m\u001b[0m\u001b[0m\n\u001b[0m\u001b[1;32m   5479\u001b[0m         \u001b[0;32mexcept\u001b[0m \u001b[0mAttributeError\u001b[0m\u001b[0;34m:\u001b[0m\u001b[0;34m\u001b[0m\u001b[0;34m\u001b[0m\u001b[0m\n\u001b[1;32m   5480\u001b[0m             \u001b[0;32mpass\u001b[0m\u001b[0;34m\u001b[0m\u001b[0;34m\u001b[0m\u001b[0m\n",
      "\u001b[0;32mpandas/_libs/properties.pyx\u001b[0m in \u001b[0;36mpandas._libs.properties.AxisProperty.__set__\u001b[0;34m()\u001b[0m\n",
      "\u001b[0;32m/opt/conda/lib/python3.8/site-packages/pandas/core/generic.py\u001b[0m in \u001b[0;36m_set_axis\u001b[0;34m(self, axis, labels)\u001b[0m\n\u001b[1;32m    668\u001b[0m     \u001b[0;32mdef\u001b[0m \u001b[0m_set_axis\u001b[0m\u001b[0;34m(\u001b[0m\u001b[0mself\u001b[0m\u001b[0;34m,\u001b[0m \u001b[0maxis\u001b[0m\u001b[0;34m:\u001b[0m \u001b[0mint\u001b[0m\u001b[0;34m,\u001b[0m \u001b[0mlabels\u001b[0m\u001b[0;34m:\u001b[0m \u001b[0mIndex\u001b[0m\u001b[0;34m)\u001b[0m \u001b[0;34m->\u001b[0m \u001b[0;32mNone\u001b[0m\u001b[0;34m:\u001b[0m\u001b[0;34m\u001b[0m\u001b[0;34m\u001b[0m\u001b[0m\n\u001b[1;32m    669\u001b[0m         \u001b[0mlabels\u001b[0m \u001b[0;34m=\u001b[0m \u001b[0mensure_index\u001b[0m\u001b[0;34m(\u001b[0m\u001b[0mlabels\u001b[0m\u001b[0;34m)\u001b[0m\u001b[0;34m\u001b[0m\u001b[0;34m\u001b[0m\u001b[0m\n\u001b[0;32m--> 670\u001b[0;31m         \u001b[0mself\u001b[0m\u001b[0;34m.\u001b[0m\u001b[0m_mgr\u001b[0m\u001b[0;34m.\u001b[0m\u001b[0mset_axis\u001b[0m\u001b[0;34m(\u001b[0m\u001b[0maxis\u001b[0m\u001b[0;34m,\u001b[0m \u001b[0mlabels\u001b[0m\u001b[0;34m)\u001b[0m\u001b[0;34m\u001b[0m\u001b[0;34m\u001b[0m\u001b[0m\n\u001b[0m\u001b[1;32m    671\u001b[0m         \u001b[0mself\u001b[0m\u001b[0;34m.\u001b[0m\u001b[0m_clear_item_cache\u001b[0m\u001b[0;34m(\u001b[0m\u001b[0;34m)\u001b[0m\u001b[0;34m\u001b[0m\u001b[0;34m\u001b[0m\u001b[0m\n\u001b[1;32m    672\u001b[0m \u001b[0;34m\u001b[0m\u001b[0m\n",
      "\u001b[0;32m/opt/conda/lib/python3.8/site-packages/pandas/core/internals/managers.py\u001b[0m in \u001b[0;36mset_axis\u001b[0;34m(self, axis, new_labels)\u001b[0m\n\u001b[1;32m    218\u001b[0m \u001b[0;34m\u001b[0m\u001b[0m\n\u001b[1;32m    219\u001b[0m         \u001b[0;32mif\u001b[0m \u001b[0mnew_len\u001b[0m \u001b[0;34m!=\u001b[0m \u001b[0mold_len\u001b[0m\u001b[0;34m:\u001b[0m\u001b[0;34m\u001b[0m\u001b[0;34m\u001b[0m\u001b[0m\n\u001b[0;32m--> 220\u001b[0;31m             raise ValueError(\n\u001b[0m\u001b[1;32m    221\u001b[0m                 \u001b[0;34mf\"Length mismatch: Expected axis has {old_len} elements, new \"\u001b[0m\u001b[0;34m\u001b[0m\u001b[0;34m\u001b[0m\u001b[0m\n\u001b[1;32m    222\u001b[0m                 \u001b[0;34mf\"values have {new_len} elements\"\u001b[0m\u001b[0;34m\u001b[0m\u001b[0;34m\u001b[0m\u001b[0m\n",
      "\u001b[0;31mValueError\u001b[0m: Length mismatch: Expected axis has 31 elements, new values have 3 elements"
     ]
    }
   ],
   "source": [
    "# Call the function to evaluate LTR metrics\n",
    "champion_model_hit_rate_df = pd.DataFrame()\n",
    "champion_model_ndcg_df = pd.DataFrame()\n",
    "\n",
    "for  date, g_df in model_results_df.groupby('send_date'):\n",
    "    model_hit_rate, model_ndcg = evaluation_utilities.get_ltr_metrics(\n",
    "                                        model_results_df=g_df,\n",
    "                                        K=MAX_RANK,\n",
    "                                        target_column=RESPONSE_COL,\n",
    "                                        score_column=CHAMPION_SCORE_COL)\n",
    "    for kk in range(1,len(model_hit_rate)+1):\n",
    "        champion_model_hit_rate_df.loc[date, f'champion_model_hit_rate_k_{kk}'] = model_hit_rate[kk-1]\n",
    "        champion_model_ndcg_df.loc[date, f'champion_model_ndcg_k_{kk}'] = model_ndcg[kk-1]\n",
    "\n",
    "champion_model_hit_rate_df.index = pd.to_datetime(model_hit_rate_df.index)\n",
    "champion_model_ndcg_df.index = pd.to_datetime(model_ndcg_df.index)"
   ]
  },
  {
   "cell_type": "markdown",
   "id": "5c2da979-db8d-440b-be56-2c98e64a67d5",
   "metadata": {},
   "source": [
    "#### LTR and NDCG of the Trained Model"
   ]
  },
  {
   "cell_type": "code",
   "execution_count": null,
   "id": "f82c7ee5-bb41-4865-9cb2-e3aafb0c71e4",
   "metadata": {},
   "outputs": [],
   "source": [
    "# Evaluating LTR performance metrics\n",
    "MAX_RANK = 20\n",
    "Evaluation_Rank = [19]\n",
    "\n",
    "# Call the function to evaluate LTR metrics\n",
    "model_hit_rate_df = pd.DataFrame()\n",
    "model_ndcg_df = pd.DataFrame()\n",
    "for  date, g_df in model_results_df.groupby('send_date'):\n",
    "    model_hit_rate, model_ndcg = evaluation_utilities.get_ltr_metrics(\n",
    "                                        model_results_df=g_df,\n",
    "                                        K=MAX_RANK,\n",
    "                                        target_column=RESPONSE_COL,\n",
    "                                        score_column=MODEL_SCORE_COL)\n",
    "    for kk in range(1,len(model_hit_rate)+1):\n",
    "        model_hit_rate_df.loc[date, f'model_hit_rate_k_{kk}'] = model_hit_rate[kk-1]\n",
    "        model_ndcg_df.loc[date, f'model_ndcg_k_{kk}'] = model_ndcg[kk-1]\n",
    "\n",
    "model_hit_rate_df.index = pd.to_datetime(model_hit_rate_df.index)\n",
    "model_ndcg_df.index = pd.to_datetime(model_ndcg_df.index)"
   ]
  },
  {
   "cell_type": "markdown",
   "id": "911fb184-89d0-45a6-95a1-a567663f65de",
   "metadata": {},
   "source": [
    "#### Plotting LTR and NDCG of the Champion and Trained Model"
   ]
  },
  {
   "cell_type": "code",
   "execution_count": null,
   "id": "f3daa4d0-1866-4004-96c0-38f8f9463469",
   "metadata": {},
   "outputs": [],
   "source": [
    "# Select rank columns to plot\n",
    "hit_cols = \\\n",
    "    [f'champion_model_hit_rate_k_{kk}' for kk in Evaluation_Rank] + \\\n",
    "    [f'model_hit_rate_k_{kk}' for kk in Evaluation_Rank]\n",
    "\n",
    "ngcg_cols = \\\n",
    "    [f'champion_model_ndcg_k_{kk}' for kk in Evaluation_Rank] + \\\n",
    "    [f'model_ndcg_k_{kk}' for kk in Evaluation_Rank]"
   ]
  },
  {
   "cell_type": "code",
   "execution_count": null,
   "id": "79393cc3-284a-448b-a9c2-4fa544c279e0",
   "metadata": {},
   "outputs": [],
   "source": [
    "# merge champion and trained model hit and ndcg metrics\n",
    "all_model_hit_rate_df = pd.concat([champion_model_hit_rate_df, model_hit_rate_df], axis=1)[hit_cols]\n",
    "all_model_ndcg_df = pd.concat([champion_model_ndcg_df, model_ndcg_df], axis=1)[ngcg_cols]"
   ]
  },
  {
   "cell_type": "code",
   "execution_count": null,
   "id": "532f522b-647a-4726-a6c1-679aa189c5f7",
   "metadata": {},
   "outputs": [],
   "source": [
    "def plot_hitrate(df, save=False, log_artifact=False):\n",
    "    figure = plt.figure(figsize=(8, 5))\n",
    "    max_val = df.max().max()\n",
    "    \n",
    "    for col in df.columns:\n",
    "        plt.plot(df[col], '*-', label=col)\n",
    "\n",
    "    plt.ylabel('HR@K')\n",
    "    plt.xlabel('Dates')\n",
    "    plt.legend()\n",
    "    plt.grid(b=True)\n",
    "    \n",
    "    plt.ylim(0, max_val+0.5)\n",
    "\n",
    "    dtFmt = mdates.DateFormatter('%d\\n%b') # define the formatting\n",
    "    plt.gca().xaxis.set_major_formatter(dtFmt)\n",
    "    \n",
    "    if save:\n",
    "        figure = plt.gcf()    \n",
    "        figure.savefig('/tmp/plots/hitrate.png')\n",
    "        \n",
    "    if log_artifact:\n",
    "        modeldb_expt_run.log_artifact('Hit_Rate_Plot', '/tmp/plots/hitrate.png', overwrite=True)"
   ]
  },
  {
   "cell_type": "code",
   "execution_count": null,
   "id": "ae62bdc8-5dd7-40c2-a779-9375fdc721bf",
   "metadata": {},
   "outputs": [],
   "source": [
    "plot_hitrate(all_model_hit_rate_df, save=False, log_artifact=False)"
   ]
  },
  {
   "cell_type": "code",
   "execution_count": null,
   "id": "f58d9a78-583b-4043-9dfd-b94b5897d159",
   "metadata": {},
   "outputs": [],
   "source": [
    "def plot_ndcg(df, save=False, log_artifact=False):\n",
    "    figure = plt.figure(figsize=(8, 5))\n",
    "\n",
    "    for col in df.columns:\n",
    "        plt.plot(df[col], '*-', label=col)\n",
    "\n",
    "    plt.ylabel('NDCG@K')\n",
    "    plt.xlabel('Dates')\n",
    "    plt.legend()\n",
    "    plt.grid(b=True)\n",
    "    \n",
    "    plt.ylim(0, 1)\n",
    "\n",
    "    dtFmt = mdates.DateFormatter('%d\\n%b') # define the formatting\n",
    "    plt.gca().xaxis.set_major_formatter(dtFmt)\n",
    "\n",
    "    if save:\n",
    "        figure = plt.gcf()    \n",
    "        figure.savefig('/tmp/plots/ndcg.png')\n",
    "        \n",
    "    if log_artifact:\n",
    "        modeldb_expt_run.log_artifact('NDCG_Plot', '/tmp/plots/ndcg.png', overwrite=True)"
   ]
  },
  {
   "cell_type": "code",
   "execution_count": null,
   "id": "930e451b-a2b1-4979-bad7-38fbad3c0371",
   "metadata": {},
   "outputs": [],
   "source": [
    "plot_ndcg(df=all_model_ndcg_df, save=False, log_artifact=False)"
   ]
  },
  {
   "cell_type": "code",
   "execution_count": 287,
   "id": "1b6b0d4b-efb6-440b-ba20-6fdfb0aea3a4",
   "metadata": {},
   "outputs": [
    {
     "name": "stdout",
     "output_type": "stream",
     "text": [
      "              precision    recall  f1-score   support\n",
      "\n",
      "     class 0       0.95      0.05      0.10    135090\n",
      "     class 1       0.13      0.98      0.23     20078\n",
      "\n",
      "    accuracy                           0.17    155168\n",
      "   macro avg       0.54      0.52      0.17    155168\n",
      "weighted avg       0.84      0.17      0.11    155168\n",
      "\n"
     ]
    }
   ],
   "source": [
    "print(classification_report(true_labels, pred_indices, target_names = TARGET_NAMES, zero_division = 0))\n",
    "cr = classification_report(true_labels, pred_indices, target_names = TARGET_NAMES, zero_division=0, output_dict = True)\n",
    "class_0_recall = np.around(cr['class 0']['recall'], decimals=5)\n",
    "class_1_recall = np.around(cr['class 1']['recall'], decimals=5)"
   ]
  },
  {
   "cell_type": "code",
   "execution_count": 288,
   "id": "73768216-1b3b-4ac9-a16a-99ef79d0d4c3",
   "metadata": {},
   "outputs": [
    {
     "name": "stdout",
     "output_type": "stream",
     "text": [
      "              precision    recall  f1-score   support\n",
      "\n",
      "     class 0       0.95      0.05      0.10    135090\n",
      "     class 1       0.13      0.98      0.23     20078\n",
      "\n",
      "    accuracy                           0.17    155168\n",
      "   macro avg       0.54      0.52      0.17    155168\n",
      "weighted avg       0.84      0.17      0.11    155168\n",
      "\n",
      "upload complete (ROC)\n",
      "upload complete (PR)\n",
      "upload complete (confusion_matrix)\n",
      "upload complete (confusion_matrix_normalized)\n"
     ]
    },
    {
     "data": {
      "image/png": "[encoded data removed]",
      "text/plain": [
       "<Figure size 360x360 with 1 Axes>"
      ]
     },
     "metadata": {
      "needs_background": "light"
     },
     "output_type": "display_data"
    },
    {
     "data": {
      "image/png": "[encoded data removed]",
      "text/plain": [
       "<Figure size 360x360 with 1 Axes>"
      ]
     },
     "metadata": {
      "needs_background": "light"
     },
     "output_type": "display_data"
    },
    {
     "data": {
      "image/png": "[encoded data removed]",
      "text/plain": [
       "<Figure size 360x360 with 2 Axes>"
      ]
     },
     "metadata": {
      "needs_background": "light"
     },
     "output_type": "display_data"
    },
    {
     "data": {
      "image/png": "[encoded data removed]",
      "text/plain": [
       "<Figure size 360x360 with 2 Axes>"
      ]
     },
     "metadata": {
      "needs_background": "light"
     },
     "output_type": "display_data"
    }
   ],
   "source": [
    "# Print Some Performance Metrics\n",
    "print(classification_report(true_labels, pred_indices, target_names = TARGET_NAMES, zero_division = 0))\n",
    "cr = classification_report(true_labels, pred_indices, target_names = TARGET_NAMES, zero_division=0, output_dict = True)\n",
    "class_0_recall = np.around(cr['class 0']['recall'], decimals=5)\n",
    "class_1_recall = np.around(cr['class 1']['recall'], decimals=5)\n",
    "modeldb_expt_run.log_metrics({'Recall_Class_0': class_0_recall, 'Recall_Class_1': class_1_recall, }, overwrite=True)\n",
    "\n",
    "# Create ROC curve\n",
    "figure = plt.figure(figsize=(5, 5))\n",
    "fpr, tpr, thresholds = roc_curve(true_labels, pred_indices_raw)\n",
    "plt.plot(fpr, tpr)\n",
    "plt.title('ROC curve')\n",
    "plt.ylabel('TPR')\n",
    "plt.xlabel('FPR')\n",
    "plt.savefig('/tmp/plots/roc.png')\n",
    "modeldb_expt_run.log_artifact('ROC', '/tmp/plots/roc.png', overwrite=True)\n",
    "\n",
    "# Create PR curve\n",
    "figure = plt.figure(figsize=(5, 5))\n",
    "precision, recall, thresholds = precision_recall_curve(true_labels, pred_indices_raw)\n",
    "plt.plot(recall, precision)\n",
    "plt.title('PR curve')\n",
    "plt.ylabel('Precision')\n",
    "plt.xlabel('Recall')\n",
    "plt.savefig('/tmp/plots/pr.png')\n",
    "modeldb_expt_run.log_artifact('PR', '/tmp/plots/pr.png', overwrite=True)\n",
    "\n",
    "# Create confusion matrix\n",
    "cm = confusion_matrix(true_labels, pred_indices)\n",
    "cm_df = pd.DataFrame(cm, index = TARGET_NAMES, columns = TARGET_NAMES)\n",
    "cm_normalize_df = pd.DataFrame(normalize(cm, 'l1', axis = 1), index = TARGET_NAMES, columns = TARGET_NAMES)\n",
    "figure = plt.figure(figsize=(5, 5))\n",
    "svm = sns.heatmap(cm_df, annot=True,cmap=plt.cm.Blues)\n",
    "plt.tight_layout()\n",
    "plt.ylabel('True label')\n",
    "plt.xlabel('Predicted label')\n",
    "figure = svm.get_figure()    \n",
    "figure.savefig('/tmp/plots/cm.png')\n",
    "\n",
    "figure = plt.figure(figsize=(5, 5))\n",
    "svm = sns.heatmap(cm_normalize_df, annot=True,cmap=plt.cm.Blues)\n",
    "plt.tight_layout()\n",
    "plt.ylabel('True label')\n",
    "plt.xlabel('Predicted label')\n",
    "figure = svm.get_figure()    \n",
    "figure.savefig('/tmp/plots/cm_norm.png')\n",
    "\n",
    "# Saving confusion_matrix\n",
    "modeldb_expt_run.log_artifact('confusion_matrix', '/tmp/plots/cm.png', overwrite=True)\n",
    "modeldb_expt_run.log_artifact('confusion_matrix_normalized', '/tmp/plots/cm_norm.png', overwrite=True)\n"
   ]
  },
  {
   "cell_type": "code",
   "execution_count": null,
   "id": "57a4a4d5-b3f1-4b22-99f8-53b865dc55ce",
   "metadata": {},
   "outputs": [],
   "source": []
  }
 ],
 "metadata": {
  "kernelspec": {
   "display_name": "Python 3 (ipykernel)",
   "language": "python",
   "name": "python3"
  },
  "language_info": {
   "codemirror_mode": {
    "name": "ipython",
    "version": 3
   },
   "file_extension": ".py",
   "mimetype": "text/x-python",
   "name": "python",
   "nbconvert_exporter": "python",
   "pygments_lexer": "ipython3",
   "version": "3.8.13"
  },
  "toc-autonumbering": true,
  "toc-showcode": false,
  "toc-showmarkdowntxt": false
 },
 "nbformat": 4,
 "nbformat_minor": 5
}
